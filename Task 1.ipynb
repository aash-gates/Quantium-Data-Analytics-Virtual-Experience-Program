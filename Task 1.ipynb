{
  "nbformat": 4,
  "nbformat_minor": 0,
  "metadata": {
    "colab": {
      "name": "Task1.ipynb",
      "provenance": []
    },
    "kernelspec": {
      "name": "python3",
      "display_name": "Python 3"
    }
  },
  "cells": [
    {
      "cell_type": "markdown",
      "metadata": {
        "id": "AkqsmA64N2pv"
      },
      "source": [
        "#Task 1-Data Preparation and Customer Analytics\r\n",
        "Conduct analysis on your client's transaction dataset and identify customer purchasing behaviours to generate insights and provide commercial recommendations.\r\n",
        "\r\n",
        "**Background information for the task**\r\n",
        "\r\n",
        "We need to present a strategic recommendation to Julia that is supported by data which she can then use for the upcoming category review however to do so we need to analyse the data to understand the current purchasing trends and behaviours. The client is particularly interested in customer segments and their chip purchasing behaviour. Consider what metrics would help describe the customers’ purchasing behaviour. \r\n",
        "\r\n",
        "Main goals of this task are :\r\n",
        "\r\n",
        "\r\n",
        "1.   Examine transaction data - check for missing data, anomalies, outliers and clean them\r\n",
        "2.   Examine customer data - similar to above transaction data\r\n",
        "3.   Data analysis and customer segments - create charts and graphs, note trends and insights\r\n",
        "4.   Deep dive into customer segments - determine which segments should be targetted  \r\n",
        "\r\n",
        "\r\n",
        "\r\n"
      ]
    },
    {
      "cell_type": "code",
      "metadata": {
        "id": "XFzNuqYNN0cZ"
      },
      "source": [
        "import pandas as pd\r\n",
        "import seaborn as sns\r\n",
        "import matplotlib.pyplot as plt\r\n",
        "%matplotlib inline\r\n",
        "import numpy as np"
      ],
      "execution_count": 2,
      "outputs": []
    },
    {
      "cell_type": "code",
      "metadata": {
        "id": "TH30yJksQeW5"
      },
      "source": [
        "tran_data = pd.read_excel(\"/content/QVI_transaction_data.xlsx\")"
      ],
      "execution_count": 10,
      "outputs": []
    },
    {
      "cell_type": "code",
      "metadata": {
        "colab": {
          "base_uri": "https://localhost:8080/",
          "height": 196
        },
        "id": "wthswvpFQeUQ",
        "outputId": "bfc80fb0-2f58-4099-ac3b-bf3bf3a9fb0a"
      },
      "source": [
        "tran_data.head()"
      ],
      "execution_count": 12,
      "outputs": [
        {
          "output_type": "execute_result",
          "data": {
            "text/html": [
              "<div>\n",
              "<style scoped>\n",
              "    .dataframe tbody tr th:only-of-type {\n",
              "        vertical-align: middle;\n",
              "    }\n",
              "\n",
              "    .dataframe tbody tr th {\n",
              "        vertical-align: top;\n",
              "    }\n",
              "\n",
              "    .dataframe thead th {\n",
              "        text-align: right;\n",
              "    }\n",
              "</style>\n",
              "<table border=\"1\" class=\"dataframe\">\n",
              "  <thead>\n",
              "    <tr style=\"text-align: right;\">\n",
              "      <th></th>\n",
              "      <th>DATE</th>\n",
              "      <th>STORE_NBR</th>\n",
              "      <th>LYLTY_CARD_NBR</th>\n",
              "      <th>TXN_ID</th>\n",
              "      <th>PROD_NBR</th>\n",
              "      <th>PROD_NAME</th>\n",
              "      <th>PROD_QTY</th>\n",
              "      <th>TOT_SALES</th>\n",
              "    </tr>\n",
              "  </thead>\n",
              "  <tbody>\n",
              "    <tr>\n",
              "      <th>0</th>\n",
              "      <td>43390</td>\n",
              "      <td>1</td>\n",
              "      <td>1000</td>\n",
              "      <td>1</td>\n",
              "      <td>5</td>\n",
              "      <td>Natural Chip        Compny SeaSalt175g</td>\n",
              "      <td>2</td>\n",
              "      <td>6.0</td>\n",
              "    </tr>\n",
              "    <tr>\n",
              "      <th>1</th>\n",
              "      <td>43599</td>\n",
              "      <td>1</td>\n",
              "      <td>1307</td>\n",
              "      <td>348</td>\n",
              "      <td>66</td>\n",
              "      <td>CCs Nacho Cheese    175g</td>\n",
              "      <td>3</td>\n",
              "      <td>6.3</td>\n",
              "    </tr>\n",
              "    <tr>\n",
              "      <th>2</th>\n",
              "      <td>43605</td>\n",
              "      <td>1</td>\n",
              "      <td>1343</td>\n",
              "      <td>383</td>\n",
              "      <td>61</td>\n",
              "      <td>Smiths Crinkle Cut  Chips Chicken 170g</td>\n",
              "      <td>2</td>\n",
              "      <td>2.9</td>\n",
              "    </tr>\n",
              "    <tr>\n",
              "      <th>3</th>\n",
              "      <td>43329</td>\n",
              "      <td>2</td>\n",
              "      <td>2373</td>\n",
              "      <td>974</td>\n",
              "      <td>69</td>\n",
              "      <td>Smiths Chip Thinly  S/Cream&amp;Onion 175g</td>\n",
              "      <td>5</td>\n",
              "      <td>15.0</td>\n",
              "    </tr>\n",
              "    <tr>\n",
              "      <th>4</th>\n",
              "      <td>43330</td>\n",
              "      <td>2</td>\n",
              "      <td>2426</td>\n",
              "      <td>1038</td>\n",
              "      <td>108</td>\n",
              "      <td>Kettle Tortilla ChpsHny&amp;Jlpno Chili 150g</td>\n",
              "      <td>3</td>\n",
              "      <td>13.8</td>\n",
              "    </tr>\n",
              "  </tbody>\n",
              "</table>\n",
              "</div>"
            ],
            "text/plain": [
              "    DATE  STORE_NBR  ...  PROD_QTY  TOT_SALES\n",
              "0  43390          1  ...         2        6.0\n",
              "1  43599          1  ...         3        6.3\n",
              "2  43605          1  ...         2        2.9\n",
              "3  43329          2  ...         5       15.0\n",
              "4  43330          2  ...         3       13.8\n",
              "\n",
              "[5 rows x 8 columns]"
            ]
          },
          "metadata": {
            "tags": []
          },
          "execution_count": 12
        }
      ]
    },
    {
      "cell_type": "code",
      "metadata": {
        "colab": {
          "base_uri": "https://localhost:8080/",
          "height": 286
        },
        "id": "5qdYbzznQeQh",
        "outputId": "ee37abdb-78fa-4af1-8643-90f9678ffad6"
      },
      "source": [
        "tran_data.describe()"
      ],
      "execution_count": 13,
      "outputs": [
        {
          "output_type": "execute_result",
          "data": {
            "text/html": [
              "<div>\n",
              "<style scoped>\n",
              "    .dataframe tbody tr th:only-of-type {\n",
              "        vertical-align: middle;\n",
              "    }\n",
              "\n",
              "    .dataframe tbody tr th {\n",
              "        vertical-align: top;\n",
              "    }\n",
              "\n",
              "    .dataframe thead th {\n",
              "        text-align: right;\n",
              "    }\n",
              "</style>\n",
              "<table border=\"1\" class=\"dataframe\">\n",
              "  <thead>\n",
              "    <tr style=\"text-align: right;\">\n",
              "      <th></th>\n",
              "      <th>DATE</th>\n",
              "      <th>STORE_NBR</th>\n",
              "      <th>LYLTY_CARD_NBR</th>\n",
              "      <th>TXN_ID</th>\n",
              "      <th>PROD_NBR</th>\n",
              "      <th>PROD_QTY</th>\n",
              "      <th>TOT_SALES</th>\n",
              "    </tr>\n",
              "  </thead>\n",
              "  <tbody>\n",
              "    <tr>\n",
              "      <th>count</th>\n",
              "      <td>264836.000000</td>\n",
              "      <td>264836.00000</td>\n",
              "      <td>2.648360e+05</td>\n",
              "      <td>2.648360e+05</td>\n",
              "      <td>264836.000000</td>\n",
              "      <td>264836.000000</td>\n",
              "      <td>264836.000000</td>\n",
              "    </tr>\n",
              "    <tr>\n",
              "      <th>mean</th>\n",
              "      <td>43464.036260</td>\n",
              "      <td>135.08011</td>\n",
              "      <td>1.355495e+05</td>\n",
              "      <td>1.351583e+05</td>\n",
              "      <td>56.583157</td>\n",
              "      <td>1.907309</td>\n",
              "      <td>7.304200</td>\n",
              "    </tr>\n",
              "    <tr>\n",
              "      <th>std</th>\n",
              "      <td>105.389282</td>\n",
              "      <td>76.78418</td>\n",
              "      <td>8.057998e+04</td>\n",
              "      <td>7.813303e+04</td>\n",
              "      <td>32.826638</td>\n",
              "      <td>0.643654</td>\n",
              "      <td>3.083226</td>\n",
              "    </tr>\n",
              "    <tr>\n",
              "      <th>min</th>\n",
              "      <td>43282.000000</td>\n",
              "      <td>1.00000</td>\n",
              "      <td>1.000000e+03</td>\n",
              "      <td>1.000000e+00</td>\n",
              "      <td>1.000000</td>\n",
              "      <td>1.000000</td>\n",
              "      <td>1.500000</td>\n",
              "    </tr>\n",
              "    <tr>\n",
              "      <th>25%</th>\n",
              "      <td>43373.000000</td>\n",
              "      <td>70.00000</td>\n",
              "      <td>7.002100e+04</td>\n",
              "      <td>6.760150e+04</td>\n",
              "      <td>28.000000</td>\n",
              "      <td>2.000000</td>\n",
              "      <td>5.400000</td>\n",
              "    </tr>\n",
              "    <tr>\n",
              "      <th>50%</th>\n",
              "      <td>43464.000000</td>\n",
              "      <td>130.00000</td>\n",
              "      <td>1.303575e+05</td>\n",
              "      <td>1.351375e+05</td>\n",
              "      <td>56.000000</td>\n",
              "      <td>2.000000</td>\n",
              "      <td>7.400000</td>\n",
              "    </tr>\n",
              "    <tr>\n",
              "      <th>75%</th>\n",
              "      <td>43555.000000</td>\n",
              "      <td>203.00000</td>\n",
              "      <td>2.030942e+05</td>\n",
              "      <td>2.027012e+05</td>\n",
              "      <td>85.000000</td>\n",
              "      <td>2.000000</td>\n",
              "      <td>9.200000</td>\n",
              "    </tr>\n",
              "    <tr>\n",
              "      <th>max</th>\n",
              "      <td>43646.000000</td>\n",
              "      <td>272.00000</td>\n",
              "      <td>2.373711e+06</td>\n",
              "      <td>2.415841e+06</td>\n",
              "      <td>114.000000</td>\n",
              "      <td>200.000000</td>\n",
              "      <td>650.000000</td>\n",
              "    </tr>\n",
              "  </tbody>\n",
              "</table>\n",
              "</div>"
            ],
            "text/plain": [
              "                DATE     STORE_NBR  ...       PROD_QTY      TOT_SALES\n",
              "count  264836.000000  264836.00000  ...  264836.000000  264836.000000\n",
              "mean    43464.036260     135.08011  ...       1.907309       7.304200\n",
              "std       105.389282      76.78418  ...       0.643654       3.083226\n",
              "min     43282.000000       1.00000  ...       1.000000       1.500000\n",
              "25%     43373.000000      70.00000  ...       2.000000       5.400000\n",
              "50%     43464.000000     130.00000  ...       2.000000       7.400000\n",
              "75%     43555.000000     203.00000  ...       2.000000       9.200000\n",
              "max     43646.000000     272.00000  ...     200.000000     650.000000\n",
              "\n",
              "[8 rows x 7 columns]"
            ]
          },
          "metadata": {
            "tags": []
          },
          "execution_count": 13
        }
      ]
    },
    {
      "cell_type": "code",
      "metadata": {
        "id": "8NyE7_gGQeNt"
      },
      "source": [
        "pur_bvr = pd.read_csv(\"/content/QVI_purchase_behaviour.csv\")"
      ],
      "execution_count": 14,
      "outputs": []
    },
    {
      "cell_type": "code",
      "metadata": {
        "colab": {
          "base_uri": "https://localhost:8080/",
          "height": 196
        },
        "id": "0clUUZTYQeLT",
        "outputId": "31f94231-8e4e-4492-c6a5-df69a6309344"
      },
      "source": [
        "pur_bvr.head()"
      ],
      "execution_count": 15,
      "outputs": [
        {
          "output_type": "execute_result",
          "data": {
            "text/html": [
              "<div>\n",
              "<style scoped>\n",
              "    .dataframe tbody tr th:only-of-type {\n",
              "        vertical-align: middle;\n",
              "    }\n",
              "\n",
              "    .dataframe tbody tr th {\n",
              "        vertical-align: top;\n",
              "    }\n",
              "\n",
              "    .dataframe thead th {\n",
              "        text-align: right;\n",
              "    }\n",
              "</style>\n",
              "<table border=\"1\" class=\"dataframe\">\n",
              "  <thead>\n",
              "    <tr style=\"text-align: right;\">\n",
              "      <th></th>\n",
              "      <th>LYLTY_CARD_NBR</th>\n",
              "      <th>LIFESTAGE</th>\n",
              "      <th>PREMIUM_CUSTOMER</th>\n",
              "    </tr>\n",
              "  </thead>\n",
              "  <tbody>\n",
              "    <tr>\n",
              "      <th>0</th>\n",
              "      <td>1000</td>\n",
              "      <td>YOUNG SINGLES/COUPLES</td>\n",
              "      <td>Premium</td>\n",
              "    </tr>\n",
              "    <tr>\n",
              "      <th>1</th>\n",
              "      <td>1002</td>\n",
              "      <td>YOUNG SINGLES/COUPLES</td>\n",
              "      <td>Mainstream</td>\n",
              "    </tr>\n",
              "    <tr>\n",
              "      <th>2</th>\n",
              "      <td>1003</td>\n",
              "      <td>YOUNG FAMILIES</td>\n",
              "      <td>Budget</td>\n",
              "    </tr>\n",
              "    <tr>\n",
              "      <th>3</th>\n",
              "      <td>1004</td>\n",
              "      <td>OLDER SINGLES/COUPLES</td>\n",
              "      <td>Mainstream</td>\n",
              "    </tr>\n",
              "    <tr>\n",
              "      <th>4</th>\n",
              "      <td>1005</td>\n",
              "      <td>MIDAGE SINGLES/COUPLES</td>\n",
              "      <td>Mainstream</td>\n",
              "    </tr>\n",
              "  </tbody>\n",
              "</table>\n",
              "</div>"
            ],
            "text/plain": [
              "   LYLTY_CARD_NBR               LIFESTAGE PREMIUM_CUSTOMER\n",
              "0            1000   YOUNG SINGLES/COUPLES          Premium\n",
              "1            1002   YOUNG SINGLES/COUPLES       Mainstream\n",
              "2            1003          YOUNG FAMILIES           Budget\n",
              "3            1004   OLDER SINGLES/COUPLES       Mainstream\n",
              "4            1005  MIDAGE SINGLES/COUPLES       Mainstream"
            ]
          },
          "metadata": {
            "tags": []
          },
          "execution_count": 15
        }
      ]
    },
    {
      "cell_type": "code",
      "metadata": {
        "colab": {
          "base_uri": "https://localhost:8080/",
          "height": 286
        },
        "id": "UmtrwhlMQeIR",
        "outputId": "508e9fa3-3e63-429b-e6ca-d98101756b0e"
      },
      "source": [
        "pur_bvr.describe()"
      ],
      "execution_count": 16,
      "outputs": [
        {
          "output_type": "execute_result",
          "data": {
            "text/html": [
              "<div>\n",
              "<style scoped>\n",
              "    .dataframe tbody tr th:only-of-type {\n",
              "        vertical-align: middle;\n",
              "    }\n",
              "\n",
              "    .dataframe tbody tr th {\n",
              "        vertical-align: top;\n",
              "    }\n",
              "\n",
              "    .dataframe thead th {\n",
              "        text-align: right;\n",
              "    }\n",
              "</style>\n",
              "<table border=\"1\" class=\"dataframe\">\n",
              "  <thead>\n",
              "    <tr style=\"text-align: right;\">\n",
              "      <th></th>\n",
              "      <th>LYLTY_CARD_NBR</th>\n",
              "    </tr>\n",
              "  </thead>\n",
              "  <tbody>\n",
              "    <tr>\n",
              "      <th>count</th>\n",
              "      <td>7.263700e+04</td>\n",
              "    </tr>\n",
              "    <tr>\n",
              "      <th>mean</th>\n",
              "      <td>1.361859e+05</td>\n",
              "    </tr>\n",
              "    <tr>\n",
              "      <th>std</th>\n",
              "      <td>8.989293e+04</td>\n",
              "    </tr>\n",
              "    <tr>\n",
              "      <th>min</th>\n",
              "      <td>1.000000e+03</td>\n",
              "    </tr>\n",
              "    <tr>\n",
              "      <th>25%</th>\n",
              "      <td>6.620200e+04</td>\n",
              "    </tr>\n",
              "    <tr>\n",
              "      <th>50%</th>\n",
              "      <td>1.340400e+05</td>\n",
              "    </tr>\n",
              "    <tr>\n",
              "      <th>75%</th>\n",
              "      <td>2.033750e+05</td>\n",
              "    </tr>\n",
              "    <tr>\n",
              "      <th>max</th>\n",
              "      <td>2.373711e+06</td>\n",
              "    </tr>\n",
              "  </tbody>\n",
              "</table>\n",
              "</div>"
            ],
            "text/plain": [
              "       LYLTY_CARD_NBR\n",
              "count    7.263700e+04\n",
              "mean     1.361859e+05\n",
              "std      8.989293e+04\n",
              "min      1.000000e+03\n",
              "25%      6.620200e+04\n",
              "50%      1.340400e+05\n",
              "75%      2.033750e+05\n",
              "max      2.373711e+06"
            ]
          },
          "metadata": {
            "tags": []
          },
          "execution_count": 16
        }
      ]
    },
    {
      "cell_type": "code",
      "metadata": {
        "colab": {
          "base_uri": "https://localhost:8080/"
        },
        "id": "p84qCmbEQeFk",
        "outputId": "cd6e05c3-2bb4-430c-ead6-6c9c6b22211e"
      },
      "source": [
        "tran_data.isnull().sum()"
      ],
      "execution_count": 17,
      "outputs": [
        {
          "output_type": "execute_result",
          "data": {
            "text/plain": [
              "DATE              0\n",
              "STORE_NBR         0\n",
              "LYLTY_CARD_NBR    0\n",
              "TXN_ID            0\n",
              "PROD_NBR          0\n",
              "PROD_NAME         0\n",
              "PROD_QTY          0\n",
              "TOT_SALES         0\n",
              "dtype: int64"
            ]
          },
          "metadata": {
            "tags": []
          },
          "execution_count": 17
        }
      ]
    },
    {
      "cell_type": "code",
      "metadata": {
        "colab": {
          "base_uri": "https://localhost:8080/"
        },
        "id": "387pkv2zQd-2",
        "outputId": "1ba7e737-1ab3-40fc-b968-c13cf3eaab1a"
      },
      "source": [
        "pur_bvr.isnull().sum()"
      ],
      "execution_count": 18,
      "outputs": [
        {
          "output_type": "execute_result",
          "data": {
            "text/plain": [
              "LYLTY_CARD_NBR      0\n",
              "LIFESTAGE           0\n",
              "PREMIUM_CUSTOMER    0\n",
              "dtype: int64"
            ]
          },
          "metadata": {
            "tags": []
          },
          "execution_count": 18
        }
      ]
    },
    {
      "cell_type": "markdown",
      "metadata": {
        "id": "W_SK-x_5U6uC"
      },
      "source": [
        "**Checking and Removing Outliers**"
      ]
    },
    {
      "cell_type": "code",
      "metadata": {
        "colab": {
          "base_uri": "https://localhost:8080/",
          "height": 196
        },
        "id": "9LFCNmsjQdaU",
        "outputId": "fffdf695-4059-491a-a4e0-082ac8c0a9e9"
      },
      "source": [
        "merged_data = pd.merge(pur_bvr, tran_data, on = 'LYLTY_CARD_NBR', how = 'right')\r\n",
        "merged_data.head()"
      ],
      "execution_count": 25,
      "outputs": [
        {
          "output_type": "execute_result",
          "data": {
            "text/html": [
              "<div>\n",
              "<style scoped>\n",
              "    .dataframe tbody tr th:only-of-type {\n",
              "        vertical-align: middle;\n",
              "    }\n",
              "\n",
              "    .dataframe tbody tr th {\n",
              "        vertical-align: top;\n",
              "    }\n",
              "\n",
              "    .dataframe thead th {\n",
              "        text-align: right;\n",
              "    }\n",
              "</style>\n",
              "<table border=\"1\" class=\"dataframe\">\n",
              "  <thead>\n",
              "    <tr style=\"text-align: right;\">\n",
              "      <th></th>\n",
              "      <th>LYLTY_CARD_NBR</th>\n",
              "      <th>LIFESTAGE</th>\n",
              "      <th>PREMIUM_CUSTOMER</th>\n",
              "      <th>DATE</th>\n",
              "      <th>STORE_NBR</th>\n",
              "      <th>TXN_ID</th>\n",
              "      <th>PROD_NBR</th>\n",
              "      <th>PROD_NAME</th>\n",
              "      <th>PROD_QTY</th>\n",
              "      <th>TOT_SALES</th>\n",
              "    </tr>\n",
              "  </thead>\n",
              "  <tbody>\n",
              "    <tr>\n",
              "      <th>0</th>\n",
              "      <td>1000</td>\n",
              "      <td>YOUNG SINGLES/COUPLES</td>\n",
              "      <td>Premium</td>\n",
              "      <td>43390</td>\n",
              "      <td>1</td>\n",
              "      <td>1</td>\n",
              "      <td>5</td>\n",
              "      <td>Natural Chip        Compny SeaSalt175g</td>\n",
              "      <td>2</td>\n",
              "      <td>6.0</td>\n",
              "    </tr>\n",
              "    <tr>\n",
              "      <th>1</th>\n",
              "      <td>1307</td>\n",
              "      <td>MIDAGE SINGLES/COUPLES</td>\n",
              "      <td>Budget</td>\n",
              "      <td>43599</td>\n",
              "      <td>1</td>\n",
              "      <td>348</td>\n",
              "      <td>66</td>\n",
              "      <td>CCs Nacho Cheese    175g</td>\n",
              "      <td>3</td>\n",
              "      <td>6.3</td>\n",
              "    </tr>\n",
              "    <tr>\n",
              "      <th>2</th>\n",
              "      <td>1307</td>\n",
              "      <td>MIDAGE SINGLES/COUPLES</td>\n",
              "      <td>Budget</td>\n",
              "      <td>43414</td>\n",
              "      <td>1</td>\n",
              "      <td>346</td>\n",
              "      <td>96</td>\n",
              "      <td>WW Original Stacked Chips 160g</td>\n",
              "      <td>2</td>\n",
              "      <td>3.8</td>\n",
              "    </tr>\n",
              "    <tr>\n",
              "      <th>3</th>\n",
              "      <td>1307</td>\n",
              "      <td>MIDAGE SINGLES/COUPLES</td>\n",
              "      <td>Budget</td>\n",
              "      <td>43533</td>\n",
              "      <td>1</td>\n",
              "      <td>347</td>\n",
              "      <td>54</td>\n",
              "      <td>CCs Original 175g</td>\n",
              "      <td>1</td>\n",
              "      <td>2.1</td>\n",
              "    </tr>\n",
              "    <tr>\n",
              "      <th>4</th>\n",
              "      <td>1343</td>\n",
              "      <td>MIDAGE SINGLES/COUPLES</td>\n",
              "      <td>Budget</td>\n",
              "      <td>43605</td>\n",
              "      <td>1</td>\n",
              "      <td>383</td>\n",
              "      <td>61</td>\n",
              "      <td>Smiths Crinkle Cut  Chips Chicken 170g</td>\n",
              "      <td>2</td>\n",
              "      <td>2.9</td>\n",
              "    </tr>\n",
              "  </tbody>\n",
              "</table>\n",
              "</div>"
            ],
            "text/plain": [
              "   LYLTY_CARD_NBR               LIFESTAGE  ... PROD_QTY  TOT_SALES\n",
              "0            1000   YOUNG SINGLES/COUPLES  ...        2        6.0\n",
              "1            1307  MIDAGE SINGLES/COUPLES  ...        3        6.3\n",
              "2            1307  MIDAGE SINGLES/COUPLES  ...        2        3.8\n",
              "3            1307  MIDAGE SINGLES/COUPLES  ...        1        2.1\n",
              "4            1343  MIDAGE SINGLES/COUPLES  ...        2        2.9\n",
              "\n",
              "[5 rows x 10 columns]"
            ]
          },
          "metadata": {
            "tags": []
          },
          "execution_count": 25
        }
      ]
    },
    {
      "cell_type": "code",
      "metadata": {
        "id": "4MAZYDHLX_FG",
        "outputId": "d86c457d-d886-4ccd-8991-252f6f92b003",
        "colab": {
          "base_uri": "https://localhost:8080/"
        }
      },
      "source": [
        "print(len(merged_data))\r\n",
        "print(len(tran_data))"
      ],
      "execution_count": 26,
      "outputs": [
        {
          "output_type": "stream",
          "text": [
            "264836\n",
            "264836\n"
          ],
          "name": "stdout"
        }
      ]
    },
    {
      "cell_type": "code",
      "metadata": {
        "id": "PaVqgYiKYJLu",
        "outputId": "196d6def-d732-452c-b713-deb4599c2c79",
        "colab": {
          "base_uri": "https://localhost:8080/"
        }
      },
      "source": [
        "merged_data.info()"
      ],
      "execution_count": 27,
      "outputs": [
        {
          "output_type": "stream",
          "text": [
            "<class 'pandas.core.frame.DataFrame'>\n",
            "Int64Index: 264836 entries, 0 to 264835\n",
            "Data columns (total 10 columns):\n",
            " #   Column            Non-Null Count   Dtype  \n",
            "---  ------            --------------   -----  \n",
            " 0   LYLTY_CARD_NBR    264836 non-null  int64  \n",
            " 1   LIFESTAGE         264836 non-null  object \n",
            " 2   PREMIUM_CUSTOMER  264836 non-null  object \n",
            " 3   DATE              264836 non-null  int64  \n",
            " 4   STORE_NBR         264836 non-null  int64  \n",
            " 5   TXN_ID            264836 non-null  int64  \n",
            " 6   PROD_NBR          264836 non-null  int64  \n",
            " 7   PROD_NAME         264836 non-null  object \n",
            " 8   PROD_QTY          264836 non-null  int64  \n",
            " 9   TOT_SALES         264836 non-null  float64\n",
            "dtypes: float64(1), int64(6), object(3)\n",
            "memory usage: 22.2+ MB\n"
          ],
          "name": "stdout"
        }
      ]
    },
    {
      "cell_type": "markdown",
      "metadata": {
        "id": "2Rz_nxntYPXL"
      },
      "source": [
        "**Date column should be data time format**"
      ]
    },
    {
      "cell_type": "code",
      "metadata": {
        "id": "e84MafEPYJIN"
      },
      "source": [
        "from datetime import date, timedelta\r\n",
        "start = date(1899, 12, 30)\r\n",
        "new_date_format = []\r\n",
        "for date in merged_data[\"DATE\"]:\r\n",
        "  delta = timedelta(date)\r\n",
        "  new_date_format.append(start + delta)"
      ],
      "execution_count": 29,
      "outputs": []
    },
    {
      "cell_type": "code",
      "metadata": {
        "id": "bSdNqiiEYJFV",
        "outputId": "4c9e598a-27ee-4513-dddd-f44906c492a2",
        "colab": {
          "base_uri": "https://localhost:8080/"
        }
      },
      "source": [
        "merged_data[\"DATE\"] = pd.to_datetime(pd.Series(new_date_format))\r\n",
        "print(merged_data[\"DATE\"].dtype)"
      ],
      "execution_count": 30,
      "outputs": [
        {
          "output_type": "stream",
          "text": [
            "datetime64[ns]\n"
          ],
          "name": "stdout"
        }
      ]
    },
    {
      "cell_type": "markdown",
      "metadata": {
        "id": "SMGMahfjY-os"
      },
      "source": [
        "**Checking the product name column to make sure all items are chips**"
      ]
    },
    {
      "cell_type": "code",
      "metadata": {
        "id": "OWSASNp-YJCj",
        "outputId": "5e187b30-5cb3-40c5-bfaf-5b0021f95cd1",
        "colab": {
          "base_uri": "https://localhost:8080/"
        }
      },
      "source": [
        "merged_data[\"PROD_NAME\"].unique()"
      ],
      "execution_count": 31,
      "outputs": [
        {
          "output_type": "execute_result",
          "data": {
            "text/plain": [
              "array(['Natural Chip        Compny SeaSalt175g',\n",
              "       'CCs Nacho Cheese    175g', 'WW Original Stacked Chips 160g',\n",
              "       'CCs Original 175g', 'Smiths Crinkle Cut  Chips Chicken 170g',\n",
              "       'Smiths Chip Thinly  S/Cream&Onion 175g',\n",
              "       'Kettle Tortilla ChpsHny&Jlpno Chili 150g',\n",
              "       'Old El Paso Salsa   Dip Tomato Mild 300g',\n",
              "       'Tyrrells Crisps     Lightly Salted 165g',\n",
              "       'Kettle Tortilla ChpsFeta&Garlic 150g',\n",
              "       'Dorito Corn Chp     Supreme 380g', 'Doritos Mexicana    170g',\n",
              "       'Smiths Crinkle Chips Salt & Vinegar 330g', 'Kettle Original 175g',\n",
              "       'Tyrrells Crisps     Ched & Chives 165g',\n",
              "       'Infuzions BBQ Rib   Prawn Crackers 110g',\n",
              "       'Grain Waves         Sweet Chilli 210g',\n",
              "       'Old El Paso Salsa   Dip Tomato Med 300g',\n",
              "       'Doritos Corn Chip Southern Chicken 150g',\n",
              "       'Thins Potato Chips  Hot & Spicy 175g',\n",
              "       'Doritos Corn Chip Mexican Jalapeno 150g',\n",
              "       'Red Rock Deli Thai  Chilli&Lime 150g',\n",
              "       'GrnWves Plus Btroot & Chilli Jam 180g',\n",
              "       'WW D/Style Chip     Sea Salt 200g',\n",
              "       'Thins Chips Light&  Tangy 175g',\n",
              "       'Grain Waves Sour    Cream&Chives 210G',\n",
              "       'Tostitos Smoked     Chipotle 175g',\n",
              "       'Infuzions Thai SweetChili PotatoMix 110g',\n",
              "       'Kettle Sensations   Siracha Lime 150g',\n",
              "       'Pringles Chicken    Salt Crips 134g',\n",
              "       'Thins Chips Salt &  Vinegar 175g',\n",
              "       'Cobs Popd Swt/Chlli &Sr/Cream Chips 110g',\n",
              "       'Twisties Cheese     270g', 'WW Crinkle Cut      Chicken 175g',\n",
              "       'RRD Sweet Chilli &  Sour Cream 165g',\n",
              "       'Doritos Corn Chips  Cheese Supreme 170g',\n",
              "       'RRD Salt & Vinegar  165g', 'Doritos Corn Chips  Original 170g',\n",
              "       'Smiths Crinkle      Original 330g',\n",
              "       'Infzns Crn Crnchers Tangy Gcamole 110g',\n",
              "       'Kettle Sea Salt     And Vinegar 175g',\n",
              "       'Red Rock Deli Chikn&Garlic Aioli 150g',\n",
              "       'RRD SR Slow Rst     Pork Belly 150g', 'Burger Rings 220g',\n",
              "       'NCC Sour Cream &    Garden Chives 175g',\n",
              "       'Smiths Crinkle Cut  French OnionDip 150g',\n",
              "       'Natural ChipCo Sea  Salt & Vinegr 175g',\n",
              "       'Cheezels Cheese Box 125g', 'CCs Tasty Cheese    175g',\n",
              "       'Smith Crinkle Cut   Bolognese 150g', 'Pringles Slt Vingar 134g',\n",
              "       'WW Sour Cream &OnionStacked Chips 160g',\n",
              "       'Doritos Salsa Mild  300g', 'Pringles Original   Crisps 134g',\n",
              "       'Pringles Sthrn FriedChicken 134g',\n",
              "       'Pringles SourCream  Onion 134g',\n",
              "       'Smiths Crinkle Cut  Chips Barbecue 170g',\n",
              "       'Infuzions Mango     Chutny Papadums 70g',\n",
              "       'RRD Pc Sea Salt     165g', 'Doritos Salsa       Medium 300g',\n",
              "       'Old El Paso Salsa   Dip Chnky Tom Ht300g',\n",
              "       'Smiths Chip Thinly  Cut Original 175g', 'Twisties Chicken270g',\n",
              "       'Smiths Crinkle Cut  Tomato Salsa 150g',\n",
              "       'Kettle 135g Swt Pot Sea Salt',\n",
              "       'Natural ChipCo      Hony Soy Chckn175g',\n",
              "       'Kettle Sweet Chilli And Sour Cream 175g',\n",
              "       'WW Supreme Cheese   Corn Chips 200g',\n",
              "       'WW Original Corn    Chips 200g',\n",
              "       'Cobs Popd Sour Crm  &Chives Chips 110g',\n",
              "       'Pringles Sweet&Spcy BBQ 134g', 'Doritos Cheese      Supreme 330g',\n",
              "       'Red Rock Deli SR    Salsa & Mzzrlla 150g',\n",
              "       'Pringles Mystery    Flavour 134g',\n",
              "       'Thins Chips         Originl saltd 175g',\n",
              "       'Smiths Thinly Cut   Roast Chicken 175g',\n",
              "       'Kettle Mozzarella   Basil & Pesto 175g',\n",
              "       'Smiths Crinkle Cut  Salt & Vinegar 170g',\n",
              "       'Red Rock Deli Sp    Salt & Truffle 150G',\n",
              "       'Smiths Thinly       Swt Chli&S/Cream175G', 'Kettle Chilli 175g',\n",
              "       'Kettle Honey Soy    Chicken 175g', 'Pringles Barbeque   134g',\n",
              "       'Kettle Sensations   BBQ&Maple 150g',\n",
              "       'RRD Steak &         Chimuchurri 150g',\n",
              "       'Doritos Corn Chips  Nacho Cheese 170g',\n",
              "       'Tostitos Splash Of  Lime 175g',\n",
              "       'Kettle Sensations   Camembert & Fig 150g',\n",
              "       'Cobs Popd Sea Salt  Chips 110g',\n",
              "       'Smith Crinkle Cut   Mac N Cheese 150g',\n",
              "       'Woolworths Mild     Salsa 300g',\n",
              "       'Smiths Crinkle Cut  Snag&Sauce 150g',\n",
              "       'Thins Chips Seasonedchicken 175g',\n",
              "       'Woolworths Medium   Salsa 300g',\n",
              "       'Kettle Tortilla ChpsBtroot&Ricotta 150g',\n",
              "       'Infuzions SourCream&Herbs Veg Strws 110g', 'Cheezels Cheese 330g',\n",
              "       'RRD Chilli&         Coconut 150g',\n",
              "       'Smiths Crinkle Cut  Chips Chs&Onion170g',\n",
              "       'Smiths Chip Thinly  CutSalt/Vinegr175g',\n",
              "       'Twisties Cheese     Burger 250g', 'RRD Lime & Pepper   165g',\n",
              "       'RRD Honey Soy       Chicken 165g',\n",
              "       'French Fries Potato Chips 175g',\n",
              "       'Natural Chip Co     Tmato Hrb&Spce 175g',\n",
              "       'Sunbites Whlegrn    Crisps Frch/Onin 90g', 'Cheetos Puffs 165g',\n",
              "       'Smiths Crinkle Cut  Chips Original 170g',\n",
              "       'Tostitos Lightly    Salted 175g',\n",
              "       'Woolworths Cheese   Rings 190g',\n",
              "       'Smiths Crnkle Chip  Orgnl Big Bag 380g',\n",
              "       'Snbts Whlgrn Crisps Cheddr&Mstrd 90g',\n",
              "       'WW Crinkle Cut      Original 175g',\n",
              "       'Cheetos Chs & Bacon Balls 190g'], dtype=object)"
            ]
          },
          "metadata": {
            "tags": []
          },
          "execution_count": 31
        }
      ]
    },
    {
      "cell_type": "code",
      "metadata": {
        "id": "hnQlfnYAYJAA"
      },
      "source": [
        "split_prods = merged_data[\"PROD_NAME\"].str.replace(r'([0-9]+[gG])','').str.replace(r'[^\\w]',' ').str.split()"
      ],
      "execution_count": 32,
      "outputs": []
    },
    {
      "cell_type": "code",
      "metadata": {
        "id": "ErviFcyTYI9W",
        "outputId": "f266de4a-ae65-4e23-c67a-8e4459d76eea",
        "colab": {
          "base_uri": "https://localhost:8080/"
        }
      },
      "source": [
        "word_counts = {}\r\n",
        "def count_words(line):\r\n",
        "  for word in line:\r\n",
        "    if word not in word_counts:\r\n",
        "      word_counts[word] = 1\r\n",
        "    else:\r\n",
        "      word_counts[word] += 1\r\n",
        "split_prods.apply(lambda line: count_words(line))\r\n",
        "print(pd.Series(word_counts).sort_values(ascending = False))"
      ],
      "execution_count": 34,
      "outputs": [
        {
          "output_type": "stream",
          "text": [
            "Chips     49770\n",
            "Kettle    41288\n",
            "Smiths    28860\n",
            "Salt      27976\n",
            "Cheese    27890\n",
            "          ...  \n",
            "Onin       1432\n",
            "Pc         1431\n",
            "Garden     1419\n",
            "NCC        1419\n",
            "Fries      1418\n",
            "Length: 198, dtype: int64\n"
          ],
          "name": "stdout"
        }
      ]
    },
    {
      "cell_type": "code",
      "metadata": {
        "id": "uote108UYI6M",
        "outputId": "88a4eda9-0096-4904-a95e-0f539a749a53",
        "colab": {
          "base_uri": "https://localhost:8080/"
        }
      },
      "source": [
        "print(merged_data.describe(), '\\n')\r\n",
        "print(merged_data.info())"
      ],
      "execution_count": 35,
      "outputs": [
        {
          "output_type": "stream",
          "text": [
            "       LYLTY_CARD_NBR     STORE_NBR  ...       PROD_QTY      TOT_SALES\n",
            "count    2.648360e+05  264836.00000  ...  264836.000000  264836.000000\n",
            "mean     1.355495e+05     135.08011  ...       1.907309       7.304200\n",
            "std      8.057998e+04      76.78418  ...       0.643654       3.083226\n",
            "min      1.000000e+03       1.00000  ...       1.000000       1.500000\n",
            "25%      7.002100e+04      70.00000  ...       2.000000       5.400000\n",
            "50%      1.303575e+05     130.00000  ...       2.000000       7.400000\n",
            "75%      2.030942e+05     203.00000  ...       2.000000       9.200000\n",
            "max      2.373711e+06     272.00000  ...     200.000000     650.000000\n",
            "\n",
            "[8 rows x 6 columns] \n",
            "\n",
            "<class 'pandas.core.frame.DataFrame'>\n",
            "Int64Index: 264836 entries, 0 to 264835\n",
            "Data columns (total 10 columns):\n",
            " #   Column            Non-Null Count   Dtype         \n",
            "---  ------            --------------   -----         \n",
            " 0   LYLTY_CARD_NBR    264836 non-null  int64         \n",
            " 1   LIFESTAGE         264836 non-null  object        \n",
            " 2   PREMIUM_CUSTOMER  264836 non-null  object        \n",
            " 3   DATE              264836 non-null  datetime64[ns]\n",
            " 4   STORE_NBR         264836 non-null  int64         \n",
            " 5   TXN_ID            264836 non-null  int64         \n",
            " 6   PROD_NBR          264836 non-null  int64         \n",
            " 7   PROD_NAME         264836 non-null  object        \n",
            " 8   PROD_QTY          264836 non-null  int64         \n",
            " 9   TOT_SALES         264836 non-null  float64       \n",
            "dtypes: datetime64[ns](1), float64(1), int64(5), object(3)\n",
            "memory usage: 22.2+ MB\n",
            "None\n"
          ],
          "name": "stdout"
        }
      ]
    },
    {
      "cell_type": "code",
      "metadata": {
        "id": "W1fVB_asaG9_",
        "outputId": "c6316720-cf72-461b-ce58-e5e1bcff8de7",
        "colab": {
          "base_uri": "https://localhost:8080/"
        }
      },
      "source": [
        "merged_data[\"PROD_QTY\"].value_counts(bins=4).sort_index()"
      ],
      "execution_count": 36,
      "outputs": [
        {
          "output_type": "execute_result",
          "data": {
            "text/plain": [
              "(0.8, 50.75]       264834\n",
              "(50.75, 100.5]          0\n",
              "(100.5, 150.25]         0\n",
              "(150.25, 200.0]         2\n",
              "Name: PROD_QTY, dtype: int64"
            ]
          },
          "metadata": {
            "tags": []
          },
          "execution_count": 36
        }
      ]
    },
    {
      "cell_type": "markdown",
      "metadata": {
        "id": "7fW_v8CVajEz"
      },
      "source": [
        "**From above binning we see that PROD_QTY values above 50.75**"
      ]
    },
    {
      "cell_type": "code",
      "metadata": {
        "id": "JJ88GWBbaG6o",
        "outputId": "c5f471b8-e77e-4662-e195-4b00e68233c7",
        "colab": {
          "base_uri": "https://localhost:8080/",
          "height": 280
        }
      },
      "source": [
        "merged_data.sort_values(by=\"PROD_QTY\", ascending=False).head()"
      ],
      "execution_count": 37,
      "outputs": [
        {
          "output_type": "execute_result",
          "data": {
            "text/html": [
              "<div>\n",
              "<style scoped>\n",
              "    .dataframe tbody tr th:only-of-type {\n",
              "        vertical-align: middle;\n",
              "    }\n",
              "\n",
              "    .dataframe tbody tr th {\n",
              "        vertical-align: top;\n",
              "    }\n",
              "\n",
              "    .dataframe thead th {\n",
              "        text-align: right;\n",
              "    }\n",
              "</style>\n",
              "<table border=\"1\" class=\"dataframe\">\n",
              "  <thead>\n",
              "    <tr style=\"text-align: right;\">\n",
              "      <th></th>\n",
              "      <th>LYLTY_CARD_NBR</th>\n",
              "      <th>LIFESTAGE</th>\n",
              "      <th>PREMIUM_CUSTOMER</th>\n",
              "      <th>DATE</th>\n",
              "      <th>STORE_NBR</th>\n",
              "      <th>TXN_ID</th>\n",
              "      <th>PROD_NBR</th>\n",
              "      <th>PROD_NAME</th>\n",
              "      <th>PROD_QTY</th>\n",
              "      <th>TOT_SALES</th>\n",
              "    </tr>\n",
              "  </thead>\n",
              "  <tbody>\n",
              "    <tr>\n",
              "      <th>71456</th>\n",
              "      <td>226000</td>\n",
              "      <td>OLDER FAMILIES</td>\n",
              "      <td>Premium</td>\n",
              "      <td>2018-08-19</td>\n",
              "      <td>226</td>\n",
              "      <td>226201</td>\n",
              "      <td>4</td>\n",
              "      <td>Dorito Corn Chp     Supreme 380g</td>\n",
              "      <td>200</td>\n",
              "      <td>650.00</td>\n",
              "    </tr>\n",
              "    <tr>\n",
              "      <th>71457</th>\n",
              "      <td>226000</td>\n",
              "      <td>OLDER FAMILIES</td>\n",
              "      <td>Premium</td>\n",
              "      <td>2019-05-20</td>\n",
              "      <td>226</td>\n",
              "      <td>226210</td>\n",
              "      <td>4</td>\n",
              "      <td>Dorito Corn Chp     Supreme 380g</td>\n",
              "      <td>200</td>\n",
              "      <td>650.00</td>\n",
              "    </tr>\n",
              "    <tr>\n",
              "      <th>34105</th>\n",
              "      <td>97211</td>\n",
              "      <td>OLDER FAMILIES</td>\n",
              "      <td>Budget</td>\n",
              "      <td>2018-08-15</td>\n",
              "      <td>97</td>\n",
              "      <td>97600</td>\n",
              "      <td>11</td>\n",
              "      <td>RRD Pc Sea Salt     165g</td>\n",
              "      <td>5</td>\n",
              "      <td>15.00</td>\n",
              "    </tr>\n",
              "    <tr>\n",
              "      <th>102451</th>\n",
              "      <td>235164</td>\n",
              "      <td>OLDER SINGLES/COUPLES</td>\n",
              "      <td>Mainstream</td>\n",
              "      <td>2018-08-17</td>\n",
              "      <td>235</td>\n",
              "      <td>238117</td>\n",
              "      <td>4</td>\n",
              "      <td>Dorito Corn Chp     Supreme 380g</td>\n",
              "      <td>5</td>\n",
              "      <td>16.25</td>\n",
              "    </tr>\n",
              "    <tr>\n",
              "      <th>259068</th>\n",
              "      <td>183032</td>\n",
              "      <td>YOUNG SINGLES/COUPLES</td>\n",
              "      <td>Premium</td>\n",
              "      <td>2019-05-14</td>\n",
              "      <td>183</td>\n",
              "      <td>184969</td>\n",
              "      <td>21</td>\n",
              "      <td>WW Sour Cream &amp;OnionStacked Chips 160g</td>\n",
              "      <td>5</td>\n",
              "      <td>9.50</td>\n",
              "    </tr>\n",
              "  </tbody>\n",
              "</table>\n",
              "</div>"
            ],
            "text/plain": [
              "        LYLTY_CARD_NBR              LIFESTAGE  ... PROD_QTY TOT_SALES\n",
              "71456           226000         OLDER FAMILIES  ...      200    650.00\n",
              "71457           226000         OLDER FAMILIES  ...      200    650.00\n",
              "34105            97211         OLDER FAMILIES  ...        5     15.00\n",
              "102451          235164  OLDER SINGLES/COUPLES  ...        5     16.25\n",
              "259068          183032  YOUNG SINGLES/COUPLES  ...        5      9.50\n",
              "\n",
              "[5 rows x 10 columns]"
            ]
          },
          "metadata": {
            "tags": []
          },
          "execution_count": 37
        }
      ]
    },
    {
      "cell_type": "markdown",
      "metadata": {
        "id": "3YoFUApbbBXN"
      },
      "source": [
        "**Two outliers of value 200 in PROD_QTY will be removed. Both entries are by the same customer and will be examined by this customer's transactions**"
      ]
    },
    {
      "cell_type": "code",
      "metadata": {
        "id": "fGtQo5M8aG3h"
      },
      "source": [
        "merged_data = merged_data[merged_data[\"PROD_QTY\"] < 6]"
      ],
      "execution_count": 38,
      "outputs": []
    },
    {
      "cell_type": "code",
      "metadata": {
        "id": "z-LAYbj_aG0u",
        "outputId": "4f1dfd24-a178-40ca-a6d6-57fbc8c4c5a9",
        "colab": {
          "base_uri": "https://localhost:8080/"
        }
      },
      "source": [
        "len(merged_data[merged_data[\"LYLTY_CARD_NBR\"]==226000])"
      ],
      "execution_count": 39,
      "outputs": [
        {
          "output_type": "execute_result",
          "data": {
            "text/plain": [
              "0"
            ]
          },
          "metadata": {
            "tags": []
          },
          "execution_count": 39
        }
      ]
    },
    {
      "cell_type": "code",
      "metadata": {
        "id": "-wbUuxocaGye",
        "outputId": "064110b3-3eee-46db-8a3f-86459141e9be",
        "colab": {
          "base_uri": "https://localhost:8080/"
        }
      },
      "source": [
        "merged_data[\"DATE\"].describe()"
      ],
      "execution_count": 40,
      "outputs": [
        {
          "output_type": "stream",
          "text": [
            "/usr/local/lib/python3.6/dist-packages/ipykernel_launcher.py:1: FutureWarning: Treating datetime data as categorical rather than numeric in `.describe` is deprecated and will be removed in a future version of pandas. Specify `datetime_is_numeric=True` to silence this warning and adopt the future behavior now.\n",
            "  \"\"\"Entry point for launching an IPython kernel.\n"
          ],
          "name": "stderr"
        },
        {
          "output_type": "execute_result",
          "data": {
            "text/plain": [
              "count                  264834\n",
              "unique                    364\n",
              "top       2018-12-24 00:00:00\n",
              "freq                      939\n",
              "first     2018-07-01 00:00:00\n",
              "last      2019-06-30 00:00:00\n",
              "Name: DATE, dtype: object"
            ]
          },
          "metadata": {
            "tags": []
          },
          "execution_count": 40
        }
      ]
    },
    {
      "cell_type": "markdown",
      "metadata": {
        "id": "B8gjPhoabu2n"
      },
      "source": [
        "**There are 365 days in a year but in the DATE column there are only 364 unique values so one is missing**"
      ]
    },
    {
      "cell_type": "code",
      "metadata": {
        "id": "lMdfxT-vaGuc",
        "outputId": "06e6213c-96d1-48da-f3a0-7023c17b381d",
        "colab": {
          "base_uri": "https://localhost:8080/"
        }
      },
      "source": [
        "pd.date_range(start=merged_data[\"DATE\"].min(), end=merged_data[\"DATE\"].max()).difference(merged_data[\"DATE\"])"
      ],
      "execution_count": 41,
      "outputs": [
        {
          "output_type": "execute_result",
          "data": {
            "text/plain": [
              "DatetimeIndex(['2018-12-25'], dtype='datetime64[ns]', freq=None)"
            ]
          },
          "metadata": {
            "tags": []
          },
          "execution_count": 41
        }
      ]
    },
    {
      "cell_type": "markdown",
      "metadata": {
        "id": "LPK_c7OKcGeU"
      },
      "source": [
        "**Using the difference method we see that 2018-12-25 was a missing date**"
      ]
    },
    {
      "cell_type": "code",
      "metadata": {
        "id": "aTLJWWexcFIO"
      },
      "source": [
        "check_null_date = pd.merge(pd.Series(pd.date_range(start=merged_data[\"DATE\"].min(), end = merged_data[\"DATE\"].max()), name=\"DATE\"), merged_data, on = \"DATE\", how = \"left\")"
      ],
      "execution_count": 42,
      "outputs": []
    },
    {
      "cell_type": "code",
      "metadata": {
        "id": "kYEbsyzlcE8P",
        "outputId": "2c41bba0-d871-4e6b-935e-41c660ff3a82",
        "colab": {
          "base_uri": "https://localhost:8080/",
          "height": 280
        }
      },
      "source": [
        "trans_by_date = check_null_date[\"DATE\"].value_counts()\r\n",
        "dec = trans_by_date[(trans_by_date.index >= pd.datetime(2018,12,1)) & (trans_by_date.index < pd.datetime(2019,1,1))].sort_index()\r\n",
        "dec.index = dec.index.strftime('%d')\r\n",
        "ax = dec.plot(figsize=(15,3))\r\n",
        "ax.set_xticks(np.arange(len(dec)))\r\n",
        "ax.set_xticklabels(dec.index)\r\n",
        "plt.title(\"2018 December Sales\")\r\n",
        "plt.savefig(\"2018 December Sales.png\", bbox_inches=\"tight\")\r\n",
        "plt.show()"
      ],
      "execution_count": 43,
      "outputs": [
        {
          "output_type": "stream",
          "text": [
            "/usr/local/lib/python3.6/dist-packages/ipykernel_launcher.py:2: FutureWarning: The pandas.datetime class is deprecated and will be removed from pandas in a future version. Import from datetime instead.\n",
            "  \n"
          ],
          "name": "stderr"
        },
        {
          "output_type": "display_data",
          "data": {
            "image/png": "[encoded data removed]",
            "text/plain": [
              "<Figure size 1080x216 with 1 Axes>"
            ]
          },
          "metadata": {
            "tags": [],
            "needs_background": "light"
          }
        }
      ]
    },
    {
      "cell_type": "code",
      "metadata": {
        "id": "VpdTBjdEcE5R",
        "outputId": "f582845c-e72d-400f-8520-0c1090b990be",
        "colab": {
          "base_uri": "https://localhost:8080/"
        }
      },
      "source": [
        "check_null_date[\"DATE\"].value_counts().sort_values().head()"
      ],
      "execution_count": 44,
      "outputs": [
        {
          "output_type": "execute_result",
          "data": {
            "text/plain": [
              "2018-12-25      1\n",
              "2018-11-25    648\n",
              "2018-10-18    658\n",
              "2019-06-13    659\n",
              "2019-06-24    662\n",
              "Name: DATE, dtype: int64"
            ]
          },
          "metadata": {
            "tags": []
          },
          "execution_count": 44
        }
      ]
    },
    {
      "cell_type": "markdown",
      "metadata": {
        "id": "6gG4gUfIdfc5"
      },
      "source": [
        "**The day with no transaction is a Christmas day that is when the store is closed. So there is no anomaly in this.**"
      ]
    },
    {
      "cell_type": "markdown",
      "metadata": {
        "id": "F_8-yDpjduRO"
      },
      "source": [
        "**Explore Packet sizes**"
      ]
    },
    {
      "cell_type": "code",
      "metadata": {
        "id": "Xr4FQcvOcE1t",
        "outputId": "d067ddee-1bd5-405f-bb73-5910fb00582f",
        "colab": {
          "base_uri": "https://localhost:8080/",
          "height": 432
        }
      },
      "source": [
        "merged_data[\"PROD_NAME\"] = merged_data[\"PROD_NAME\"].str.replace(r'[0-9]+(G)','g')\r\n",
        "pack_sizes = merged_data[\"PROD_NAME\"].str.extract(r'([0-9]+[gG])')[0].str.replace(\"g\",\"\").astype(\"float\")\r\n",
        "print(pack_sizes.describe())\r\n",
        "pack_sizes.plot.hist()"
      ],
      "execution_count": 45,
      "outputs": [
        {
          "output_type": "stream",
          "text": [
            "count    258770.000000\n",
            "mean        182.324276\n",
            "std          64.955035\n",
            "min          70.000000\n",
            "25%         150.000000\n",
            "50%         170.000000\n",
            "75%         175.000000\n",
            "max         380.000000\n",
            "Name: 0, dtype: float64\n"
          ],
          "name": "stdout"
        },
        {
          "output_type": "execute_result",
          "data": {
            "text/plain": [
              "<matplotlib.axes._subplots.AxesSubplot at 0x7efe9b157b00>"
            ]
          },
          "metadata": {
            "tags": []
          },
          "execution_count": 45
        },
        {
          "output_type": "display_data",
          "data": {
            "image/png": "[encoded data removed]",
            "text/plain": [
              "<Figure size 432x288 with 1 Axes>"
            ]
          },
          "metadata": {
            "tags": [],
            "needs_background": "light"
          }
        }
      ]
    },
    {
      "cell_type": "code",
      "metadata": {
        "id": "dXPiNg-NcEy8",
        "outputId": "3b198f50-b4e2-4ceb-a5cc-40730723c14a",
        "colab": {
          "base_uri": "https://localhost:8080/"
        }
      },
      "source": [
        "merged_data[\"PROD_NAME\"].str.split().str[0].value_counts().sort_index()"
      ],
      "execution_count": 46,
      "outputs": [
        {
          "output_type": "execute_result",
          "data": {
            "text/plain": [
              "Burger         1564\n",
              "CCs            4551\n",
              "Cheetos        2927\n",
              "Cheezels       4603\n",
              "Cobs           9693\n",
              "Dorito         3183\n",
              "Doritos       24962\n",
              "French         1418\n",
              "Grain          6272\n",
              "GrnWves        1468\n",
              "Infuzions     11057\n",
              "Infzns         3144\n",
              "Kettle        41288\n",
              "NCC            1419\n",
              "Natural        6050\n",
              "Old            9324\n",
              "Pringles      25102\n",
              "RRD           11894\n",
              "Red            5885\n",
              "Smith          2963\n",
              "Smiths        28860\n",
              "Snbts          1576\n",
              "Sunbites       1432\n",
              "Thins         14075\n",
              "Tostitos       9471\n",
              "Twisties       9454\n",
              "Tyrrells       6442\n",
              "WW            10320\n",
              "Woolworths     4437\n",
              "Name: PROD_NAME, dtype: int64"
            ]
          },
          "metadata": {
            "tags": []
          },
          "execution_count": 46
        }
      ]
    },
    {
      "cell_type": "markdown",
      "metadata": {
        "id": "EKIZemByhJuU"
      },
      "source": [
        "Some product names are written in more than one way. Example : Dorito and Doritos, Grains and GrnWves, Infusions and Ifzns, Natural and NCC, Red and RRD, Smith and Smiths and Snbts and Sunbites."
      ]
    },
    {
      "cell_type": "code",
      "metadata": {
        "id": "2wqh8mLlcEwX",
        "outputId": "1fdab89a-d9c2-48e9-9d11-904a9302fad0",
        "colab": {
          "base_uri": "https://localhost:8080/",
          "height": 295
        }
      },
      "source": [
        "merged_data[\"PROD_NAME\"].str.split()[merged_data[\"PROD_NAME\"].str.split().str[0] == \"Red\"].value_counts()"
      ],
      "execution_count": 47,
      "outputs": [
        {
          "output_type": "error",
          "ename": "TypeError",
          "evalue": "ignored",
          "traceback": [
            "\u001b[0;31m---------------------------------------------------------------------------\u001b[0m",
            "\u001b[0;31mTypeError\u001b[0m                                 Traceback (most recent call last)",
            "\u001b[0;32mpandas/_libs/hashtable_class_helper.pxi\u001b[0m in \u001b[0;36mpandas._libs.hashtable.PyObjectHashTable.map_locations\u001b[0;34m()\u001b[0m\n",
            "\u001b[0;31mTypeError\u001b[0m: unhashable type: 'list'"
          ]
        },
        {
          "output_type": "stream",
          "text": [
            "Exception ignored in: 'pandas._libs.index.IndexEngine._call_map_locations'\n",
            "Traceback (most recent call last):\n",
            "  File \"pandas/_libs/hashtable_class_helper.pxi\", line 1709, in pandas._libs.hashtable.PyObjectHashTable.map_locations\n",
            "TypeError: unhashable type: 'list'\n"
          ],
          "name": "stderr"
        },
        {
          "output_type": "execute_result",
          "data": {
            "text/plain": [
              "[Red, Rock, Deli, Sp, Salt, &, Truffle, g]        1498\n",
              "[Red, Rock, Deli, Thai, Chilli&Lime, 150g]        1495\n",
              "[Red, Rock, Deli, SR, Salsa, &, Mzzrlla, 150g]    1458\n",
              "[Red, Rock, Deli, Chikn&Garlic, Aioli, 150g]      1434\n",
              "Name: PROD_NAME, dtype: int64"
            ]
          },
          "metadata": {
            "tags": []
          },
          "execution_count": 47
        }
      ]
    },
    {
      "cell_type": "code",
      "metadata": {
        "id": "SFNuBXBncEt2"
      },
      "source": [
        "merged_data[\"Cleaned_Brand_Names\"] = merged_data[\"PROD_NAME\"].str.split().str[0]"
      ],
      "execution_count": 48,
      "outputs": []
    },
    {
      "cell_type": "code",
      "metadata": {
        "id": "IguRhNLIcEqc"
      },
      "source": [
        "def clean_brand_names(line):\r\n",
        "    brand = line[\"Cleaned_Brand_Names\"]\r\n",
        "    if brand == \"Dorito\":\r\n",
        "        return \"Doritos\"\r\n",
        "    elif brand == \"GrnWves\" or brand == \"Grain\":\r\n",
        "        return \"Grain Waves\"\r\n",
        "    elif brand == \"Infzns\":\r\n",
        "        return \"Infuzions\"\r\n",
        "    elif brand == \"Natural\" or brand == \"NCC\":\r\n",
        "        return \"Natural Chip Co\"\r\n",
        "    elif brand == \"Red\":\r\n",
        "        return \"RRD\"\r\n",
        "    elif brand == \"Smith\":\r\n",
        "        return \"Smiths\"\r\n",
        "    elif brand == \"Snbts\":\r\n",
        "        return \"Sunbites\"\r\n",
        "    elif brand == \"WW\":\r\n",
        "        return \"Woolworths\"\r\n",
        "    else:\r\n",
        "        return brand"
      ],
      "execution_count": 49,
      "outputs": []
    },
    {
      "cell_type": "code",
      "metadata": {
        "id": "3Rs5p2V3cEnw"
      },
      "source": [
        "merged_data[\"Cleaned_Brand_Names\"] = merged_data.apply(lambda line: clean_brand_names(line), axis=1)"
      ],
      "execution_count": 50,
      "outputs": []
    },
    {
      "cell_type": "code",
      "metadata": {
        "id": "jZlJgZlHcEky",
        "outputId": "29a63110-1a1c-470d-ea3d-14db840caadb",
        "colab": {
          "base_uri": "https://localhost:8080/",
          "height": 357
        }
      },
      "source": [
        "merged_data[\"Cleaned_Brand_Names\"].value_counts(ascending=True).plot.barh(figsize=(10,5))"
      ],
      "execution_count": 51,
      "outputs": [
        {
          "output_type": "execute_result",
          "data": {
            "text/plain": [
              "<matplotlib.axes._subplots.AxesSubplot at 0x7efe8d7b9c18>"
            ]
          },
          "metadata": {
            "tags": []
          },
          "execution_count": 51
        },
        {
          "output_type": "display_data",
          "data": {
            "image/png": "[encoded data removed]",
            "text/plain": [
              "<Figure size 720x360 with 1 Axes>"
            ]
          },
          "metadata": {
            "tags": [],
            "needs_background": "light"
          }
        }
      ]
    },
    {
      "cell_type": "code",
      "metadata": {
        "id": "fBdrc5ZIcEhD",
        "outputId": "fc3b05d6-30c6-41ff-d7e2-ab1abd74603a",
        "colab": {
          "base_uri": "https://localhost:8080/"
        }
      },
      "source": [
        "merged_data.isnull().sum()"
      ],
      "execution_count": 52,
      "outputs": [
        {
          "output_type": "execute_result",
          "data": {
            "text/plain": [
              "LYLTY_CARD_NBR         0\n",
              "LIFESTAGE              0\n",
              "PREMIUM_CUSTOMER       0\n",
              "DATE                   0\n",
              "STORE_NBR              0\n",
              "TXN_ID                 0\n",
              "PROD_NBR               0\n",
              "PROD_NAME              0\n",
              "PROD_QTY               0\n",
              "TOT_SALES              0\n",
              "Cleaned_Brand_Names    0\n",
              "dtype: int64"
            ]
          },
          "metadata": {
            "tags": []
          },
          "execution_count": 52
        }
      ]
    },
    {
      "cell_type": "markdown",
      "metadata": {
        "id": "D8-XdWXAla12"
      },
      "source": [
        "1. Who spends the most on chips (total sales), describing customers by lifestage and how premium their general purchasing behaviour is\r\n",
        "2.How many customers are in each segment\r\n",
        "3. How many chips are bought per customer by segment\r\n",
        "4. What's the average chip price by customer segment"
      ]
    },
    {
      "cell_type": "code",
      "metadata": {
        "id": "TPLt0LIAlbTe",
        "outputId": "6bea9959-b278-450a-d43b-e9bf925247fd",
        "colab": {
          "base_uri": "https://localhost:8080/",
          "height": 703
        }
      },
      "source": [
        "grouped_sales = pd.DataFrame(merged_data.groupby([\"LIFESTAGE\", \"PREMIUM_CUSTOMER\"])[\"TOT_SALES\"].agg([\"sum\", \"mean\"]))\r\n",
        "grouped_sales.sort_values(ascending=False, by=\"sum\")"
      ],
      "execution_count": 54,
      "outputs": [
        {
          "output_type": "execute_result",
          "data": {
            "text/html": [
              "<div>\n",
              "<style scoped>\n",
              "    .dataframe tbody tr th:only-of-type {\n",
              "        vertical-align: middle;\n",
              "    }\n",
              "\n",
              "    .dataframe tbody tr th {\n",
              "        vertical-align: top;\n",
              "    }\n",
              "\n",
              "    .dataframe thead th {\n",
              "        text-align: right;\n",
              "    }\n",
              "</style>\n",
              "<table border=\"1\" class=\"dataframe\">\n",
              "  <thead>\n",
              "    <tr style=\"text-align: right;\">\n",
              "      <th></th>\n",
              "      <th></th>\n",
              "      <th>sum</th>\n",
              "      <th>mean</th>\n",
              "    </tr>\n",
              "    <tr>\n",
              "      <th>LIFESTAGE</th>\n",
              "      <th>PREMIUM_CUSTOMER</th>\n",
              "      <th></th>\n",
              "      <th></th>\n",
              "    </tr>\n",
              "  </thead>\n",
              "  <tbody>\n",
              "    <tr>\n",
              "      <th>OLDER FAMILIES</th>\n",
              "      <th>Budget</th>\n",
              "      <td>168363.25</td>\n",
              "      <td>7.269570</td>\n",
              "    </tr>\n",
              "    <tr>\n",
              "      <th>YOUNG SINGLES/COUPLES</th>\n",
              "      <th>Mainstream</th>\n",
              "      <td>157621.60</td>\n",
              "      <td>7.558339</td>\n",
              "    </tr>\n",
              "    <tr>\n",
              "      <th>RETIREES</th>\n",
              "      <th>Mainstream</th>\n",
              "      <td>155677.05</td>\n",
              "      <td>7.252262</td>\n",
              "    </tr>\n",
              "    <tr>\n",
              "      <th>YOUNG FAMILIES</th>\n",
              "      <th>Budget</th>\n",
              "      <td>139345.85</td>\n",
              "      <td>7.287201</td>\n",
              "    </tr>\n",
              "    <tr>\n",
              "      <th rowspan=\"3\" valign=\"top\">OLDER SINGLES/COUPLES</th>\n",
              "      <th>Budget</th>\n",
              "      <td>136769.80</td>\n",
              "      <td>7.430315</td>\n",
              "    </tr>\n",
              "    <tr>\n",
              "      <th>Mainstream</th>\n",
              "      <td>133393.80</td>\n",
              "      <td>7.282116</td>\n",
              "    </tr>\n",
              "    <tr>\n",
              "      <th>Premium</th>\n",
              "      <td>132263.15</td>\n",
              "      <td>7.449766</td>\n",
              "    </tr>\n",
              "    <tr>\n",
              "      <th>RETIREES</th>\n",
              "      <th>Budget</th>\n",
              "      <td>113147.80</td>\n",
              "      <td>7.443445</td>\n",
              "    </tr>\n",
              "    <tr>\n",
              "      <th>OLDER FAMILIES</th>\n",
              "      <th>Mainstream</th>\n",
              "      <td>103445.55</td>\n",
              "      <td>7.262395</td>\n",
              "    </tr>\n",
              "    <tr>\n",
              "      <th>RETIREES</th>\n",
              "      <th>Premium</th>\n",
              "      <td>97646.05</td>\n",
              "      <td>7.456174</td>\n",
              "    </tr>\n",
              "    <tr>\n",
              "      <th>YOUNG FAMILIES</th>\n",
              "      <th>Mainstream</th>\n",
              "      <td>92788.75</td>\n",
              "      <td>7.189025</td>\n",
              "    </tr>\n",
              "    <tr>\n",
              "      <th>MIDAGE SINGLES/COUPLES</th>\n",
              "      <th>Mainstream</th>\n",
              "      <td>90803.85</td>\n",
              "      <td>7.647284</td>\n",
              "    </tr>\n",
              "    <tr>\n",
              "      <th>YOUNG FAMILIES</th>\n",
              "      <th>Premium</th>\n",
              "      <td>84025.50</td>\n",
              "      <td>7.266756</td>\n",
              "    </tr>\n",
              "    <tr>\n",
              "      <th>OLDER FAMILIES</th>\n",
              "      <th>Premium</th>\n",
              "      <td>80658.40</td>\n",
              "      <td>7.208079</td>\n",
              "    </tr>\n",
              "    <tr>\n",
              "      <th>YOUNG SINGLES/COUPLES</th>\n",
              "      <th>Budget</th>\n",
              "      <td>61141.60</td>\n",
              "      <td>6.615624</td>\n",
              "    </tr>\n",
              "    <tr>\n",
              "      <th>MIDAGE SINGLES/COUPLES</th>\n",
              "      <th>Premium</th>\n",
              "      <td>58432.65</td>\n",
              "      <td>7.112056</td>\n",
              "    </tr>\n",
              "    <tr>\n",
              "      <th>YOUNG SINGLES/COUPLES</th>\n",
              "      <th>Premium</th>\n",
              "      <td>41642.10</td>\n",
              "      <td>6.629852</td>\n",
              "    </tr>\n",
              "    <tr>\n",
              "      <th>MIDAGE SINGLES/COUPLES</th>\n",
              "      <th>Budget</th>\n",
              "      <td>35514.80</td>\n",
              "      <td>7.074661</td>\n",
              "    </tr>\n",
              "    <tr>\n",
              "      <th rowspan=\"3\" valign=\"top\">NEW FAMILIES</th>\n",
              "      <th>Budget</th>\n",
              "      <td>21928.45</td>\n",
              "      <td>7.297321</td>\n",
              "    </tr>\n",
              "    <tr>\n",
              "      <th>Mainstream</th>\n",
              "      <td>17013.90</td>\n",
              "      <td>7.317806</td>\n",
              "    </tr>\n",
              "    <tr>\n",
              "      <th>Premium</th>\n",
              "      <td>11491.10</td>\n",
              "      <td>7.231655</td>\n",
              "    </tr>\n",
              "  </tbody>\n",
              "</table>\n",
              "</div>"
            ],
            "text/plain": [
              "                                               sum      mean\n",
              "LIFESTAGE              PREMIUM_CUSTOMER                     \n",
              "OLDER FAMILIES         Budget            168363.25  7.269570\n",
              "YOUNG SINGLES/COUPLES  Mainstream        157621.60  7.558339\n",
              "RETIREES               Mainstream        155677.05  7.252262\n",
              "YOUNG FAMILIES         Budget            139345.85  7.287201\n",
              "OLDER SINGLES/COUPLES  Budget            136769.80  7.430315\n",
              "                       Mainstream        133393.80  7.282116\n",
              "                       Premium           132263.15  7.449766\n",
              "RETIREES               Budget            113147.80  7.443445\n",
              "OLDER FAMILIES         Mainstream        103445.55  7.262395\n",
              "RETIREES               Premium            97646.05  7.456174\n",
              "YOUNG FAMILIES         Mainstream         92788.75  7.189025\n",
              "MIDAGE SINGLES/COUPLES Mainstream         90803.85  7.647284\n",
              "YOUNG FAMILIES         Premium            84025.50  7.266756\n",
              "OLDER FAMILIES         Premium            80658.40  7.208079\n",
              "YOUNG SINGLES/COUPLES  Budget             61141.60  6.615624\n",
              "MIDAGE SINGLES/COUPLES Premium            58432.65  7.112056\n",
              "YOUNG SINGLES/COUPLES  Premium            41642.10  6.629852\n",
              "MIDAGE SINGLES/COUPLES Budget             35514.80  7.074661\n",
              "NEW FAMILIES           Budget             21928.45  7.297321\n",
              "                       Mainstream         17013.90  7.317806\n",
              "                       Premium            11491.10  7.231655"
            ]
          },
          "metadata": {
            "tags": []
          },
          "execution_count": 54
        }
      ]
    },
    {
      "cell_type": "code",
      "metadata": {
        "id": "UWtFfvqFlcPE",
        "outputId": "5cbf5073-8570-416e-a40f-14ce12b7e299",
        "colab": {
          "base_uri": "https://localhost:8080/"
        }
      },
      "source": [
        "grouped_sales[\"sum\"].sum()"
      ],
      "execution_count": 55,
      "outputs": [
        {
          "output_type": "execute_result",
          "data": {
            "text/plain": [
              "1933114.9999999765"
            ]
          },
          "metadata": {
            "tags": []
          },
          "execution_count": 55
        }
      ]
    },
    {
      "cell_type": "code",
      "metadata": {
        "id": "_TI8rAJwlcLE",
        "outputId": "3ee958b9-42ba-4ae6-88aa-ffc9b330bdfb",
        "colab": {
          "base_uri": "https://localhost:8080/",
          "height": 317
        }
      },
      "source": [
        "grouped_sales[\"sum\"].sort_values().plot.barh(figsize=(12,7))"
      ],
      "execution_count": 56,
      "outputs": [
        {
          "output_type": "execute_result",
          "data": {
            "text/plain": [
              "<matplotlib.axes._subplots.AxesSubplot at 0x7efe933a5438>"
            ]
          },
          "metadata": {
            "tags": []
          },
          "execution_count": 56
        },
        {
          "output_type": "display_data",
          "data": {
            "image/png": "[encoded data removed]",
            "text/plain": [
              "<Figure size 864x504 with 1 Axes>"
            ]
          },
          "metadata": {
            "tags": [],
            "needs_background": "light"
          }
        }
      ]
    },
    {
      "cell_type": "code",
      "metadata": {
        "id": "O3YErRCvlcIi",
        "outputId": "5aa3e363-4afb-4638-bd67-41d3a7bb427c",
        "colab": {
          "base_uri": "https://localhost:8080/",
          "height": 220
        }
      },
      "source": [
        "# Values of each group\r\n",
        "bars1 = grouped_sales[grouped_sales.index.get_level_values(\"PREMIUM_CUSTOMER\") == \"Budget\"][\"sum\"]\r\n",
        "bars2 = grouped_sales[grouped_sales.index.get_level_values(\"PREMIUM_CUSTOMER\") == \"Mainstream\"][\"sum\"]\r\n",
        "bars3 = grouped_sales[grouped_sales.index.get_level_values(\"PREMIUM_CUSTOMER\") == \"Premium\"][\"sum\"]\r\n",
        " \r\n",
        "bars1_text = (bars1 / sum(grouped_sales[\"sum\"])).apply(\"{:.1%}\".format)\r\n",
        "bars2_text = (bars2 / sum(grouped_sales[\"sum\"])).apply(\"{:.1%}\".format)\r\n",
        "bars3_text = (bars3 / sum(grouped_sales[\"sum\"])).apply(\"{:.1%}\".format)\r\n",
        " \r\n",
        "# Names of group and bar width\r\n",
        "names = grouped_sales.index.get_level_values(\"LIFESTAGE\").unique()\r\n",
        "\r\n",
        "# The position of the bars on the x-axis\r\n",
        "r = np.arange(len(names))\r\n",
        "\r\n",
        "plt.figure(figsize=(13,5)) \r\n",
        "\r\n",
        "# Create brown bars\r\n",
        "budget_bar = plt.barh(r, bars1, edgecolor='grey', height=1, label=\"Budget\")\r\n",
        "# Create green bars (middle), on top of the firs ones\r\n",
        "mains_bar = plt.barh(r, bars2, left=bars1, edgecolor='grey', height=1, label=\"Mainstream\")\r\n",
        "# Create green bars (top)\r\n",
        "tmp_bar = np.add(bars1, bars2)\r\n",
        "prem_bar = plt.barh(r, bars3, left=bars2, edgecolor='grey', height=1, label=\"Premium\")\r\n",
        "\r\n",
        "for i in range(7):\r\n",
        "    budget_width = budget_bar[i].get_width()\r\n",
        "    budget_main_width = budget_width + mains_bar[i].get_width()\r\n",
        "    plt.text(budget_width/2, i, bars1_text[i], va='center', ha='center', size=8)\r\n",
        "    plt.text(budget_width + mains_bar[i].get_width()/2, i, bars2_text[i], va='center', ha='center', size=8)\r\n",
        "    plt.text(budget_main_width + prem_bar[i].get_width()/2, i, bars3_text[i], va='center', ha='center', size=8)\r\n",
        "    \r\n",
        "# Custom X axis\r\n",
        "plt.yticks(r, names)\r\n",
        "plt.ylabel(\"LIFESTAGE\")\r\n",
        "plt.xlabel(\"TOTAL SALES\")\r\n",
        "plt.legend(loc='center left', bbox_to_anchor=(1.0, 0.5))\r\n",
        "\r\n",
        "plt.title(\"Total Sales per Lifestage\")\r\n",
        "\r\n",
        "plt.savefig(\"lifestage_sales.png\", bbox_inches=\"tight\")\r\n",
        "\r\n",
        "# Show graphic\r\n",
        "plt.show()"
      ],
      "execution_count": 62,
      "outputs": [
        {
          "output_type": "display_data",
          "data": {
            "image/png": "[encoded data removed]",
            "text/plain": [
              "<Figure size 936x360 with 1 Axes>"
            ]
          },
          "metadata": {
            "tags": [],
            "needs_background": "light"
          }
        }
      ]
    },
    {
      "cell_type": "code",
      "metadata": {
        "id": "QRwieNAplcGl",
        "outputId": "bfcfccea-7a3d-430b-d8fd-56f04a3a5cb7",
        "colab": {
          "base_uri": "https://localhost:8080/"
        }
      },
      "source": [
        "stage_agg_prem = merged_data.groupby(\"LIFESTAGE\")[\"PREMIUM_CUSTOMER\"].agg(pd.Series.mode).sort_values()\r\n",
        "print(\"Top contributor per LIFESTAGE by PREMIUM category\")\r\n",
        "print(stage_agg_prem)"
      ],
      "execution_count": 63,
      "outputs": [
        {
          "output_type": "stream",
          "text": [
            "Top contributor per LIFESTAGE by PREMIUM category\n",
            "LIFESTAGE\n",
            "NEW FAMILIES                  Budget\n",
            "OLDER FAMILIES                Budget\n",
            "OLDER SINGLES/COUPLES         Budget\n",
            "YOUNG FAMILIES                Budget\n",
            "MIDAGE SINGLES/COUPLES    Mainstream\n",
            "RETIREES                  Mainstream\n",
            "YOUNG SINGLES/COUPLES     Mainstream\n",
            "Name: PREMIUM_CUSTOMER, dtype: object\n"
          ],
          "name": "stdout"
        }
      ]
    },
    {
      "cell_type": "markdown",
      "metadata": {
        "id": "5REAtP0ppH1n"
      },
      "source": [
        "The top 3 total sales contributor segment are (in order):\r\n",
        "\r\n",
        "1. Older families (Budget) \\$156,864\r\n",
        "2. Young Singles/Couples (Mainstream) \\$147,582\r\n",
        "3. Retirees (Mainstream) \\$145,169"
      ]
    },
    {
      "cell_type": "code",
      "metadata": {
        "id": "ogqb5EHFlcCZ",
        "outputId": "d8147057-3609-431f-c239-485316f58a8f",
        "colab": {
          "base_uri": "https://localhost:8080/",
          "height": 703
        }
      },
      "source": [
        "unique_cust = merged_data.groupby([\"LIFESTAGE\", \"PREMIUM_CUSTOMER\"])[\"LYLTY_CARD_NBR\"].nunique().sort_values(ascending=False)\r\n",
        "pd.DataFrame(unique_cust)"
      ],
      "execution_count": 64,
      "outputs": [
        {
          "output_type": "execute_result",
          "data": {
            "text/html": [
              "<div>\n",
              "<style scoped>\n",
              "    .dataframe tbody tr th:only-of-type {\n",
              "        vertical-align: middle;\n",
              "    }\n",
              "\n",
              "    .dataframe tbody tr th {\n",
              "        vertical-align: top;\n",
              "    }\n",
              "\n",
              "    .dataframe thead th {\n",
              "        text-align: right;\n",
              "    }\n",
              "</style>\n",
              "<table border=\"1\" class=\"dataframe\">\n",
              "  <thead>\n",
              "    <tr style=\"text-align: right;\">\n",
              "      <th></th>\n",
              "      <th></th>\n",
              "      <th>LYLTY_CARD_NBR</th>\n",
              "    </tr>\n",
              "    <tr>\n",
              "      <th>LIFESTAGE</th>\n",
              "      <th>PREMIUM_CUSTOMER</th>\n",
              "      <th></th>\n",
              "    </tr>\n",
              "  </thead>\n",
              "  <tbody>\n",
              "    <tr>\n",
              "      <th>YOUNG SINGLES/COUPLES</th>\n",
              "      <th>Mainstream</th>\n",
              "      <td>8088</td>\n",
              "    </tr>\n",
              "    <tr>\n",
              "      <th>RETIREES</th>\n",
              "      <th>Mainstream</th>\n",
              "      <td>6479</td>\n",
              "    </tr>\n",
              "    <tr>\n",
              "      <th rowspan=\"3\" valign=\"top\">OLDER SINGLES/COUPLES</th>\n",
              "      <th>Mainstream</th>\n",
              "      <td>4930</td>\n",
              "    </tr>\n",
              "    <tr>\n",
              "      <th>Budget</th>\n",
              "      <td>4929</td>\n",
              "    </tr>\n",
              "    <tr>\n",
              "      <th>Premium</th>\n",
              "      <td>4750</td>\n",
              "    </tr>\n",
              "    <tr>\n",
              "      <th>OLDER FAMILIES</th>\n",
              "      <th>Budget</th>\n",
              "      <td>4675</td>\n",
              "    </tr>\n",
              "    <tr>\n",
              "      <th>RETIREES</th>\n",
              "      <th>Budget</th>\n",
              "      <td>4454</td>\n",
              "    </tr>\n",
              "    <tr>\n",
              "      <th>YOUNG FAMILIES</th>\n",
              "      <th>Budget</th>\n",
              "      <td>4017</td>\n",
              "    </tr>\n",
              "    <tr>\n",
              "      <th>RETIREES</th>\n",
              "      <th>Premium</th>\n",
              "      <td>3872</td>\n",
              "    </tr>\n",
              "    <tr>\n",
              "      <th>YOUNG SINGLES/COUPLES</th>\n",
              "      <th>Budget</th>\n",
              "      <td>3779</td>\n",
              "    </tr>\n",
              "    <tr>\n",
              "      <th>MIDAGE SINGLES/COUPLES</th>\n",
              "      <th>Mainstream</th>\n",
              "      <td>3340</td>\n",
              "    </tr>\n",
              "    <tr>\n",
              "      <th>OLDER FAMILIES</th>\n",
              "      <th>Mainstream</th>\n",
              "      <td>2831</td>\n",
              "    </tr>\n",
              "    <tr>\n",
              "      <th>YOUNG FAMILIES</th>\n",
              "      <th>Mainstream</th>\n",
              "      <td>2728</td>\n",
              "    </tr>\n",
              "    <tr>\n",
              "      <th>YOUNG SINGLES/COUPLES</th>\n",
              "      <th>Premium</th>\n",
              "      <td>2574</td>\n",
              "    </tr>\n",
              "    <tr>\n",
              "      <th>YOUNG FAMILIES</th>\n",
              "      <th>Premium</th>\n",
              "      <td>2433</td>\n",
              "    </tr>\n",
              "    <tr>\n",
              "      <th>MIDAGE SINGLES/COUPLES</th>\n",
              "      <th>Premium</th>\n",
              "      <td>2431</td>\n",
              "    </tr>\n",
              "    <tr>\n",
              "      <th>OLDER FAMILIES</th>\n",
              "      <th>Premium</th>\n",
              "      <td>2273</td>\n",
              "    </tr>\n",
              "    <tr>\n",
              "      <th>MIDAGE SINGLES/COUPLES</th>\n",
              "      <th>Budget</th>\n",
              "      <td>1504</td>\n",
              "    </tr>\n",
              "    <tr>\n",
              "      <th rowspan=\"3\" valign=\"top\">NEW FAMILIES</th>\n",
              "      <th>Budget</th>\n",
              "      <td>1112</td>\n",
              "    </tr>\n",
              "    <tr>\n",
              "      <th>Mainstream</th>\n",
              "      <td>849</td>\n",
              "    </tr>\n",
              "    <tr>\n",
              "      <th>Premium</th>\n",
              "      <td>588</td>\n",
              "    </tr>\n",
              "  </tbody>\n",
              "</table>\n",
              "</div>"
            ],
            "text/plain": [
              "                                         LYLTY_CARD_NBR\n",
              "LIFESTAGE              PREMIUM_CUSTOMER                \n",
              "YOUNG SINGLES/COUPLES  Mainstream                  8088\n",
              "RETIREES               Mainstream                  6479\n",
              "OLDER SINGLES/COUPLES  Mainstream                  4930\n",
              "                       Budget                      4929\n",
              "                       Premium                     4750\n",
              "OLDER FAMILIES         Budget                      4675\n",
              "RETIREES               Budget                      4454\n",
              "YOUNG FAMILIES         Budget                      4017\n",
              "RETIREES               Premium                     3872\n",
              "YOUNG SINGLES/COUPLES  Budget                      3779\n",
              "MIDAGE SINGLES/COUPLES Mainstream                  3340\n",
              "OLDER FAMILIES         Mainstream                  2831\n",
              "YOUNG FAMILIES         Mainstream                  2728\n",
              "YOUNG SINGLES/COUPLES  Premium                     2574\n",
              "YOUNG FAMILIES         Premium                     2433\n",
              "MIDAGE SINGLES/COUPLES Premium                     2431\n",
              "OLDER FAMILIES         Premium                     2273\n",
              "MIDAGE SINGLES/COUPLES Budget                      1504\n",
              "NEW FAMILIES           Budget                      1112\n",
              "                       Mainstream                   849\n",
              "                       Premium                      588"
            ]
          },
          "metadata": {
            "tags": []
          },
          "execution_count": 64
        }
      ]
    },
    {
      "cell_type": "code",
      "metadata": {
        "id": "N_iPVE1Clb_I",
        "outputId": "e3cc03a7-a737-40b8-9c9d-046983a5a38c",
        "colab": {
          "base_uri": "https://localhost:8080/",
          "height": 317
        }
      },
      "source": [
        "unique_cust.sort_values().plot.barh(figsize=(12,7))"
      ],
      "execution_count": 65,
      "outputs": [
        {
          "output_type": "execute_result",
          "data": {
            "text/plain": [
              "<matplotlib.axes._subplots.AxesSubplot at 0x7efe8d90ea58>"
            ]
          },
          "metadata": {
            "tags": []
          },
          "execution_count": 65
        },
        {
          "output_type": "display_data",
          "data": {
            "image/png": "[encoded data removed]",
            "text/plain": [
              "<Figure size 864x504 with 1 Axes>"
            ]
          },
          "metadata": {
            "tags": [],
            "needs_background": "light"
          }
        }
      ]
    },
    {
      "cell_type": "code",
      "metadata": {
        "id": "YxWVpJrJlbx0",
        "outputId": "1452c9d0-7219-4f18-aaf2-83037dadbf7f",
        "colab": {
          "base_uri": "https://localhost:8080/",
          "height": 228
        }
      },
      "source": [
        "# Values of each group\r\n",
        "ncust_bars1 = unique_cust[unique_cust.index.get_level_values(\"PREMIUM_CUSTOMER\") == \"Budget\"]\r\n",
        "ncust_bars2 = unique_cust[unique_cust.index.get_level_values(\"PREMIUM_CUSTOMER\") == \"Mainstream\"]\r\n",
        "ncust_bars3 = unique_cust[unique_cust.index.get_level_values(\"PREMIUM_CUSTOMER\") == \"Premium\"]\r\n",
        " \r\n",
        "ncust_bars1_text = (ncust_bars1 / sum(unique_cust)).apply(\"{:.1%}\".format)\r\n",
        "ncust_bars2_text = (ncust_bars2 / sum(unique_cust)).apply(\"{:.1%}\".format)\r\n",
        "ncust_bars3_text = (ncust_bars3 / sum(unique_cust)).apply(\"{:.1%}\".format)\r\n",
        " \r\n",
        "# # Names of group and bar width\r\n",
        "#names = unique_cust.index.get_level_values(\"LIFESTAGE\").unique()\r\n",
        "\r\n",
        "# # The position of the bars on the x-axis\r\n",
        "#r = np.arange(len(names))\r\n",
        "\r\n",
        "plt.figure(figsize=(13,5)) \r\n",
        "\r\n",
        "# # Create brown bars\r\n",
        "budget_bar = plt.barh(r, ncust_bars1, edgecolor='grey', height=1, label=\"Budget\")\r\n",
        "# # Create green bars (middle), on top of the firs ones\r\n",
        "mains_bar = plt.barh(r, ncust_bars2, left=ncust_bars1, edgecolor='grey', height=1, label=\"Mainstream\")\r\n",
        "# # Create green bars (top)\r\n",
        "prem_bar = plt.barh(r, ncust_bars3, left=ncust_bars2, edgecolor='grey', height=1, label=\"Premium\")\r\n",
        "\r\n",
        "for i in range(7):\r\n",
        "    budget_width = budget_bar[i].get_width()\r\n",
        "    budget_main_width = budget_width + mains_bar[i].get_width()\r\n",
        "    plt.text(budget_width/2, i, ncust_bars1_text[i], va='center', ha='center', size=8)\r\n",
        "    plt.text(budget_width + mains_bar[i].get_width()/2, i, ncust_bars2_text[i], va='center', ha='center', size=8)\r\n",
        "    plt.text(budget_main_width + prem_bar[i].get_width()/2, i, ncust_bars3_text[i], va='center', ha='center', size=8)\r\n",
        "    \r\n",
        "# Custom X axis\r\n",
        "plt.yticks(r, names)\r\n",
        "plt.ylabel(\"LIFESTAGE\")\r\n",
        "plt.xlabel(\"UNIQUE CUSTOMERS\")\r\n",
        "plt.legend(loc='center left', bbox_to_anchor=(1.0, 0.5))\r\n",
        "\r\n",
        "plt.title(\"Unique Customers per Lifestage\")\r\n",
        "\r\n",
        "plt.savefig(\"lifestage_customers.png\", bbox_inches=\"tight\")\r\n",
        "\r\n",
        "# # Show graphic\r\n",
        "plt.show()"
      ],
      "execution_count": 67,
      "outputs": [
        {
          "output_type": "display_data",
          "data": {
            "image/png": "[encoded data removed]",
            "text/plain": [
              "<Figure size 936x360 with 1 Axes>"
            ]
          },
          "metadata": {
            "tags": [],
            "needs_background": "light"
          }
        }
      ]
    },
    {
      "cell_type": "markdown",
      "metadata": {
        "id": "hBaMpMEVp406"
      },
      "source": [
        "The high sales amount by segment \"Young Singles/Couples - Mainstream\" and \"Retirees - Mainstream\" are due to their large number of unique customers, but not for the \"Older - Budget\" segment. Next we'll explore if the \"Older - Budget\" segment has:\r\n",
        "\r\n",
        "High Frequency of Purchase and,\r\n",
        "Average Sales per Customer compared to the other segment."
      ]
    },
    {
      "cell_type": "code",
      "metadata": {
        "id": "qlmCtX8Wp4Q5",
        "outputId": "82db5aa2-db0c-47d5-ea68-2d464850aa32",
        "colab": {
          "base_uri": "https://localhost:8080/",
          "height": 703
        }
      },
      "source": [
        "freq_per_cust = merged_data.groupby([\"LYLTY_CARD_NBR\", \"LIFESTAGE\", \"PREMIUM_CUSTOMER\"]).count()[\"DATE\"]\r\n",
        "freq_per_cust.groupby([\"LIFESTAGE\", \"PREMIUM_CUSTOMER\"]).agg([\"mean\", \"count\"]).sort_values(ascending=False, by=\"mean\")"
      ],
      "execution_count": 68,
      "outputs": [
        {
          "output_type": "execute_result",
          "data": {
            "text/html": [
              "<div>\n",
              "<style scoped>\n",
              "    .dataframe tbody tr th:only-of-type {\n",
              "        vertical-align: middle;\n",
              "    }\n",
              "\n",
              "    .dataframe tbody tr th {\n",
              "        vertical-align: top;\n",
              "    }\n",
              "\n",
              "    .dataframe thead th {\n",
              "        text-align: right;\n",
              "    }\n",
              "</style>\n",
              "<table border=\"1\" class=\"dataframe\">\n",
              "  <thead>\n",
              "    <tr style=\"text-align: right;\">\n",
              "      <th></th>\n",
              "      <th></th>\n",
              "      <th>mean</th>\n",
              "      <th>count</th>\n",
              "    </tr>\n",
              "    <tr>\n",
              "      <th>LIFESTAGE</th>\n",
              "      <th>PREMIUM_CUSTOMER</th>\n",
              "      <th></th>\n",
              "      <th></th>\n",
              "    </tr>\n",
              "  </thead>\n",
              "  <tbody>\n",
              "    <tr>\n",
              "      <th rowspan=\"3\" valign=\"top\">OLDER FAMILIES</th>\n",
              "      <th>Mainstream</th>\n",
              "      <td>5.031438</td>\n",
              "      <td>2831</td>\n",
              "    </tr>\n",
              "    <tr>\n",
              "      <th>Budget</th>\n",
              "      <td>4.954011</td>\n",
              "      <td>4675</td>\n",
              "    </tr>\n",
              "    <tr>\n",
              "      <th>Premium</th>\n",
              "      <td>4.923009</td>\n",
              "      <td>2273</td>\n",
              "    </tr>\n",
              "    <tr>\n",
              "      <th rowspan=\"3\" valign=\"top\">YOUNG FAMILIES</th>\n",
              "      <th>Budget</th>\n",
              "      <td>4.760269</td>\n",
              "      <td>4017</td>\n",
              "    </tr>\n",
              "    <tr>\n",
              "      <th>Premium</th>\n",
              "      <td>4.752569</td>\n",
              "      <td>2433</td>\n",
              "    </tr>\n",
              "    <tr>\n",
              "      <th>Mainstream</th>\n",
              "      <td>4.731305</td>\n",
              "      <td>2728</td>\n",
              "    </tr>\n",
              "    <tr>\n",
              "      <th rowspan=\"3\" valign=\"top\">OLDER SINGLES/COUPLES</th>\n",
              "      <th>Premium</th>\n",
              "      <td>3.737684</td>\n",
              "      <td>4750</td>\n",
              "    </tr>\n",
              "    <tr>\n",
              "      <th>Budget</th>\n",
              "      <td>3.734429</td>\n",
              "      <td>4929</td>\n",
              "    </tr>\n",
              "    <tr>\n",
              "      <th>Mainstream</th>\n",
              "      <td>3.715619</td>\n",
              "      <td>4930</td>\n",
              "    </tr>\n",
              "    <tr>\n",
              "      <th>MIDAGE SINGLES/COUPLES</th>\n",
              "      <th>Mainstream</th>\n",
              "      <td>3.555090</td>\n",
              "      <td>3340</td>\n",
              "    </tr>\n",
              "    <tr>\n",
              "      <th rowspan=\"2\" valign=\"top\">RETIREES</th>\n",
              "      <th>Budget</th>\n",
              "      <td>3.412887</td>\n",
              "      <td>4454</td>\n",
              "    </tr>\n",
              "    <tr>\n",
              "      <th>Premium</th>\n",
              "      <td>3.382231</td>\n",
              "      <td>3872</td>\n",
              "    </tr>\n",
              "    <tr>\n",
              "      <th rowspan=\"2\" valign=\"top\">MIDAGE SINGLES/COUPLES</th>\n",
              "      <th>Premium</th>\n",
              "      <td>3.379679</td>\n",
              "      <td>2431</td>\n",
              "    </tr>\n",
              "    <tr>\n",
              "      <th>Budget</th>\n",
              "      <td>3.337766</td>\n",
              "      <td>1504</td>\n",
              "    </tr>\n",
              "    <tr>\n",
              "      <th>RETIREES</th>\n",
              "      <th>Mainstream</th>\n",
              "      <td>3.313166</td>\n",
              "      <td>6479</td>\n",
              "    </tr>\n",
              "    <tr>\n",
              "      <th rowspan=\"3\" valign=\"top\">NEW FAMILIES</th>\n",
              "      <th>Mainstream</th>\n",
              "      <td>2.738516</td>\n",
              "      <td>849</td>\n",
              "    </tr>\n",
              "    <tr>\n",
              "      <th>Premium</th>\n",
              "      <td>2.702381</td>\n",
              "      <td>588</td>\n",
              "    </tr>\n",
              "    <tr>\n",
              "      <th>Budget</th>\n",
              "      <td>2.702338</td>\n",
              "      <td>1112</td>\n",
              "    </tr>\n",
              "    <tr>\n",
              "      <th rowspan=\"3\" valign=\"top\">YOUNG SINGLES/COUPLES</th>\n",
              "      <th>Mainstream</th>\n",
              "      <td>2.578388</td>\n",
              "      <td>8088</td>\n",
              "    </tr>\n",
              "    <tr>\n",
              "      <th>Budget</th>\n",
              "      <td>2.445621</td>\n",
              "      <td>3779</td>\n",
              "    </tr>\n",
              "    <tr>\n",
              "      <th>Premium</th>\n",
              "      <td>2.440171</td>\n",
              "      <td>2574</td>\n",
              "    </tr>\n",
              "  </tbody>\n",
              "</table>\n",
              "</div>"
            ],
            "text/plain": [
              "                                             mean  count\n",
              "LIFESTAGE              PREMIUM_CUSTOMER                 \n",
              "OLDER FAMILIES         Mainstream        5.031438   2831\n",
              "                       Budget            4.954011   4675\n",
              "                       Premium           4.923009   2273\n",
              "YOUNG FAMILIES         Budget            4.760269   4017\n",
              "                       Premium           4.752569   2433\n",
              "                       Mainstream        4.731305   2728\n",
              "OLDER SINGLES/COUPLES  Premium           3.737684   4750\n",
              "                       Budget            3.734429   4929\n",
              "                       Mainstream        3.715619   4930\n",
              "MIDAGE SINGLES/COUPLES Mainstream        3.555090   3340\n",
              "RETIREES               Budget            3.412887   4454\n",
              "                       Premium           3.382231   3872\n",
              "MIDAGE SINGLES/COUPLES Premium           3.379679   2431\n",
              "                       Budget            3.337766   1504\n",
              "RETIREES               Mainstream        3.313166   6479\n",
              "NEW FAMILIES           Mainstream        2.738516    849\n",
              "                       Premium           2.702381    588\n",
              "                       Budget            2.702338   1112\n",
              "YOUNG SINGLES/COUPLES  Mainstream        2.578388   8088\n",
              "                       Budget            2.445621   3779\n",
              "                       Premium           2.440171   2574"
            ]
          },
          "metadata": {
            "tags": []
          },
          "execution_count": 68
        }
      ]
    },
    {
      "cell_type": "markdown",
      "metadata": {
        "id": "gIiir5iYqH-w"
      },
      "source": [
        "The above table describes the \"Average frequency of Purchase per segment\" and \"Unique customer per segment\". The top three most frequent purchase is contributed by the \"Older Families\" lifestage segment. We can see now that the \"Older - Budget\" segment contributes to high sales partly because of the combination of:\r\n",
        "\r\n",
        "High Frequency of Purchase and,\r\n",
        "Fairly high unique number of customer in the segment"
      ]
    },
    {
      "cell_type": "code",
      "metadata": {
        "id": "WYgJFjUnp4ON",
        "outputId": "ac1f3d5b-aa82-4cf1-c49b-350fe2d1323b",
        "colab": {
          "base_uri": "https://localhost:8080/",
          "height": 703
        }
      },
      "source": [
        "grouped_sales.sort_values(ascending=False, by=\"mean\")"
      ],
      "execution_count": 69,
      "outputs": [
        {
          "output_type": "execute_result",
          "data": {
            "text/html": [
              "<div>\n",
              "<style scoped>\n",
              "    .dataframe tbody tr th:only-of-type {\n",
              "        vertical-align: middle;\n",
              "    }\n",
              "\n",
              "    .dataframe tbody tr th {\n",
              "        vertical-align: top;\n",
              "    }\n",
              "\n",
              "    .dataframe thead th {\n",
              "        text-align: right;\n",
              "    }\n",
              "</style>\n",
              "<table border=\"1\" class=\"dataframe\">\n",
              "  <thead>\n",
              "    <tr style=\"text-align: right;\">\n",
              "      <th></th>\n",
              "      <th></th>\n",
              "      <th>sum</th>\n",
              "      <th>mean</th>\n",
              "    </tr>\n",
              "    <tr>\n",
              "      <th>LIFESTAGE</th>\n",
              "      <th>PREMIUM_CUSTOMER</th>\n",
              "      <th></th>\n",
              "      <th></th>\n",
              "    </tr>\n",
              "  </thead>\n",
              "  <tbody>\n",
              "    <tr>\n",
              "      <th>MIDAGE SINGLES/COUPLES</th>\n",
              "      <th>Mainstream</th>\n",
              "      <td>90803.85</td>\n",
              "      <td>7.647284</td>\n",
              "    </tr>\n",
              "    <tr>\n",
              "      <th>YOUNG SINGLES/COUPLES</th>\n",
              "      <th>Mainstream</th>\n",
              "      <td>157621.60</td>\n",
              "      <td>7.558339</td>\n",
              "    </tr>\n",
              "    <tr>\n",
              "      <th>RETIREES</th>\n",
              "      <th>Premium</th>\n",
              "      <td>97646.05</td>\n",
              "      <td>7.456174</td>\n",
              "    </tr>\n",
              "    <tr>\n",
              "      <th>OLDER SINGLES/COUPLES</th>\n",
              "      <th>Premium</th>\n",
              "      <td>132263.15</td>\n",
              "      <td>7.449766</td>\n",
              "    </tr>\n",
              "    <tr>\n",
              "      <th>RETIREES</th>\n",
              "      <th>Budget</th>\n",
              "      <td>113147.80</td>\n",
              "      <td>7.443445</td>\n",
              "    </tr>\n",
              "    <tr>\n",
              "      <th>OLDER SINGLES/COUPLES</th>\n",
              "      <th>Budget</th>\n",
              "      <td>136769.80</td>\n",
              "      <td>7.430315</td>\n",
              "    </tr>\n",
              "    <tr>\n",
              "      <th rowspan=\"2\" valign=\"top\">NEW FAMILIES</th>\n",
              "      <th>Mainstream</th>\n",
              "      <td>17013.90</td>\n",
              "      <td>7.317806</td>\n",
              "    </tr>\n",
              "    <tr>\n",
              "      <th>Budget</th>\n",
              "      <td>21928.45</td>\n",
              "      <td>7.297321</td>\n",
              "    </tr>\n",
              "    <tr>\n",
              "      <th>YOUNG FAMILIES</th>\n",
              "      <th>Budget</th>\n",
              "      <td>139345.85</td>\n",
              "      <td>7.287201</td>\n",
              "    </tr>\n",
              "    <tr>\n",
              "      <th>OLDER SINGLES/COUPLES</th>\n",
              "      <th>Mainstream</th>\n",
              "      <td>133393.80</td>\n",
              "      <td>7.282116</td>\n",
              "    </tr>\n",
              "    <tr>\n",
              "      <th>OLDER FAMILIES</th>\n",
              "      <th>Budget</th>\n",
              "      <td>168363.25</td>\n",
              "      <td>7.269570</td>\n",
              "    </tr>\n",
              "    <tr>\n",
              "      <th>YOUNG FAMILIES</th>\n",
              "      <th>Premium</th>\n",
              "      <td>84025.50</td>\n",
              "      <td>7.266756</td>\n",
              "    </tr>\n",
              "    <tr>\n",
              "      <th>OLDER FAMILIES</th>\n",
              "      <th>Mainstream</th>\n",
              "      <td>103445.55</td>\n",
              "      <td>7.262395</td>\n",
              "    </tr>\n",
              "    <tr>\n",
              "      <th>RETIREES</th>\n",
              "      <th>Mainstream</th>\n",
              "      <td>155677.05</td>\n",
              "      <td>7.252262</td>\n",
              "    </tr>\n",
              "    <tr>\n",
              "      <th>NEW FAMILIES</th>\n",
              "      <th>Premium</th>\n",
              "      <td>11491.10</td>\n",
              "      <td>7.231655</td>\n",
              "    </tr>\n",
              "    <tr>\n",
              "      <th>OLDER FAMILIES</th>\n",
              "      <th>Premium</th>\n",
              "      <td>80658.40</td>\n",
              "      <td>7.208079</td>\n",
              "    </tr>\n",
              "    <tr>\n",
              "      <th>YOUNG FAMILIES</th>\n",
              "      <th>Mainstream</th>\n",
              "      <td>92788.75</td>\n",
              "      <td>7.189025</td>\n",
              "    </tr>\n",
              "    <tr>\n",
              "      <th rowspan=\"2\" valign=\"top\">MIDAGE SINGLES/COUPLES</th>\n",
              "      <th>Premium</th>\n",
              "      <td>58432.65</td>\n",
              "      <td>7.112056</td>\n",
              "    </tr>\n",
              "    <tr>\n",
              "      <th>Budget</th>\n",
              "      <td>35514.80</td>\n",
              "      <td>7.074661</td>\n",
              "    </tr>\n",
              "    <tr>\n",
              "      <th rowspan=\"2\" valign=\"top\">YOUNG SINGLES/COUPLES</th>\n",
              "      <th>Premium</th>\n",
              "      <td>41642.10</td>\n",
              "      <td>6.629852</td>\n",
              "    </tr>\n",
              "    <tr>\n",
              "      <th>Budget</th>\n",
              "      <td>61141.60</td>\n",
              "      <td>6.615624</td>\n",
              "    </tr>\n",
              "  </tbody>\n",
              "</table>\n",
              "</div>"
            ],
            "text/plain": [
              "                                               sum      mean\n",
              "LIFESTAGE              PREMIUM_CUSTOMER                     \n",
              "MIDAGE SINGLES/COUPLES Mainstream         90803.85  7.647284\n",
              "YOUNG SINGLES/COUPLES  Mainstream        157621.60  7.558339\n",
              "RETIREES               Premium            97646.05  7.456174\n",
              "OLDER SINGLES/COUPLES  Premium           132263.15  7.449766\n",
              "RETIREES               Budget            113147.80  7.443445\n",
              "OLDER SINGLES/COUPLES  Budget            136769.80  7.430315\n",
              "NEW FAMILIES           Mainstream         17013.90  7.317806\n",
              "                       Budget             21928.45  7.297321\n",
              "YOUNG FAMILIES         Budget            139345.85  7.287201\n",
              "OLDER SINGLES/COUPLES  Mainstream        133393.80  7.282116\n",
              "OLDER FAMILIES         Budget            168363.25  7.269570\n",
              "YOUNG FAMILIES         Premium            84025.50  7.266756\n",
              "OLDER FAMILIES         Mainstream        103445.55  7.262395\n",
              "RETIREES               Mainstream        155677.05  7.252262\n",
              "NEW FAMILIES           Premium            11491.10  7.231655\n",
              "OLDER FAMILIES         Premium            80658.40  7.208079\n",
              "YOUNG FAMILIES         Mainstream         92788.75  7.189025\n",
              "MIDAGE SINGLES/COUPLES Premium            58432.65  7.112056\n",
              "                       Budget             35514.80  7.074661\n",
              "YOUNG SINGLES/COUPLES  Premium            41642.10  6.629852\n",
              "                       Budget             61141.60  6.615624"
            ]
          },
          "metadata": {
            "tags": []
          },
          "execution_count": 69
        }
      ]
    },
    {
      "cell_type": "markdown",
      "metadata": {
        "id": "DfyTdKcrqN5j"
      },
      "source": [
        "Highest average spending per purchase are contributed by the Midage and Young \"Singles/Couples\". The difference between their Mainstream and Non-Mainstream group might seem insignificant (7.6 vs 6.6), but we'll find out by examining if the difference is statistically significant."
      ]
    },
    {
      "cell_type": "code",
      "metadata": {
        "id": "n7IkWwYGp4JD",
        "outputId": "6701a5cc-45be-455e-c501-0d507cbcd9b9",
        "colab": {
          "base_uri": "https://localhost:8080/"
        }
      },
      "source": [
        "from scipy.stats import ttest_ind\r\n",
        "mainstream = merged_data[\"PREMIUM_CUSTOMER\"] == \"Mainstream\"\r\n",
        "young_midage = (merged_data[\"LIFESTAGE\"] == \"MIDAGE SINGLES/COUPLES\") | (merged_data[\"LIFESTAGE\"] == \"YOUNG SINGLES/COUPLES\")\r\n",
        "\r\n",
        "budget_premium = (merged_data[\"PREMIUM_CUSTOMER\"] == \"Budget\") | (merged_data[\"PREMIUM_CUSTOMER\"] == \"Premium\")\r\n",
        "\r\n",
        "a = merged_data[young_midage & mainstream][\"TOT_SALES\"]\r\n",
        "b = merged_data[young_midage & budget_premium][\"TOT_SALES\"]\r\n",
        "stat, pval = ttest_ind(a.values, b.values, equal_var=False)\r\n",
        "\r\n",
        "print(pval)\r\n",
        "pval < 0.0000001"
      ],
      "execution_count": 70,
      "outputs": [
        {
          "output_type": "stream",
          "text": [
            "1.854204010750742e-281\n"
          ],
          "name": "stdout"
        },
        {
          "output_type": "execute_result",
          "data": {
            "text/plain": [
              "True"
            ]
          },
          "metadata": {
            "tags": []
          },
          "execution_count": 70
        }
      ]
    },
    {
      "cell_type": "markdown",
      "metadata": {
        "id": "9aYe8NdOqX9V"
      },
      "source": [
        "P-Value is close to 0. There is a statistically significant difference to the Total Sales between the \"Mainstream Young Midage\" segment to the \"Budget and Premium Young Midage\" segment.\r\n",
        "\r\n",
        "Next, let's look examine what brand of chips the top 3 segments contributing to Total Sales are buying."
      ]
    },
    {
      "cell_type": "code",
      "metadata": {
        "id": "dqxTprmqp4GM",
        "outputId": "16a39205-e54d-4849-eb89-fbe6976c2804",
        "colab": {
          "base_uri": "https://localhost:8080/"
        }
      },
      "source": [
        "merged_data.groupby([\"LIFESTAGE\", \"PREMIUM_CUSTOMER\"])[\"Cleaned_Brand_Names\"].agg(pd.Series.mode).sort_values()"
      ],
      "execution_count": 71,
      "outputs": [
        {
          "output_type": "execute_result",
          "data": {
            "text/plain": [
              "LIFESTAGE               PREMIUM_CUSTOMER\n",
              "MIDAGE SINGLES/COUPLES  Budget              Kettle\n",
              "YOUNG FAMILIES          Premium             Kettle\n",
              "                        Mainstream          Kettle\n",
              "                        Budget              Kettle\n",
              "RETIREES                Premium             Kettle\n",
              "                        Mainstream          Kettle\n",
              "                        Budget              Kettle\n",
              "OLDER SINGLES/COUPLES   Premium             Kettle\n",
              "YOUNG SINGLES/COUPLES   Mainstream          Kettle\n",
              "OLDER SINGLES/COUPLES   Mainstream          Kettle\n",
              "OLDER FAMILIES          Mainstream          Kettle\n",
              "                        Budget              Kettle\n",
              "NEW FAMILIES            Premium             Kettle\n",
              "                        Mainstream          Kettle\n",
              "                        Budget              Kettle\n",
              "MIDAGE SINGLES/COUPLES  Premium             Kettle\n",
              "                        Mainstream          Kettle\n",
              "OLDER SINGLES/COUPLES   Budget              Kettle\n",
              "YOUNG SINGLES/COUPLES   Premium             Kettle\n",
              "OLDER FAMILIES          Premium             Smiths\n",
              "YOUNG SINGLES/COUPLES   Budget              Smiths\n",
              "Name: Cleaned_Brand_Names, dtype: object"
            ]
          },
          "metadata": {
            "tags": []
          },
          "execution_count": 71
        }
      ]
    },
    {
      "cell_type": "code",
      "metadata": {
        "id": "2Qk7gMTGp4D0",
        "outputId": "23a7bf50-dbcc-4401-a288-6a1393f6dc98",
        "colab": {
          "base_uri": "https://localhost:8080/",
          "height": 1000
        }
      },
      "source": [
        "for stage in merged_data[\"LIFESTAGE\"].unique():\r\n",
        "    for prem in merged_data[\"PREMIUM_CUSTOMER\"].unique():\r\n",
        "        print('==========',stage, '-', prem,'==========')\r\n",
        "        summary = merged_data[(merged_data[\"LIFESTAGE\"] == stage) & (merged_data[\"PREMIUM_CUSTOMER\"] == prem)][\"Cleaned_Brand_Names\"].value_counts().head(3)\r\n",
        "        print(summary)\r\n",
        "        plt.figure()\r\n",
        "        summary.plot.barh(figsize=(5,1))\r\n",
        "        plt.show()"
      ],
      "execution_count": 72,
      "outputs": [
        {
          "output_type": "stream",
          "text": [
            "========== YOUNG SINGLES/COUPLES - Premium ==========\n",
            "Kettle     838\n",
            "Smiths     826\n",
            "Doritos    570\n",
            "Name: Cleaned_Brand_Names, dtype: int64\n"
          ],
          "name": "stdout"
        },
        {
          "output_type": "display_data",
          "data": {
            "image/png": "[encoded data removed]",
            "text/plain": [
              "<Figure size 360x72 with 1 Axes>"
            ]
          },
          "metadata": {
            "tags": [],
            "needs_background": "light"
          }
        },
        {
          "output_type": "stream",
          "text": [
            "========== YOUNG SINGLES/COUPLES - Budget ==========\n",
            "Smiths     1245\n",
            "Kettle     1211\n",
            "Doritos     899\n",
            "Name: Cleaned_Brand_Names, dtype: int64\n"
          ],
          "name": "stdout"
        },
        {
          "output_type": "display_data",
          "data": {
            "image/png": "[encoded data removed]",
            "text/plain": [
              "<Figure size 360x72 with 1 Axes>"
            ]
          },
          "metadata": {
            "tags": [],
            "needs_background": "light"
          }
        },
        {
          "output_type": "stream",
          "text": [
            "========== YOUNG SINGLES/COUPLES - Mainstream ==========\n",
            "Kettle      3844\n",
            "Doritos     2541\n",
            "Pringles    2315\n",
            "Name: Cleaned_Brand_Names, dtype: int64\n"
          ],
          "name": "stdout"
        },
        {
          "output_type": "display_data",
          "data": {
            "image/png": "[encoded data removed]",
            "text/plain": [
              "<Figure size 360x72 with 1 Axes>"
            ]
          },
          "metadata": {
            "tags": [],
            "needs_background": "light"
          }
        },
        {
          "output_type": "stream",
          "text": [
            "========== MIDAGE SINGLES/COUPLES - Premium ==========\n",
            "Kettle     1206\n",
            "Smiths      986\n",
            "Doritos     837\n",
            "Name: Cleaned_Brand_Names, dtype: int64\n"
          ],
          "name": "stdout"
        },
        {
          "output_type": "display_data",
          "data": {
            "image/png": "[encoded data removed]",
            "text/plain": [
              "<Figure size 360x72 with 1 Axes>"
            ]
          },
          "metadata": {
            "tags": [],
            "needs_background": "light"
          }
        },
        {
          "output_type": "stream",
          "text": [
            "========== MIDAGE SINGLES/COUPLES - Budget ==========\n",
            "Kettle     713\n",
            "Smiths     633\n",
            "Doritos    533\n",
            "Name: Cleaned_Brand_Names, dtype: int64\n"
          ],
          "name": "stdout"
        },
        {
          "output_type": "display_data",
          "data": {
            "image/png": "[encoded data removed]",
            "text/plain": [
              "<Figure size 360x72 with 1 Axes>"
            ]
          },
          "metadata": {
            "tags": [],
            "needs_background": "light"
          }
        },
        {
          "output_type": "stream",
          "text": [
            "========== MIDAGE SINGLES/COUPLES - Mainstream ==========\n",
            "Kettle     2136\n",
            "Smiths     1337\n",
            "Doritos    1291\n",
            "Name: Cleaned_Brand_Names, dtype: int64\n"
          ],
          "name": "stdout"
        },
        {
          "output_type": "display_data",
          "data": {
            "image/png": "[encoded data removed]",
            "text/plain": [
              "<Figure size 360x72 with 1 Axes>"
            ]
          },
          "metadata": {
            "tags": [],
            "needs_background": "light"
          }
        },
        {
          "output_type": "stream",
          "text": [
            "========== NEW FAMILIES - Premium ==========\n",
            "Kettle      247\n",
            "Doritos     167\n",
            "Pringles    165\n",
            "Name: Cleaned_Brand_Names, dtype: int64\n"
          ],
          "name": "stdout"
        },
        {
          "output_type": "display_data",
          "data": {
            "image/png": "[encoded data removed]",
            "text/plain": [
              "<Figure size 360x72 with 1 Axes>"
            ]
          },
          "metadata": {
            "tags": [],
            "needs_background": "light"
          }
        },
        {
          "output_type": "stream",
          "text": [
            "========== NEW FAMILIES - Budget ==========\n",
            "Kettle     510\n",
            "Doritos    343\n",
            "Smiths     341\n",
            "Name: Cleaned_Brand_Names, dtype: int64\n"
          ],
          "name": "stdout"
        },
        {
          "output_type": "display_data",
          "data": {
            "image/png": "[encoded data removed]",
            "text/plain": [
              "<Figure size 360x72 with 1 Axes>"
            ]
          },
          "metadata": {
            "tags": [],
            "needs_background": "light"
          }
        },
        {
          "output_type": "stream",
          "text": [
            "========== NEW FAMILIES - Mainstream ==========\n",
            "Kettle     414\n",
            "Doritos    274\n",
            "Smiths     254\n",
            "Name: Cleaned_Brand_Names, dtype: int64\n"
          ],
          "name": "stdout"
        },
        {
          "output_type": "display_data",
          "data": {
            "image/png": "[encoded data removed]",
            "text/plain": [
              "<Figure size 360x72 with 1 Axes>"
            ]
          },
          "metadata": {
            "tags": [],
            "needs_background": "light"
          }
        },
        {
          "output_type": "stream",
          "text": [
            "========== OLDER FAMILIES - Premium ==========\n",
            "Smiths     1515\n",
            "Kettle     1512\n",
            "Doritos    1065\n",
            "Name: Cleaned_Brand_Names, dtype: int64\n"
          ],
          "name": "stdout"
        },
        {
          "output_type": "display_data",
          "data": {
            "image/png": "[encoded data removed]",
            "text/plain": [
              "<Figure size 360x72 with 1 Axes>"
            ]
          },
          "metadata": {
            "tags": [],
            "needs_background": "light"
          }
        },
        {
          "output_type": "stream",
          "text": [
            "========== OLDER FAMILIES - Budget ==========\n",
            "Kettle     3320\n",
            "Smiths     3093\n",
            "Doritos    2351\n",
            "Name: Cleaned_Brand_Names, dtype: int64\n"
          ],
          "name": "stdout"
        },
        {
          "output_type": "display_data",
          "data": {
            "image/png": "[encoded data removed]",
            "text/plain": [
              "<Figure size 360x72 with 1 Axes>"
            ]
          },
          "metadata": {
            "tags": [],
            "needs_background": "light"
          }
        },
        {
          "output_type": "stream",
          "text": [
            "========== OLDER FAMILIES - Mainstream ==========\n",
            "Kettle     2019\n",
            "Smiths     1835\n",
            "Doritos    1449\n",
            "Name: Cleaned_Brand_Names, dtype: int64\n"
          ],
          "name": "stdout"
        },
        {
          "output_type": "display_data",
          "data": {
            "image/png": "[encoded data removed]",
            "text/plain": [
              "<Figure size 360x72 with 1 Axes>"
            ]
          },
          "metadata": {
            "tags": [],
            "needs_background": "light"
          }
        },
        {
          "output_type": "stream",
          "text": [
            "========== OLDER SINGLES/COUPLES - Premium ==========\n",
            "Kettle     2947\n",
            "Smiths     2042\n",
            "Doritos    1958\n",
            "Name: Cleaned_Brand_Names, dtype: int64\n"
          ],
          "name": "stdout"
        },
        {
          "output_type": "display_data",
          "data": {
            "image/png": "[encoded data removed]",
            "text/plain": [
              "<Figure size 360x72 with 1 Axes>"
            ]
          },
          "metadata": {
            "tags": [],
            "needs_background": "light"
          }
        },
        {
          "output_type": "stream",
          "text": [
            "========== OLDER SINGLES/COUPLES - Budget ==========\n",
            "Kettle     3065\n",
            "Smiths     2098\n",
            "Doritos    1954\n",
            "Name: Cleaned_Brand_Names, dtype: int64\n"
          ],
          "name": "stdout"
        },
        {
          "output_type": "display_data",
          "data": {
            "image/png": "[encoded data removed]",
            "text/plain": [
              "<Figure size 360x72 with 1 Axes>"
            ]
          },
          "metadata": {
            "tags": [],
            "needs_background": "light"
          }
        },
        {
          "output_type": "stream",
          "text": [
            "========== OLDER SINGLES/COUPLES - Mainstream ==========\n",
            "Kettle     2835\n",
            "Smiths     2180\n",
            "Doritos    2008\n",
            "Name: Cleaned_Brand_Names, dtype: int64\n"
          ],
          "name": "stdout"
        },
        {
          "output_type": "display_data",
          "data": {
            "image/png": "[encoded data removed]",
            "text/plain": [
              "<Figure size 360x72 with 1 Axes>"
            ]
          },
          "metadata": {
            "tags": [],
            "needs_background": "light"
          }
        },
        {
          "output_type": "stream",
          "text": [
            "========== RETIREES - Premium ==========\n",
            "Kettle     2216\n",
            "Smiths     1458\n",
            "Doritos    1409\n",
            "Name: Cleaned_Brand_Names, dtype: int64\n"
          ],
          "name": "stdout"
        },
        {
          "output_type": "display_data",
          "data": {
            "image/png": "[encoded data removed]",
            "text/plain": [
              "<Figure size 360x72 with 1 Axes>"
            ]
          },
          "metadata": {
            "tags": [],
            "needs_background": "light"
          }
        },
        {
          "output_type": "stream",
          "text": [
            "========== RETIREES - Budget ==========\n",
            "Kettle     2592\n",
            "Doritos    1742\n",
            "Smiths     1679\n",
            "Name: Cleaned_Brand_Names, dtype: int64\n"
          ],
          "name": "stdout"
        },
        {
          "output_type": "display_data",
          "data": {
            "image/png": "[encoded data removed]",
            "text/plain": [
              "<Figure size 360x72 with 1 Axes>"
            ]
          },
          "metadata": {
            "tags": [],
            "needs_background": "light"
          }
        },
        {
          "output_type": "stream",
          "text": [
            "========== RETIREES - Mainstream ==========\n",
            "Kettle     3386\n",
            "Smiths     2476\n",
            "Doritos    2320\n",
            "Name: Cleaned_Brand_Names, dtype: int64\n"
          ],
          "name": "stdout"
        },
        {
          "output_type": "display_data",
          "data": {
            "image/png": "[encoded data removed]",
            "text/plain": [
              "<Figure size 360x72 with 1 Axes>"
            ]
          },
          "metadata": {
            "tags": [],
            "needs_background": "light"
          }
        },
        {
          "output_type": "stream",
          "text": [
            "========== YOUNG FAMILIES - Premium ==========\n",
            "Kettle     1745\n",
            "Smiths     1442\n",
            "Doritos    1129\n",
            "Name: Cleaned_Brand_Names, dtype: int64\n"
          ],
          "name": "stdout"
        },
        {
          "output_type": "display_data",
          "data": {
            "image/png": "[encoded data removed]",
            "text/plain": [
              "<Figure size 360x72 with 1 Axes>"
            ]
          },
          "metadata": {
            "tags": [],
            "needs_background": "light"
          }
        },
        {
          "output_type": "stream",
          "text": [
            "========== YOUNG FAMILIES - Budget ==========\n",
            "Kettle     2743\n",
            "Smiths     2459\n",
            "Doritos    1996\n",
            "Name: Cleaned_Brand_Names, dtype: int64\n"
          ],
          "name": "stdout"
        },
        {
          "output_type": "display_data",
          "data": {
            "image/png": "[encoded data removed]",
            "text/plain": [
              "<Figure size 360x72 with 1 Axes>"
            ]
          },
          "metadata": {
            "tags": [],
            "needs_background": "light"
          }
        },
        {
          "output_type": "stream",
          "text": [
            "========== YOUNG FAMILIES - Mainstream ==========\n",
            "Kettle     1789\n",
            "Smiths     1772\n",
            "Doritos    1309\n",
            "Name: Cleaned_Brand_Names, dtype: int64\n"
          ],
          "name": "stdout"
        },
        {
          "output_type": "display_data",
          "data": {
            "image/png": "[encoded data removed]",
            "text/plain": [
              "<Figure size 360x72 with 1 Axes>"
            ]
          },
          "metadata": {
            "tags": [],
            "needs_background": "light"
          }
        }
      ]
    },
    {
      "cell_type": "markdown",
      "metadata": {
        "id": "RD6_-ENIqjc6"
      },
      "source": [
        "Every segment had Kettle as the most purchased brand. Every segment except \"YOUNG SINGLES/COUPLES Mainstream\" had Smiths as their second most purchased brand. \"YOUNG SINGLES/COUPLES Mainstream\" had Doritos as their second most purchased brand."
      ]
    },
    {
      "cell_type": "code",
      "metadata": {
        "id": "2sh0E1ONp4Af",
        "outputId": "07ff0906-6000-4bf8-95cb-4ee73e3ce40c",
        "colab": {
          "base_uri": "https://localhost:8080/",
          "height": 367
        }
      },
      "source": [
        "from mlxtend.frequent_patterns import apriori\r\n",
        "from mlxtend.frequent_patterns import association_rules\r\n",
        "\r\n",
        "temp = merged_data.reset_index().rename(columns = {\"index\": \"transaction\"})\r\n",
        "temp[\"Segment\"] = temp[\"LIFESTAGE\"] + ' - ' + temp['PREMIUM_CUSTOMER']\r\n",
        "segment_brand_encode = pd.concat([pd.get_dummies(temp[\"Segment\"]), pd.get_dummies(temp[\"Cleaned_Brand_Names\"])], axis=1)\r\n",
        "\r\n",
        "frequent_sets = apriori(segment_brand_encode, min_support=0.01, use_colnames=True)\r\n",
        "rules = association_rules(frequent_sets, metric=\"lift\", min_threshold=1)\r\n",
        "\r\n",
        "set_temp = temp[\"Segment\"].unique()\r\n",
        "rules[rules[\"antecedents\"].apply(lambda x: list(x)).apply(lambda x: x in set_temp)]"
      ],
      "execution_count": 73,
      "outputs": [
        {
          "output_type": "execute_result",
          "data": {
            "text/html": [
              "<div>\n",
              "<style scoped>\n",
              "    .dataframe tbody tr th:only-of-type {\n",
              "        vertical-align: middle;\n",
              "    }\n",
              "\n",
              "    .dataframe tbody tr th {\n",
              "        vertical-align: top;\n",
              "    }\n",
              "\n",
              "    .dataframe thead th {\n",
              "        text-align: right;\n",
              "    }\n",
              "</style>\n",
              "<table border=\"1\" class=\"dataframe\">\n",
              "  <thead>\n",
              "    <tr style=\"text-align: right;\">\n",
              "      <th></th>\n",
              "      <th>antecedents</th>\n",
              "      <th>consequents</th>\n",
              "      <th>antecedent support</th>\n",
              "      <th>consequent support</th>\n",
              "      <th>support</th>\n",
              "      <th>confidence</th>\n",
              "      <th>lift</th>\n",
              "      <th>leverage</th>\n",
              "      <th>conviction</th>\n",
              "    </tr>\n",
              "  </thead>\n",
              "  <tbody>\n",
              "    <tr>\n",
              "      <th>0</th>\n",
              "      <td>(OLDER FAMILIES - Budget)</td>\n",
              "      <td>(Smiths)</td>\n",
              "      <td>0.087451</td>\n",
              "      <td>0.120162</td>\n",
              "      <td>0.011679</td>\n",
              "      <td>0.133549</td>\n",
              "      <td>1.111409</td>\n",
              "      <td>0.001171</td>\n",
              "      <td>1.015451</td>\n",
              "    </tr>\n",
              "    <tr>\n",
              "      <th>2</th>\n",
              "      <td>(OLDER SINGLES/COUPLES - Budget)</td>\n",
              "      <td>(Kettle)</td>\n",
              "      <td>0.069504</td>\n",
              "      <td>0.155901</td>\n",
              "      <td>0.011573</td>\n",
              "      <td>0.166513</td>\n",
              "      <td>1.068064</td>\n",
              "      <td>0.000738</td>\n",
              "      <td>1.012731</td>\n",
              "    </tr>\n",
              "    <tr>\n",
              "      <th>4</th>\n",
              "      <td>(OLDER SINGLES/COUPLES - Premium)</td>\n",
              "      <td>(Kettle)</td>\n",
              "      <td>0.067038</td>\n",
              "      <td>0.155901</td>\n",
              "      <td>0.011128</td>\n",
              "      <td>0.165991</td>\n",
              "      <td>1.064716</td>\n",
              "      <td>0.000676</td>\n",
              "      <td>1.012097</td>\n",
              "    </tr>\n",
              "    <tr>\n",
              "      <th>6</th>\n",
              "      <td>(RETIREES - Mainstream)</td>\n",
              "      <td>(Kettle)</td>\n",
              "      <td>0.081055</td>\n",
              "      <td>0.155901</td>\n",
              "      <td>0.012785</td>\n",
              "      <td>0.157738</td>\n",
              "      <td>1.011779</td>\n",
              "      <td>0.000149</td>\n",
              "      <td>1.002180</td>\n",
              "    </tr>\n",
              "    <tr>\n",
              "      <th>8</th>\n",
              "      <td>(YOUNG SINGLES/COUPLES - Mainstream)</td>\n",
              "      <td>(Kettle)</td>\n",
              "      <td>0.078744</td>\n",
              "      <td>0.155901</td>\n",
              "      <td>0.014515</td>\n",
              "      <td>0.184329</td>\n",
              "      <td>1.182344</td>\n",
              "      <td>0.002239</td>\n",
              "      <td>1.034852</td>\n",
              "    </tr>\n",
              "  </tbody>\n",
              "</table>\n",
              "</div>"
            ],
            "text/plain": [
              "                            antecedents consequents  ...  leverage  conviction\n",
              "0             (OLDER FAMILIES - Budget)    (Smiths)  ...  0.001171    1.015451\n",
              "2      (OLDER SINGLES/COUPLES - Budget)    (Kettle)  ...  0.000738    1.012731\n",
              "4     (OLDER SINGLES/COUPLES - Premium)    (Kettle)  ...  0.000676    1.012097\n",
              "6               (RETIREES - Mainstream)    (Kettle)  ...  0.000149    1.002180\n",
              "8  (YOUNG SINGLES/COUPLES - Mainstream)    (Kettle)  ...  0.002239    1.034852\n",
              "\n",
              "[5 rows x 9 columns]"
            ]
          },
          "metadata": {
            "tags": []
          },
          "execution_count": 73
        }
      ]
    },
    {
      "cell_type": "markdown",
      "metadata": {
        "id": "4WN3nLy8q0bG"
      },
      "source": [
        "By looking at our a-priori analysis, we can conclude that Kettle is the brand of choice for most segment.\r\n",
        "\r\n",
        "Next, we'll find out the pack size preferences of different segments"
      ]
    },
    {
      "cell_type": "code",
      "metadata": {
        "id": "tgQ59sJJp39i",
        "outputId": "3106da0b-0e29-4cb7-e3a7-8b50d455b5af",
        "colab": {
          "base_uri": "https://localhost:8080/",
          "height": 1000
        }
      },
      "source": [
        "merged_pack = pd.concat([merged_data, pack_sizes.rename(\"Pack_Size\")], axis=1)\r\n",
        "\r\n",
        "for stage in merged_data[\"LIFESTAGE\"].unique():\r\n",
        "    for prem in merged_data[\"PREMIUM_CUSTOMER\"].unique():\r\n",
        "        print('==========',stage, '-', prem,'==========')\r\n",
        "        summary = merged_pack[(merged_pack[\"LIFESTAGE\"] == stage) & (merged_pack[\"PREMIUM_CUSTOMER\"] == prem)][\"Pack_Size\"].value_counts().head(3).sort_index()\r\n",
        "        print(summary)\r\n",
        "        plt.figure()\r\n",
        "        summary.plot.barh(figsize=(5,1))\r\n",
        "        plt.show()"
      ],
      "execution_count": 74,
      "outputs": [
        {
          "output_type": "stream",
          "text": [
            "========== YOUNG SINGLES/COUPLES - Premium ==========\n",
            "134.0     537\n",
            "150.0     961\n",
            "175.0    1587\n",
            "Name: Pack_Size, dtype: int64\n"
          ],
          "name": "stdout"
        },
        {
          "output_type": "display_data",
          "data": {
            "image/png": "[encoded data removed]",
            "text/plain": [
              "<Figure size 360x72 with 1 Axes>"
            ]
          },
          "metadata": {
            "tags": [],
            "needs_background": "light"
          }
        },
        {
          "output_type": "stream",
          "text": [
            "========== YOUNG SINGLES/COUPLES - Budget ==========\n",
            "134.0     832\n",
            "150.0    1439\n",
            "175.0    2262\n",
            "Name: Pack_Size, dtype: int64\n"
          ],
          "name": "stdout"
        },
        {
          "output_type": "display_data",
          "data": {
            "image/png": "[encoded data removed]",
            "text/plain": [
              "<Figure size 360x72 with 1 Axes>"
            ]
          },
          "metadata": {
            "tags": [],
            "needs_background": "light"
          }
        },
        {
          "output_type": "stream",
          "text": [
            "========== YOUNG SINGLES/COUPLES - Mainstream ==========\n",
            "134.0    2315\n",
            "150.0    3159\n",
            "175.0    4928\n",
            "Name: Pack_Size, dtype: int64\n"
          ],
          "name": "stdout"
        },
        {
          "output_type": "display_data",
          "data": {
            "image/png": "[encoded data removed]",
            "text/plain": [
              "<Figure size 360x72 with 1 Axes>"
            ]
          },
          "metadata": {
            "tags": [],
            "needs_background": "light"
          }
        },
        {
          "output_type": "stream",
          "text": [
            "========== MIDAGE SINGLES/COUPLES - Premium ==========\n",
            "134.0     781\n",
            "150.0    1285\n",
            "175.0    2034\n",
            "Name: Pack_Size, dtype: int64\n"
          ],
          "name": "stdout"
        },
        {
          "output_type": "display_data",
          "data": {
            "image/png": "[encoded data removed]",
            "text/plain": [
              "<Figure size 360x72 with 1 Axes>"
            ]
          },
          "metadata": {
            "tags": [],
            "needs_background": "light"
          }
        },
        {
          "output_type": "stream",
          "text": [
            "========== MIDAGE SINGLES/COUPLES - Budget ==========\n",
            "134.0     449\n",
            "150.0     821\n",
            "175.0    1256\n",
            "Name: Pack_Size, dtype: int64\n"
          ],
          "name": "stdout"
        },
        {
          "output_type": "display_data",
          "data": {
            "image/png": "[encoded data removed]",
            "text/plain": [
              "<Figure size 360x72 with 1 Axes>"
            ]
          },
          "metadata": {
            "tags": [],
            "needs_background": "light"
          }
        },
        {
          "output_type": "stream",
          "text": [
            "========== MIDAGE SINGLES/COUPLES - Mainstream ==========\n",
            "134.0    1159\n",
            "150.0    1819\n",
            "175.0    2912\n",
            "Name: Pack_Size, dtype: int64\n"
          ],
          "name": "stdout"
        },
        {
          "output_type": "display_data",
          "data": {
            "image/png": "[encoded data removed]",
            "text/plain": [
              "<Figure size 360x72 with 1 Axes>"
            ]
          },
          "metadata": {
            "tags": [],
            "needs_background": "light"
          }
        },
        {
          "output_type": "stream",
          "text": [
            "========== NEW FAMILIES - Premium ==========\n",
            "134.0    165\n",
            "150.0    245\n",
            "175.0    371\n",
            "Name: Pack_Size, dtype: int64\n"
          ],
          "name": "stdout"
        },
        {
          "output_type": "display_data",
          "data": {
            "image/png": "[encoded data removed]",
            "text/plain": [
              "<Figure size 360x72 with 1 Axes>"
            ]
          },
          "metadata": {
            "tags": [],
            "needs_background": "light"
          }
        },
        {
          "output_type": "stream",
          "text": [
            "========== NEW FAMILIES - Budget ==========\n",
            "134.0    309\n",
            "150.0    448\n",
            "175.0    763\n",
            "Name: Pack_Size, dtype: int64\n"
          ],
          "name": "stdout"
        },
        {
          "output_type": "display_data",
          "data": {
            "image/png": "[encoded data removed]",
            "text/plain": [
              "<Figure size 360x72 with 1 Axes>"
            ]
          },
          "metadata": {
            "tags": [],
            "needs_background": "light"
          }
        },
        {
          "output_type": "stream",
          "text": [
            "========== NEW FAMILIES - Mainstream ==========\n",
            "134.0    224\n",
            "150.0    384\n",
            "175.0    579\n",
            "Name: Pack_Size, dtype: int64\n"
          ],
          "name": "stdout"
        },
        {
          "output_type": "display_data",
          "data": {
            "image/png": "[encoded data removed]",
            "text/plain": [
              "<Figure size 360x72 with 1 Axes>"
            ]
          },
          "metadata": {
            "tags": [],
            "needs_background": "light"
          }
        },
        {
          "output_type": "stream",
          "text": [
            "========== OLDER FAMILIES - Premium ==========\n",
            "134.0    1014\n",
            "150.0    1750\n",
            "175.0    2747\n",
            "Name: Pack_Size, dtype: int64\n"
          ],
          "name": "stdout"
        },
        {
          "output_type": "display_data",
          "data": {
            "image/png": "[encoded data removed]",
            "text/plain": [
              "<Figure size 360x72 with 1 Axes>"
            ]
          },
          "metadata": {
            "tags": [],
            "needs_background": "light"
          }
        },
        {
          "output_type": "stream",
          "text": [
            "========== OLDER FAMILIES - Budget ==========\n",
            "134.0    1996\n",
            "150.0    3708\n",
            "175.0    5662\n",
            "Name: Pack_Size, dtype: int64\n"
          ],
          "name": "stdout"
        },
        {
          "output_type": "display_data",
          "data": {
            "image/png": "[encoded data removed]",
            "text/plain": [
              "<Figure size 360x72 with 1 Axes>"
            ]
          },
          "metadata": {
            "tags": [],
            "needs_background": "light"
          }
        },
        {
          "output_type": "stream",
          "text": [
            "========== OLDER FAMILIES - Mainstream ==========\n",
            "134.0    1234\n",
            "150.0    2261\n",
            "175.0    3489\n",
            "Name: Pack_Size, dtype: int64\n"
          ],
          "name": "stdout"
        },
        {
          "output_type": "display_data",
          "data": {
            "image/png": "[encoded data removed]",
            "text/plain": [
              "<Figure size 360x72 with 1 Axes>"
            ]
          },
          "metadata": {
            "tags": [],
            "needs_background": "light"
          }
        },
        {
          "output_type": "stream",
          "text": [
            "========== OLDER SINGLES/COUPLES - Premium ==========\n",
            "134.0    1744\n",
            "150.0    2854\n",
            "175.0    4382\n",
            "Name: Pack_Size, dtype: int64\n"
          ],
          "name": "stdout"
        },
        {
          "output_type": "display_data",
          "data": {
            "image/png": "[encoded data removed]",
            "text/plain": [
              "<Figure size 360x72 with 1 Axes>"
            ]
          },
          "metadata": {
            "tags": [],
            "needs_background": "light"
          }
        },
        {
          "output_type": "stream",
          "text": [
            "========== OLDER SINGLES/COUPLES - Budget ==========\n",
            "134.0    1843\n",
            "150.0    2899\n",
            "175.0    4535\n",
            "Name: Pack_Size, dtype: int64\n"
          ],
          "name": "stdout"
        },
        {
          "output_type": "display_data",
          "data": {
            "image/png": "[encoded data removed]",
            "text/plain": [
              "<Figure size 360x72 with 1 Axes>"
            ]
          },
          "metadata": {
            "tags": [],
            "needs_background": "light"
          }
        },
        {
          "output_type": "stream",
          "text": [
            "========== OLDER SINGLES/COUPLES - Mainstream ==========\n",
            "134.0    1720\n",
            "150.0    2875\n",
            "175.0    4422\n",
            "Name: Pack_Size, dtype: int64\n"
          ],
          "name": "stdout"
        },
        {
          "output_type": "display_data",
          "data": {
            "image/png": "[encoded data removed]",
            "text/plain": [
              "<Figure size 360x72 with 1 Axes>"
            ]
          },
          "metadata": {
            "tags": [],
            "needs_background": "light"
          }
        },
        {
          "output_type": "stream",
          "text": [
            "========== RETIREES - Premium ==========\n",
            "134.0    1331\n",
            "150.0    2015\n",
            "175.0    3232\n",
            "Name: Pack_Size, dtype: int64\n"
          ],
          "name": "stdout"
        },
        {
          "output_type": "display_data",
          "data": {
            "image/png": "[encoded data removed]",
            "text/plain": [
              "<Figure size 360x72 with 1 Axes>"
            ]
          },
          "metadata": {
            "tags": [],
            "needs_background": "light"
          }
        },
        {
          "output_type": "stream",
          "text": [
            "========== RETIREES - Budget ==========\n",
            "134.0    1517\n",
            "150.0    2381\n",
            "175.0    3768\n",
            "Name: Pack_Size, dtype: int64\n"
          ],
          "name": "stdout"
        },
        {
          "output_type": "display_data",
          "data": {
            "image/png": "[encoded data removed]",
            "text/plain": [
              "<Figure size 360x72 with 1 Axes>"
            ]
          },
          "metadata": {
            "tags": [],
            "needs_background": "light"
          }
        },
        {
          "output_type": "stream",
          "text": [
            "========== RETIREES - Mainstream ==========\n",
            "134.0    2103\n",
            "150.0    3415\n",
            "175.0    5187\n",
            "Name: Pack_Size, dtype: int64\n"
          ],
          "name": "stdout"
        },
        {
          "output_type": "display_data",
          "data": {
            "image/png": "[encoded data removed]",
            "text/plain": [
              "<Figure size 360x72 with 1 Axes>"
            ]
          },
          "metadata": {
            "tags": [],
            "needs_background": "light"
          }
        },
        {
          "output_type": "stream",
          "text": [
            "========== YOUNG FAMILIES - Premium ==========\n",
            "134.0    1007\n",
            "150.0    1832\n",
            "175.0    2926\n",
            "Name: Pack_Size, dtype: int64\n"
          ],
          "name": "stdout"
        },
        {
          "output_type": "display_data",
          "data": {
            "image/png": "[encoded data removed]",
            "text/plain": [
              "<Figure size 360x72 with 1 Axes>"
            ]
          },
          "metadata": {
            "tags": [],
            "needs_background": "light"
          }
        },
        {
          "output_type": "stream",
          "text": [
            "========== YOUNG FAMILIES - Budget ==========\n",
            "134.0    1674\n",
            "150.0    2981\n",
            "175.0    4800\n",
            "Name: Pack_Size, dtype: int64\n"
          ],
          "name": "stdout"
        },
        {
          "output_type": "display_data",
          "data": {
            "image/png": "[encoded data removed]",
            "text/plain": [
              "<Figure size 360x72 with 1 Axes>"
            ]
          },
          "metadata": {
            "tags": [],
            "needs_background": "light"
          }
        },
        {
          "output_type": "stream",
          "text": [
            "========== YOUNG FAMILIES - Mainstream ==========\n",
            "134.0    1148\n",
            "150.0    2101\n",
            "175.0    3087\n",
            "Name: Pack_Size, dtype: int64\n"
          ],
          "name": "stdout"
        },
        {
          "output_type": "display_data",
          "data": {
            "image/png": "[encoded data removed]",
            "text/plain": [
              "<Figure size 360x72 with 1 Axes>"
            ]
          },
          "metadata": {
            "tags": [],
            "needs_background": "light"
          }
        }
      ]
    },
    {
      "cell_type": "code",
      "metadata": {
        "id": "X4Y-t4MEp37M",
        "outputId": "ee0a594e-1c4b-4ffc-b1f9-59be08a092b9",
        "colab": {
          "base_uri": "https://localhost:8080/"
        }
      },
      "source": [
        "(temp.groupby([\"LIFESTAGE\", \"PREMIUM_CUSTOMER\"])[\"PROD_QTY\"].sum() / temp.groupby([\"LIFESTAGE\", \"PREMIUM_CUSTOMER\"])[\"LYLTY_CARD_NBR\"].nunique()).sort_values(ascending=False)"
      ],
      "execution_count": 75,
      "outputs": [
        {
          "output_type": "execute_result",
          "data": {
            "text/plain": [
              "LIFESTAGE               PREMIUM_CUSTOMER\n",
              "OLDER FAMILIES          Mainstream          9.804309\n",
              "                        Budget              9.639572\n",
              "                        Premium             9.578091\n",
              "YOUNG FAMILIES          Budget              9.238486\n",
              "                        Premium             9.209207\n",
              "                        Mainstream          9.180352\n",
              "OLDER SINGLES/COUPLES   Premium             7.154947\n",
              "                        Budget              7.145466\n",
              "                        Mainstream          7.098783\n",
              "MIDAGE SINGLES/COUPLES  Mainstream          6.796108\n",
              "RETIREES                Budget              6.458015\n",
              "                        Premium             6.426653\n",
              "MIDAGE SINGLES/COUPLES  Premium             6.386672\n",
              "                        Budget              6.313830\n",
              "RETIREES                Mainstream          6.253743\n",
              "NEW FAMILIES            Mainstream          5.087161\n",
              "                        Premium             5.028912\n",
              "                        Budget              5.009892\n",
              "YOUNG SINGLES/COUPLES   Mainstream          4.776459\n",
              "                        Budget              4.411485\n",
              "                        Premium             4.402098\n",
              "dtype: float64"
            ]
          },
          "metadata": {
            "tags": []
          },
          "execution_count": 75
        }
      ]
    },
    {
      "cell_type": "code",
      "metadata": {
        "id": "VZ1V9inCp34g",
        "outputId": "385680e9-b002-4174-8881-4d85a17ee778",
        "colab": {
          "base_uri": "https://localhost:8080/",
          "height": 187
        }
      },
      "source": [
        "(temp.groupby([\"LIFESTAGE\", \"PREMIUM_CUSTOMER\"])[\"PROD_QTY\"].sum() / temp.groupby([\"LIFESTAGE\", \"PREMIUM_CUSTOMER\"])[\"LYLTY_CARD_NBR\"].nunique()).unstack().plot.bar(figsize=(15,4), rot=0)\r\n",
        "plt.legend(loc=\"center left\", bbox_to_anchor=(1.0, 0.5))\r\n",
        "plt.savefig(\"Average purchase quantity per segment.png\", bbox_inches=\"tight\")"
      ],
      "execution_count": 76,
      "outputs": [
        {
          "output_type": "display_data",
          "data": {
            "image/png": "[encoded data removed]",
            "text/plain": [
              "<Figure size 1080x288 with 1 Axes>"
            ]
          },
          "metadata": {
            "tags": [],
            "needs_background": "light"
          }
        }
      ]
    },
    {
      "cell_type": "code",
      "metadata": {
        "id": "qoMDDpN0p32H",
        "outputId": "1ccea593-5823-48e5-cbab-516a3e0961d7",
        "colab": {
          "base_uri": "https://localhost:8080/"
        }
      },
      "source": [
        "#Average chips price per transaction by segments\r\n",
        "temp[\"Unit_Price\"] = temp[\"TOT_SALES\"] / temp[\"PROD_QTY\"]\r\n",
        "temp.groupby([\"Segment\"]).mean()[\"Unit_Price\"].sort_values(ascending=False)"
      ],
      "execution_count": 77,
      "outputs": [
        {
          "output_type": "execute_result",
          "data": {
            "text/plain": [
              "Segment\n",
              "YOUNG SINGLES/COUPLES - Mainstream     4.071485\n",
              "MIDAGE SINGLES/COUPLES - Mainstream    4.000101\n",
              "RETIREES - Budget                      3.924883\n",
              "RETIREES - Premium                     3.921323\n",
              "NEW FAMILIES - Budget                  3.919251\n",
              "NEW FAMILIES - Mainstream              3.916581\n",
              "OLDER SINGLES/COUPLES - Premium        3.887220\n",
              "OLDER SINGLES/COUPLES - Budget         3.877022\n",
              "NEW FAMILIES - Premium                 3.871743\n",
              "RETIREES - Mainstream                  3.833343\n",
              "OLDER SINGLES/COUPLES - Mainstream     3.803800\n",
              "YOUNG FAMILIES - Budget                3.753659\n",
              "MIDAGE SINGLES/COUPLES - Premium       3.752915\n",
              "YOUNG FAMILIES - Premium               3.752402\n",
              "OLDER FAMILIES - Budget                3.733344\n",
              "MIDAGE SINGLES/COUPLES - Budget        3.728496\n",
              "OLDER FAMILIES - Mainstream            3.727383\n",
              "YOUNG FAMILIES - Mainstream            3.707097\n",
              "OLDER FAMILIES - Premium               3.704625\n",
              "YOUNG SINGLES/COUPLES - Premium        3.645518\n",
              "YOUNG SINGLES/COUPLES - Budget         3.637681\n",
              "Name: Unit_Price, dtype: float64"
            ]
          },
          "metadata": {
            "tags": []
          },
          "execution_count": 77
        }
      ]
    },
    {
      "cell_type": "code",
      "metadata": {
        "id": "08Hpfykwp3zT",
        "outputId": "4a1cb5d8-10b2-4ef3-ebdd-b7bd5d59cfdd",
        "colab": {
          "base_uri": "https://localhost:8080/",
          "height": 203
        }
      },
      "source": [
        "temp.groupby([\"LIFESTAGE\", \"PREMIUM_CUSTOMER\"]).mean()[\"Unit_Price\"].unstack().plot.bar(figsize=(15,4), rot=0)\r\n",
        "plt.legend(loc=\"center left\", bbox_to_anchor=(1,0.5))"
      ],
      "execution_count": 78,
      "outputs": [
        {
          "output_type": "execute_result",
          "data": {
            "text/plain": [
              "<matplotlib.legend.Legend at 0x7efe8dd11630>"
            ]
          },
          "metadata": {
            "tags": []
          },
          "execution_count": 78
        },
        {
          "output_type": "display_data",
          "data": {
            "image/png": "[encoded data removed]",
            "text/plain": [
              "<Figure size 1080x288 with 1 Axes>"
            ]
          },
          "metadata": {
            "tags": [],
            "needs_background": "light"
          }
        }
      ]
    },
    {
      "cell_type": "code",
      "metadata": {
        "id": "dTQdYTyNp3wZ",
        "outputId": "60a825a2-df61-47ca-c83b-1ed768c67d0a",
        "colab": {
          "base_uri": "https://localhost:8080/",
          "height": 673
        }
      },
      "source": [
        "z = temp.groupby([\"Segment\", \"Cleaned_Brand_Names\"]).sum()[\"TOT_SALES\"].sort_values(ascending=False).reset_index()\r\n",
        "z[z[\"Segment\"] == \"YOUNG SINGLES/COUPLES - Mainstream\"]"
      ],
      "execution_count": 79,
      "outputs": [
        {
          "output_type": "execute_result",
          "data": {
            "text/html": [
              "<div>\n",
              "<style scoped>\n",
              "    .dataframe tbody tr th:only-of-type {\n",
              "        vertical-align: middle;\n",
              "    }\n",
              "\n",
              "    .dataframe tbody tr th {\n",
              "        vertical-align: top;\n",
              "    }\n",
              "\n",
              "    .dataframe thead th {\n",
              "        text-align: right;\n",
              "    }\n",
              "</style>\n",
              "<table border=\"1\" class=\"dataframe\">\n",
              "  <thead>\n",
              "    <tr style=\"text-align: right;\">\n",
              "      <th></th>\n",
              "      <th>Segment</th>\n",
              "      <th>Cleaned_Brand_Names</th>\n",
              "      <th>TOT_SALES</th>\n",
              "    </tr>\n",
              "  </thead>\n",
              "  <tbody>\n",
              "    <tr>\n",
              "      <th>0</th>\n",
              "      <td>YOUNG SINGLES/COUPLES - Mainstream</td>\n",
              "      <td>Kettle</td>\n",
              "      <td>35423.6</td>\n",
              "    </tr>\n",
              "    <tr>\n",
              "      <th>8</th>\n",
              "      <td>YOUNG SINGLES/COUPLES - Mainstream</td>\n",
              "      <td>Doritos</td>\n",
              "      <td>21705.9</td>\n",
              "    </tr>\n",
              "    <tr>\n",
              "      <th>23</th>\n",
              "      <td>YOUNG SINGLES/COUPLES - Mainstream</td>\n",
              "      <td>Pringles</td>\n",
              "      <td>16006.2</td>\n",
              "    </tr>\n",
              "    <tr>\n",
              "      <th>24</th>\n",
              "      <td>YOUNG SINGLES/COUPLES - Mainstream</td>\n",
              "      <td>Smiths</td>\n",
              "      <td>15265.7</td>\n",
              "    </tr>\n",
              "    <tr>\n",
              "      <th>55</th>\n",
              "      <td>YOUNG SINGLES/COUPLES - Mainstream</td>\n",
              "      <td>Infuzions</td>\n",
              "      <td>8749.4</td>\n",
              "    </tr>\n",
              "    <tr>\n",
              "      <th>59</th>\n",
              "      <td>YOUNG SINGLES/COUPLES - Mainstream</td>\n",
              "      <td>Old</td>\n",
              "      <td>8180.4</td>\n",
              "    </tr>\n",
              "    <tr>\n",
              "      <th>65</th>\n",
              "      <td>YOUNG SINGLES/COUPLES - Mainstream</td>\n",
              "      <td>Twisties</td>\n",
              "      <td>7539.8</td>\n",
              "    </tr>\n",
              "    <tr>\n",
              "      <th>73</th>\n",
              "      <td>YOUNG SINGLES/COUPLES - Mainstream</td>\n",
              "      <td>Tostitos</td>\n",
              "      <td>7238.0</td>\n",
              "    </tr>\n",
              "    <tr>\n",
              "      <th>74</th>\n",
              "      <td>YOUNG SINGLES/COUPLES - Mainstream</td>\n",
              "      <td>Thins</td>\n",
              "      <td>7217.1</td>\n",
              "    </tr>\n",
              "    <tr>\n",
              "      <th>92</th>\n",
              "      <td>YOUNG SINGLES/COUPLES - Mainstream</td>\n",
              "      <td>Cobs</td>\n",
              "      <td>6144.6</td>\n",
              "    </tr>\n",
              "    <tr>\n",
              "      <th>124</th>\n",
              "      <td>YOUNG SINGLES/COUPLES - Mainstream</td>\n",
              "      <td>RRD</td>\n",
              "      <td>4958.1</td>\n",
              "    </tr>\n",
              "    <tr>\n",
              "      <th>129</th>\n",
              "      <td>YOUNG SINGLES/COUPLES - Mainstream</td>\n",
              "      <td>Tyrrells</td>\n",
              "      <td>4800.6</td>\n",
              "    </tr>\n",
              "    <tr>\n",
              "      <th>148</th>\n",
              "      <td>YOUNG SINGLES/COUPLES - Mainstream</td>\n",
              "      <td>Grain Waves</td>\n",
              "      <td>4201.0</td>\n",
              "    </tr>\n",
              "    <tr>\n",
              "      <th>189</th>\n",
              "      <td>YOUNG SINGLES/COUPLES - Mainstream</td>\n",
              "      <td>Cheezels</td>\n",
              "      <td>3318.3</td>\n",
              "    </tr>\n",
              "    <tr>\n",
              "      <th>246</th>\n",
              "      <td>YOUNG SINGLES/COUPLES - Mainstream</td>\n",
              "      <td>Natural Chip Co</td>\n",
              "      <td>2130.0</td>\n",
              "    </tr>\n",
              "    <tr>\n",
              "      <th>258</th>\n",
              "      <td>YOUNG SINGLES/COUPLES - Mainstream</td>\n",
              "      <td>Woolworths</td>\n",
              "      <td>1929.8</td>\n",
              "    </tr>\n",
              "    <tr>\n",
              "      <th>318</th>\n",
              "      <td>YOUNG SINGLES/COUPLES - Mainstream</td>\n",
              "      <td>Cheetos</td>\n",
              "      <td>898.8</td>\n",
              "    </tr>\n",
              "    <tr>\n",
              "      <th>327</th>\n",
              "      <td>YOUNG SINGLES/COUPLES - Mainstream</td>\n",
              "      <td>CCs</td>\n",
              "      <td>850.5</td>\n",
              "    </tr>\n",
              "    <tr>\n",
              "      <th>383</th>\n",
              "      <td>YOUNG SINGLES/COUPLES - Mainstream</td>\n",
              "      <td>French</td>\n",
              "      <td>429.0</td>\n",
              "    </tr>\n",
              "    <tr>\n",
              "      <th>393</th>\n",
              "      <td>YOUNG SINGLES/COUPLES - Mainstream</td>\n",
              "      <td>Sunbites</td>\n",
              "      <td>391.0</td>\n",
              "    </tr>\n",
              "    <tr>\n",
              "      <th>415</th>\n",
              "      <td>YOUNG SINGLES/COUPLES - Mainstream</td>\n",
              "      <td>Burger</td>\n",
              "      <td>243.8</td>\n",
              "    </tr>\n",
              "  </tbody>\n",
              "</table>\n",
              "</div>"
            ],
            "text/plain": [
              "                                Segment Cleaned_Brand_Names  TOT_SALES\n",
              "0    YOUNG SINGLES/COUPLES - Mainstream              Kettle    35423.6\n",
              "8    YOUNG SINGLES/COUPLES - Mainstream             Doritos    21705.9\n",
              "23   YOUNG SINGLES/COUPLES - Mainstream            Pringles    16006.2\n",
              "24   YOUNG SINGLES/COUPLES - Mainstream              Smiths    15265.7\n",
              "55   YOUNG SINGLES/COUPLES - Mainstream           Infuzions     8749.4\n",
              "59   YOUNG SINGLES/COUPLES - Mainstream                 Old     8180.4\n",
              "65   YOUNG SINGLES/COUPLES - Mainstream            Twisties     7539.8\n",
              "73   YOUNG SINGLES/COUPLES - Mainstream            Tostitos     7238.0\n",
              "74   YOUNG SINGLES/COUPLES - Mainstream               Thins     7217.1\n",
              "92   YOUNG SINGLES/COUPLES - Mainstream                Cobs     6144.6\n",
              "124  YOUNG SINGLES/COUPLES - Mainstream                 RRD     4958.1\n",
              "129  YOUNG SINGLES/COUPLES - Mainstream            Tyrrells     4800.6\n",
              "148  YOUNG SINGLES/COUPLES - Mainstream         Grain Waves     4201.0\n",
              "189  YOUNG SINGLES/COUPLES - Mainstream            Cheezels     3318.3\n",
              "246  YOUNG SINGLES/COUPLES - Mainstream     Natural Chip Co     2130.0\n",
              "258  YOUNG SINGLES/COUPLES - Mainstream          Woolworths     1929.8\n",
              "318  YOUNG SINGLES/COUPLES - Mainstream             Cheetos      898.8\n",
              "327  YOUNG SINGLES/COUPLES - Mainstream                 CCs      850.5\n",
              "383  YOUNG SINGLES/COUPLES - Mainstream              French      429.0\n",
              "393  YOUNG SINGLES/COUPLES - Mainstream            Sunbites      391.0\n",
              "415  YOUNG SINGLES/COUPLES - Mainstream              Burger      243.8"
            ]
          },
          "metadata": {
            "tags": []
          },
          "execution_count": 79
        }
      ]
    },
    {
      "cell_type": "markdown",
      "metadata": {
        "id": "HeUsqSQYrMIi"
      },
      "source": [
        "#Trends and Insights :\r\n",
        "Top 3 total sales contributor segment are\r\n",
        "\r\n",
        "*  Older families (Budget) \\$156,864 \r\n",
        "*  Young Singles/Couples (Mainstream) \\$147,582 \r\n",
        "*   Retirees (Mainstream) \\$145,169\r\n",
        "\r\n",
        "1. Young Singles/Couples (Mainstream) has the highest population, followed by Retirees (Mainstream). Which explains their high total sales.\r\n",
        "\r\n",
        "2. Despite Older Families not having the highest population, they have the highest frequency of purchase, which contributes to their high total sales.\r\n",
        "\r\n",
        "3. Older Families followed by Young Families has the highest average quantity of chips bought per purchase.\r\n",
        "\r\n",
        "4. The Mainstream category of the \"Young and Midage Singles/Couples\" have the highest spending of chips per purchase. And the difference to the non-Mainstream \"Young and Midage Singles/Couples\" are statistically significant.\r\n",
        "\r\n",
        "5. Chips brand Kettle is dominating every segment as the most purchased brand.\r\n",
        "\r\n",
        "6. Observing the 2nd most purchased brand, \"Young and Midage Singles/Couples\" is the only segment with a different preference (Doritos) as compared to others' (Smiths).\r\n",
        "\r\n",
        "7. Most frequent chip size purchased is 175gr followed by the 150gr chip size for all segments."
      ]
    },
    {
      "cell_type": "markdown",
      "metadata": {
        "id": "uGlP8kJLrL2l"
      },
      "source": [
        "#Views and Recommendations:\r\n",
        "\r\n",
        "1. Older Families:\r\n",
        "Focus on the Budget segment.\r\n",
        "Strength: Frequent purchase. We can give promotions that encourages more frequency of purchase.\r\n",
        "Strength: High quantity of chips purchased per visit. We can give promotions that encourage them to buy more quantity of chips per purchase.\r\n",
        "\r\n",
        "2. Young Singles/Couples:\r\n",
        "Focus on the Mainstream segment.\r\n",
        "This segment is the only segment that had Doritos as their 2nd most purchased brand (after Kettle). To specifically target this segment it might be a good idea to collaborate with Doritos merchant to do some branding promotion catered to \"Young Singles/Couples - Mainstream\" segment.\r\n",
        "Strength: Population quantity. We can spend more effort on making sure our promotions reach them, and it reaches them frequently.\r\n",
        "\r\n",
        "3. Retirees:\r\n",
        "Focus on the Mainstream segment.\r\n",
        "Strength: Population quantity. Again, since their population quantity is the contributor to the high total sales, we should spend more effort on making sure our promotions reaches as many of them as possible and frequent.\r\n",
        "\r\n",
        "4. General:\r\n",
        "All segments has Kettle as the most frequently purchased brand, and 175gr (regardless of brand) followed by 150gr as the preferred chip size.\r\n",
        "When promoting chips in general to all segments it is good to take advantage of these two points.\r\n"
      ]
    }
  ]
}