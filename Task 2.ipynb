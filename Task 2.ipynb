{
  "nbformat": 4,
  "nbformat_minor": 0,
  "metadata": {
    "colab": {
      "name": "Task2.ipynb",
      "provenance": []
    },
    "kernelspec": {
      "name": "python3",
      "display_name": "Python 3"
    }
  },
  "cells": [
    {
      "cell_type": "markdown",
      "metadata": {
        "id": "-hJr3MKe7j0W"
      },
      "source": [
        "#Task 2-Experimentation and Uplift testing\r\n",
        "\r\n",
        "Julia has asked us to evaluate the performance of a store trial which was performed in stores 77, 86 and 88.\r\n",
        "\r\n",
        "This can be broken down by:\r\n",
        "\r\n",
        "1. total sales revenue\r\n",
        "2. total number of customers\r\n",
        "3. average number of transactions per customer\r\n",
        "\r\n",
        "Create a measure to compare different control stores to each of the trial stores to do this write a function to reduce having to re-do the analysis for each trial store. Consider using Pearson correlations or a metric such as a magnitude distance e.g. 1- (Observed distance – minimum distance)/(Maximum distance – minimum distance) as a measure.\r\n",
        "\r\n",
        "Once you have selected your control stores, compare each trial and control pair during the trial period. You want to test if total sales are significantly different in the trial period and if so, check if the driver of change is more purchasing customers or more purchases per customers etc.\r\n",
        "\r\n",
        "Main areas of Focus are :\r\n",
        "1. Select control stores – Explore data, define metrics, visualize graphs\r\n",
        "2. Assessment of the trial – insights/trends by comparing trial stores with control stores\r\n",
        "3. Collate findings – summarize and provide recommendations\r\n"
      ]
    },
    {
      "cell_type": "code",
      "metadata": {
        "id": "oXok4X_bz8el"
      },
      "source": [
        "import pandas as pd\r\n",
        "import matplotlib.pyplot as plt\r\n",
        "%matplotlib inline\r\n",
        "import numpy as np"
      ],
      "execution_count": 1,
      "outputs": []
    },
    {
      "cell_type": "code",
      "metadata": {
        "colab": {
          "base_uri": "https://localhost:8080/",
          "height": 280
        },
        "id": "aqK3ctIA9hQZ",
        "outputId": "b0d3456c-4359-43c5-cb9a-949ae62cb7a1"
      },
      "source": [
        "qvi = pd.read_csv(\"/content/QVI_data.csv\")\r\n",
        "qvi.head()"
      ],
      "execution_count": 2,
      "outputs": [
        {
          "output_type": "execute_result",
          "data": {
            "text/html": [
              "<div>\n",
              "<style scoped>\n",
              "    .dataframe tbody tr th:only-of-type {\n",
              "        vertical-align: middle;\n",
              "    }\n",
              "\n",
              "    .dataframe tbody tr th {\n",
              "        vertical-align: top;\n",
              "    }\n",
              "\n",
              "    .dataframe thead th {\n",
              "        text-align: right;\n",
              "    }\n",
              "</style>\n",
              "<table border=\"1\" class=\"dataframe\">\n",
              "  <thead>\n",
              "    <tr style=\"text-align: right;\">\n",
              "      <th></th>\n",
              "      <th>LYLTY_CARD_NBR</th>\n",
              "      <th>DATE</th>\n",
              "      <th>STORE_NBR</th>\n",
              "      <th>TXN_ID</th>\n",
              "      <th>PROD_NBR</th>\n",
              "      <th>PROD_NAME</th>\n",
              "      <th>PROD_QTY</th>\n",
              "      <th>TOT_SALES</th>\n",
              "      <th>PACK_SIZE</th>\n",
              "      <th>BRAND</th>\n",
              "      <th>LIFESTAGE</th>\n",
              "      <th>PREMIUM_CUSTOMER</th>\n",
              "    </tr>\n",
              "  </thead>\n",
              "  <tbody>\n",
              "    <tr>\n",
              "      <th>0</th>\n",
              "      <td>1000</td>\n",
              "      <td>2018-10-17</td>\n",
              "      <td>1</td>\n",
              "      <td>1</td>\n",
              "      <td>5</td>\n",
              "      <td>Natural Chip        Compny SeaSalt175g</td>\n",
              "      <td>2</td>\n",
              "      <td>6.0</td>\n",
              "      <td>175</td>\n",
              "      <td>NATURAL</td>\n",
              "      <td>YOUNG SINGLES/COUPLES</td>\n",
              "      <td>Premium</td>\n",
              "    </tr>\n",
              "    <tr>\n",
              "      <th>1</th>\n",
              "      <td>1002</td>\n",
              "      <td>2018-09-16</td>\n",
              "      <td>1</td>\n",
              "      <td>2</td>\n",
              "      <td>58</td>\n",
              "      <td>Red Rock Deli Chikn&amp;Garlic Aioli 150g</td>\n",
              "      <td>1</td>\n",
              "      <td>2.7</td>\n",
              "      <td>150</td>\n",
              "      <td>RRD</td>\n",
              "      <td>YOUNG SINGLES/COUPLES</td>\n",
              "      <td>Mainstream</td>\n",
              "    </tr>\n",
              "    <tr>\n",
              "      <th>2</th>\n",
              "      <td>1003</td>\n",
              "      <td>2019-03-07</td>\n",
              "      <td>1</td>\n",
              "      <td>3</td>\n",
              "      <td>52</td>\n",
              "      <td>Grain Waves Sour    Cream&amp;Chives 210G</td>\n",
              "      <td>1</td>\n",
              "      <td>3.6</td>\n",
              "      <td>210</td>\n",
              "      <td>GRNWVES</td>\n",
              "      <td>YOUNG FAMILIES</td>\n",
              "      <td>Budget</td>\n",
              "    </tr>\n",
              "    <tr>\n",
              "      <th>3</th>\n",
              "      <td>1003</td>\n",
              "      <td>2019-03-08</td>\n",
              "      <td>1</td>\n",
              "      <td>4</td>\n",
              "      <td>106</td>\n",
              "      <td>Natural ChipCo      Hony Soy Chckn175g</td>\n",
              "      <td>1</td>\n",
              "      <td>3.0</td>\n",
              "      <td>175</td>\n",
              "      <td>NATURAL</td>\n",
              "      <td>YOUNG FAMILIES</td>\n",
              "      <td>Budget</td>\n",
              "    </tr>\n",
              "    <tr>\n",
              "      <th>4</th>\n",
              "      <td>1004</td>\n",
              "      <td>2018-11-02</td>\n",
              "      <td>1</td>\n",
              "      <td>5</td>\n",
              "      <td>96</td>\n",
              "      <td>WW Original Stacked Chips 160g</td>\n",
              "      <td>1</td>\n",
              "      <td>1.9</td>\n",
              "      <td>160</td>\n",
              "      <td>WOOLWORTHS</td>\n",
              "      <td>OLDER SINGLES/COUPLES</td>\n",
              "      <td>Mainstream</td>\n",
              "    </tr>\n",
              "  </tbody>\n",
              "</table>\n",
              "</div>"
            ],
            "text/plain": [
              "   LYLTY_CARD_NBR        DATE  ...              LIFESTAGE  PREMIUM_CUSTOMER\n",
              "0            1000  2018-10-17  ...  YOUNG SINGLES/COUPLES           Premium\n",
              "1            1002  2018-09-16  ...  YOUNG SINGLES/COUPLES        Mainstream\n",
              "2            1003  2019-03-07  ...         YOUNG FAMILIES            Budget\n",
              "3            1003  2019-03-08  ...         YOUNG FAMILIES            Budget\n",
              "4            1004  2018-11-02  ...  OLDER SINGLES/COUPLES        Mainstream\n",
              "\n",
              "[5 rows x 12 columns]"
            ]
          },
          "metadata": {
            "tags": []
          },
          "execution_count": 2
        }
      ]
    },
    {
      "cell_type": "markdown",
      "metadata": {
        "id": "7Boe3njjAXJh"
      },
      "source": [
        "**Checking for nulls**"
      ]
    },
    {
      "cell_type": "code",
      "metadata": {
        "colab": {
          "base_uri": "https://localhost:8080/"
        },
        "id": "8n9HdQZD9hNP",
        "outputId": "3abb6a5e-afdd-44f1-b04a-590687d1671e"
      },
      "source": [
        "qvi.info()"
      ],
      "execution_count": 3,
      "outputs": [
        {
          "output_type": "stream",
          "text": [
            "<class 'pandas.core.frame.DataFrame'>\n",
            "RangeIndex: 264834 entries, 0 to 264833\n",
            "Data columns (total 12 columns):\n",
            " #   Column            Non-Null Count   Dtype  \n",
            "---  ------            --------------   -----  \n",
            " 0   LYLTY_CARD_NBR    264834 non-null  int64  \n",
            " 1   DATE              264834 non-null  object \n",
            " 2   STORE_NBR         264834 non-null  int64  \n",
            " 3   TXN_ID            264834 non-null  int64  \n",
            " 4   PROD_NBR          264834 non-null  int64  \n",
            " 5   PROD_NAME         264834 non-null  object \n",
            " 6   PROD_QTY          264834 non-null  int64  \n",
            " 7   TOT_SALES         264834 non-null  float64\n",
            " 8   PACK_SIZE         264834 non-null  int64  \n",
            " 9   BRAND             264834 non-null  object \n",
            " 10  LIFESTAGE         264834 non-null  object \n",
            " 11  PREMIUM_CUSTOMER  264834 non-null  object \n",
            "dtypes: float64(1), int64(6), object(5)\n",
            "memory usage: 24.2+ MB\n"
          ],
          "name": "stdout"
        }
      ]
    },
    {
      "cell_type": "code",
      "metadata": {
        "id": "c8StLoLt9hKJ"
      },
      "source": [
        "qvi[\"DATE\"] = pd.to_datetime(qvi[\"DATE\"])\r\n",
        "qvi[\"YEARMONTH\"] = qvi[\"DATE\"].dt.strftime(\"%Y%m\").astype(\"int\")"
      ],
      "execution_count": 4,
      "outputs": []
    },
    {
      "cell_type": "markdown",
      "metadata": {
        "id": "U7jVJc6aAz1A"
      },
      "source": [
        "Compile each store's monthly:\r\n",
        "\r\n",
        "1. Total sales\r\n",
        "2. Number of customers,\r\n",
        "3. Average transactions per customer\r\n",
        "4. Average chips per customer\r\n",
        "5. Average price per unit"
      ]
    },
    {
      "cell_type": "code",
      "metadata": {
        "id": "BCE_4yoT9hHe"
      },
      "source": [
        "def monthly_store_metrics():\r\n",
        "    store_yrmo_group = qvi.groupby([\"STORE_NBR\", \"YEARMONTH\"])\r\n",
        "    total = store_yrmo_group[\"TOT_SALES\"].sum()\r\n",
        "    num_cust = store_yrmo_group[\"LYLTY_CARD_NBR\"].nunique()\r\n",
        "    trans_per_cust = store_yrmo_group.size() / num_cust\r\n",
        "    avg_chips_per_cust = store_yrmo_group[\"PROD_QTY\"].sum() / num_cust\r\n",
        "    avg_chips_price = total / store_yrmo_group[\"PROD_QTY\"].sum()\r\n",
        "    aggregates = [total, num_cust, trans_per_cust, avg_chips_per_cust, avg_chips_price]\r\n",
        "    metrics = pd.concat(aggregates, axis=1)\r\n",
        "    metrics.columns = [\"TOT_SALES\", \"nCustomers\", \"nTxnPerCust\", \"nChipsPerTxn\", \"avgPricePerUnit\"]\r\n",
        "    return metrics"
      ],
      "execution_count": 5,
      "outputs": []
    },
    {
      "cell_type": "code",
      "metadata": {
        "colab": {
          "base_uri": "https://localhost:8080/"
        },
        "id": "3r6Z9h4A9hEn",
        "outputId": "5bd0797f-b652-46f2-8630-d1fba0aabc99"
      },
      "source": [
        "qvi_monthly_metrics = monthly_store_metrics().reset_index()\r\n",
        "qvi_monthly_metrics.info()"
      ],
      "execution_count": 6,
      "outputs": [
        {
          "output_type": "stream",
          "text": [
            "<class 'pandas.core.frame.DataFrame'>\n",
            "RangeIndex: 3169 entries, 0 to 3168\n",
            "Data columns (total 7 columns):\n",
            " #   Column           Non-Null Count  Dtype  \n",
            "---  ------           --------------  -----  \n",
            " 0   STORE_NBR        3169 non-null   int64  \n",
            " 1   YEARMONTH        3169 non-null   int64  \n",
            " 2   TOT_SALES        3169 non-null   float64\n",
            " 3   nCustomers       3169 non-null   int64  \n",
            " 4   nTxnPerCust      3169 non-null   float64\n",
            " 5   nChipsPerTxn     3169 non-null   float64\n",
            " 6   avgPricePerUnit  3169 non-null   float64\n",
            "dtypes: float64(4), int64(3)\n",
            "memory usage: 173.4 KB\n"
          ],
          "name": "stdout"
        }
      ]
    },
    {
      "cell_type": "markdown",
      "metadata": {
        "id": "DUUe-_zxBJ93"
      },
      "source": [
        "**Pre-Trial Observation as this filter only stores with full 12 months observation**"
      ]
    },
    {
      "cell_type": "code",
      "metadata": {
        "colab": {
          "base_uri": "https://localhost:8080/",
          "height": 286
        },
        "id": "r06UZ5339hBz",
        "outputId": "17191181-047c-451b-96bd-7374477bd847"
      },
      "source": [
        "observ_counts = qvi_monthly_metrics[\"STORE_NBR\"].value_counts()\r\n",
        "full_observ_index = observ_counts[observ_counts == 12].index\r\n",
        "full_observ = qvi_monthly_metrics[qvi_monthly_metrics[\"STORE_NBR\"].isin(full_observ_index)]\r\n",
        "pretrial_full_observ = full_observ[full_observ[\"YEARMONTH\"] < 201902]\r\n",
        "\r\n",
        "pretrial_full_observ.head(8)"
      ],
      "execution_count": 7,
      "outputs": [
        {
          "output_type": "execute_result",
          "data": {
            "text/html": [
              "<div>\n",
              "<style scoped>\n",
              "    .dataframe tbody tr th:only-of-type {\n",
              "        vertical-align: middle;\n",
              "    }\n",
              "\n",
              "    .dataframe tbody tr th {\n",
              "        vertical-align: top;\n",
              "    }\n",
              "\n",
              "    .dataframe thead th {\n",
              "        text-align: right;\n",
              "    }\n",
              "</style>\n",
              "<table border=\"1\" class=\"dataframe\">\n",
              "  <thead>\n",
              "    <tr style=\"text-align: right;\">\n",
              "      <th></th>\n",
              "      <th>STORE_NBR</th>\n",
              "      <th>YEARMONTH</th>\n",
              "      <th>TOT_SALES</th>\n",
              "      <th>nCustomers</th>\n",
              "      <th>nTxnPerCust</th>\n",
              "      <th>nChipsPerTxn</th>\n",
              "      <th>avgPricePerUnit</th>\n",
              "    </tr>\n",
              "  </thead>\n",
              "  <tbody>\n",
              "    <tr>\n",
              "      <th>0</th>\n",
              "      <td>1</td>\n",
              "      <td>201807</td>\n",
              "      <td>206.9</td>\n",
              "      <td>49</td>\n",
              "      <td>1.061224</td>\n",
              "      <td>1.265306</td>\n",
              "      <td>3.337097</td>\n",
              "    </tr>\n",
              "    <tr>\n",
              "      <th>1</th>\n",
              "      <td>1</td>\n",
              "      <td>201808</td>\n",
              "      <td>176.1</td>\n",
              "      <td>42</td>\n",
              "      <td>1.023810</td>\n",
              "      <td>1.285714</td>\n",
              "      <td>3.261111</td>\n",
              "    </tr>\n",
              "    <tr>\n",
              "      <th>2</th>\n",
              "      <td>1</td>\n",
              "      <td>201809</td>\n",
              "      <td>278.8</td>\n",
              "      <td>59</td>\n",
              "      <td>1.050847</td>\n",
              "      <td>1.271186</td>\n",
              "      <td>3.717333</td>\n",
              "    </tr>\n",
              "    <tr>\n",
              "      <th>3</th>\n",
              "      <td>1</td>\n",
              "      <td>201810</td>\n",
              "      <td>188.1</td>\n",
              "      <td>44</td>\n",
              "      <td>1.022727</td>\n",
              "      <td>1.318182</td>\n",
              "      <td>3.243103</td>\n",
              "    </tr>\n",
              "    <tr>\n",
              "      <th>4</th>\n",
              "      <td>1</td>\n",
              "      <td>201811</td>\n",
              "      <td>192.6</td>\n",
              "      <td>46</td>\n",
              "      <td>1.021739</td>\n",
              "      <td>1.239130</td>\n",
              "      <td>3.378947</td>\n",
              "    </tr>\n",
              "    <tr>\n",
              "      <th>5</th>\n",
              "      <td>1</td>\n",
              "      <td>201812</td>\n",
              "      <td>189.6</td>\n",
              "      <td>42</td>\n",
              "      <td>1.119048</td>\n",
              "      <td>1.357143</td>\n",
              "      <td>3.326316</td>\n",
              "    </tr>\n",
              "    <tr>\n",
              "      <th>6</th>\n",
              "      <td>1</td>\n",
              "      <td>201901</td>\n",
              "      <td>154.8</td>\n",
              "      <td>35</td>\n",
              "      <td>1.028571</td>\n",
              "      <td>1.200000</td>\n",
              "      <td>3.685714</td>\n",
              "    </tr>\n",
              "    <tr>\n",
              "      <th>12</th>\n",
              "      <td>2</td>\n",
              "      <td>201807</td>\n",
              "      <td>150.8</td>\n",
              "      <td>39</td>\n",
              "      <td>1.051282</td>\n",
              "      <td>1.179487</td>\n",
              "      <td>3.278261</td>\n",
              "    </tr>\n",
              "  </tbody>\n",
              "</table>\n",
              "</div>"
            ],
            "text/plain": [
              "    STORE_NBR  YEARMONTH  TOT_SALES  ...  nTxnPerCust  nChipsPerTxn  avgPricePerUnit\n",
              "0           1     201807      206.9  ...     1.061224      1.265306         3.337097\n",
              "1           1     201808      176.1  ...     1.023810      1.285714         3.261111\n",
              "2           1     201809      278.8  ...     1.050847      1.271186         3.717333\n",
              "3           1     201810      188.1  ...     1.022727      1.318182         3.243103\n",
              "4           1     201811      192.6  ...     1.021739      1.239130         3.378947\n",
              "5           1     201812      189.6  ...     1.119048      1.357143         3.326316\n",
              "6           1     201901      154.8  ...     1.028571      1.200000         3.685714\n",
              "12          2     201807      150.8  ...     1.051282      1.179487         3.278261\n",
              "\n",
              "[8 rows x 7 columns]"
            ]
          },
          "metadata": {
            "tags": []
          },
          "execution_count": 7
        }
      ]
    },
    {
      "cell_type": "code",
      "metadata": {
        "id": "IXfnW4zq9g_A"
      },
      "source": [
        "def calcCorrTable(metricCol, storeComparison, inputTable=pretrial_full_observ):\r\n",
        "  control_store_nbrs = inputTable[~inputTable[\"STORE_NBR\"].isin([77, 86, 88])][\"STORE_NBR\"].unique()\r\n",
        "  corrs = pd.DataFrame(columns = [\"YEARMONTH\", \"Trial_Str\", \"Ctrl_Str\", \"Corr_Score\"])\r\n",
        "  trial_store = inputTable[inputTable[\"STORE_NBR\"] == storeComparison][metricCol].reset_index()\r\n",
        "  for control in control_store_nbrs:\r\n",
        "    concat_df = pd.DataFrame(columns = [\"YEARMONTH\", \"Trial_Str\", \"Ctrl_Str\", \"Corr_Score\"])\r\n",
        "    control_store = inputTable[inputTable[\"STORE_NBR\"] == control][metricCol].reset_index()\r\n",
        "    concat_df[\"Corr_Score\"] = trial_store.corrwith(control_store, axis=1)\r\n",
        "    concat_df[\"Trial_Str\"] = storeComparison\r\n",
        "    concat_df[\"Ctrl_Str\"] = control\r\n",
        "    concat_df[\"YEARMONTH\"] = list(inputTable[inputTable[\"STORE_NBR\"] == storeComparison][\"YEARMONTH\"])\r\n",
        "    corrs = pd.concat([corrs, concat_df])\r\n",
        "  return corrs"
      ],
      "execution_count": 11,
      "outputs": []
    },
    {
      "cell_type": "code",
      "metadata": {
        "colab": {
          "base_uri": "https://localhost:8080/",
          "height": 286
        },
        "id": "SU3jrHJt9g8h",
        "outputId": "b68b3839-d6df-4d78-f474-9306ef63441b"
      },
      "source": [
        "corr_table = pd.DataFrame()\r\n",
        "for trial_num in [77, 86, 88]:\r\n",
        "    corr_table = pd.concat([corr_table, calcCorrTable([\"TOT_SALES\", \"nCustomers\", \"nTxnPerCust\", \"nChipsPerTxn\", \"avgPricePerUnit\"], trial_num)])\r\n",
        "    \r\n",
        "corr_table.head(8)"
      ],
      "execution_count": 12,
      "outputs": [
        {
          "output_type": "execute_result",
          "data": {
            "text/html": [
              "<div>\n",
              "<style scoped>\n",
              "    .dataframe tbody tr th:only-of-type {\n",
              "        vertical-align: middle;\n",
              "    }\n",
              "\n",
              "    .dataframe tbody tr th {\n",
              "        vertical-align: top;\n",
              "    }\n",
              "\n",
              "    .dataframe thead th {\n",
              "        text-align: right;\n",
              "    }\n",
              "</style>\n",
              "<table border=\"1\" class=\"dataframe\">\n",
              "  <thead>\n",
              "    <tr style=\"text-align: right;\">\n",
              "      <th></th>\n",
              "      <th>YEARMONTH</th>\n",
              "      <th>Trial_Str</th>\n",
              "      <th>Ctrl_Str</th>\n",
              "      <th>Corr_Score</th>\n",
              "    </tr>\n",
              "  </thead>\n",
              "  <tbody>\n",
              "    <tr>\n",
              "      <th>0</th>\n",
              "      <td>201807</td>\n",
              "      <td>77</td>\n",
              "      <td>1</td>\n",
              "      <td>0.070414</td>\n",
              "    </tr>\n",
              "    <tr>\n",
              "      <th>1</th>\n",
              "      <td>201808</td>\n",
              "      <td>77</td>\n",
              "      <td>1</td>\n",
              "      <td>0.027276</td>\n",
              "    </tr>\n",
              "    <tr>\n",
              "      <th>2</th>\n",
              "      <td>201809</td>\n",
              "      <td>77</td>\n",
              "      <td>1</td>\n",
              "      <td>0.002389</td>\n",
              "    </tr>\n",
              "    <tr>\n",
              "      <th>3</th>\n",
              "      <td>201810</td>\n",
              "      <td>77</td>\n",
              "      <td>1</td>\n",
              "      <td>-0.020045</td>\n",
              "    </tr>\n",
              "    <tr>\n",
              "      <th>4</th>\n",
              "      <td>201811</td>\n",
              "      <td>77</td>\n",
              "      <td>1</td>\n",
              "      <td>0.030024</td>\n",
              "    </tr>\n",
              "    <tr>\n",
              "      <th>5</th>\n",
              "      <td>201812</td>\n",
              "      <td>77</td>\n",
              "      <td>1</td>\n",
              "      <td>0.063946</td>\n",
              "    </tr>\n",
              "    <tr>\n",
              "      <th>6</th>\n",
              "      <td>201901</td>\n",
              "      <td>77</td>\n",
              "      <td>1</td>\n",
              "      <td>0.001470</td>\n",
              "    </tr>\n",
              "    <tr>\n",
              "      <th>0</th>\n",
              "      <td>201807</td>\n",
              "      <td>77</td>\n",
              "      <td>2</td>\n",
              "      <td>0.142957</td>\n",
              "    </tr>\n",
              "  </tbody>\n",
              "</table>\n",
              "</div>"
            ],
            "text/plain": [
              "  YEARMONTH Trial_Str Ctrl_Str  Corr_Score\n",
              "0    201807        77        1    0.070414\n",
              "1    201808        77        1    0.027276\n",
              "2    201809        77        1    0.002389\n",
              "3    201810        77        1   -0.020045\n",
              "4    201811        77        1    0.030024\n",
              "5    201812        77        1    0.063946\n",
              "6    201901        77        1    0.001470\n",
              "0    201807        77        2    0.142957"
            ]
          },
          "metadata": {
            "tags": []
          },
          "execution_count": 12
        }
      ]
    },
    {
      "cell_type": "code",
      "metadata": {
        "id": "Z7YKfa1C9g5_"
      },
      "source": [
        "def calculateMagnitudeDistance(metricCol, storeComparison, inputTable=pretrial_full_observ):\r\n",
        "    control_store_nbrs = inputTable[~inputTable[\"STORE_NBR\"].isin([77, 86, 88])][\"STORE_NBR\"].unique()\r\n",
        "    dists = pd.DataFrame()\r\n",
        "    trial_store = inputTable[inputTable[\"STORE_NBR\"] == storeComparison][metricCol]\r\n",
        "    for control in control_store_nbrs:\r\n",
        "        concat_df  = abs(inputTable[inputTable[\"STORE_NBR\"] == storeComparison].reset_index()[metricCol] - inputTable[inputTable[\"STORE_NBR\"] == control].reset_index()[metricCol])\r\n",
        "        concat_df[\"YEARMONTH\"] = list(inputTable[inputTable[\"STORE_NBR\"] == storeComparison][\"YEARMONTH\"])\r\n",
        "        concat_df[\"Trial_Str\"] = storeComparison\r\n",
        "        concat_df[\"Ctrl_Str\"] = control\r\n",
        "        dists = pd.concat([dists, concat_df])\r\n",
        "    for col in metricCol:\r\n",
        "        dists[col] = 1 - ((dists[col] - dists[col].min()) / (dists[col].max() - dists[col].min()))\r\n",
        "    dists[\"magnitude\"] = dists[metricCol].mean(axis=1)\r\n",
        "    return dists"
      ],
      "execution_count": 13,
      "outputs": []
    },
    {
      "cell_type": "code",
      "metadata": {
        "colab": {
          "base_uri": "https://localhost:8080/",
          "height": 404
        },
        "id": "audeWP_B9g3M",
        "outputId": "91439acf-9a64-465a-9d18-35d99eb16334"
      },
      "source": [
        "dist_table = pd.DataFrame()\r\n",
        "for trial_num in [77, 86, 88]:\r\n",
        "    dist_table = pd.concat([dist_table, calculateMagnitudeDistance([\"TOT_SALES\", \"nCustomers\", \"nTxnPerCust\", \"nChipsPerTxn\", \"avgPricePerUnit\"], trial_num)])\r\n",
        "    \r\n",
        "dist_table.head(8)\r\n",
        "dist_table"
      ],
      "execution_count": 14,
      "outputs": [
        {
          "output_type": "execute_result",
          "data": {
            "text/html": [
              "<div>\n",
              "<style scoped>\n",
              "    .dataframe tbody tr th:only-of-type {\n",
              "        vertical-align: middle;\n",
              "    }\n",
              "\n",
              "    .dataframe tbody tr th {\n",
              "        vertical-align: top;\n",
              "    }\n",
              "\n",
              "    .dataframe thead th {\n",
              "        text-align: right;\n",
              "    }\n",
              "</style>\n",
              "<table border=\"1\" class=\"dataframe\">\n",
              "  <thead>\n",
              "    <tr style=\"text-align: right;\">\n",
              "      <th></th>\n",
              "      <th>TOT_SALES</th>\n",
              "      <th>nCustomers</th>\n",
              "      <th>nTxnPerCust</th>\n",
              "      <th>nChipsPerTxn</th>\n",
              "      <th>avgPricePerUnit</th>\n",
              "      <th>YEARMONTH</th>\n",
              "      <th>Trial_Str</th>\n",
              "      <th>Ctrl_Str</th>\n",
              "      <th>magnitude</th>\n",
              "    </tr>\n",
              "  </thead>\n",
              "  <tbody>\n",
              "    <tr>\n",
              "      <th>0</th>\n",
              "      <td>0.935431</td>\n",
              "      <td>0.980769</td>\n",
              "      <td>0.958035</td>\n",
              "      <td>0.739412</td>\n",
              "      <td>0.883569</td>\n",
              "      <td>201807</td>\n",
              "      <td>77</td>\n",
              "      <td>1</td>\n",
              "      <td>0.899443</td>\n",
              "    </tr>\n",
              "    <tr>\n",
              "      <th>1</th>\n",
              "      <td>0.942972</td>\n",
              "      <td>0.951923</td>\n",
              "      <td>0.993823</td>\n",
              "      <td>0.802894</td>\n",
              "      <td>0.886328</td>\n",
              "      <td>201808</td>\n",
              "      <td>77</td>\n",
              "      <td>1</td>\n",
              "      <td>0.915588</td>\n",
              "    </tr>\n",
              "    <tr>\n",
              "      <th>2</th>\n",
              "      <td>0.961503</td>\n",
              "      <td>0.836538</td>\n",
              "      <td>0.992126</td>\n",
              "      <td>0.730041</td>\n",
              "      <td>0.703027</td>\n",
              "      <td>201809</td>\n",
              "      <td>77</td>\n",
              "      <td>1</td>\n",
              "      <td>0.844647</td>\n",
              "    </tr>\n",
              "    <tr>\n",
              "      <th>3</th>\n",
              "      <td>0.988221</td>\n",
              "      <td>0.932692</td>\n",
              "      <td>0.989514</td>\n",
              "      <td>0.940460</td>\n",
              "      <td>0.590528</td>\n",
              "      <td>201810</td>\n",
              "      <td>77</td>\n",
              "      <td>1</td>\n",
              "      <td>0.888283</td>\n",
              "    </tr>\n",
              "    <tr>\n",
              "      <th>4</th>\n",
              "      <td>0.962149</td>\n",
              "      <td>0.951923</td>\n",
              "      <td>0.874566</td>\n",
              "      <td>0.730358</td>\n",
              "      <td>0.832481</td>\n",
              "      <td>201811</td>\n",
              "      <td>77</td>\n",
              "      <td>1</td>\n",
              "      <td>0.870296</td>\n",
              "    </tr>\n",
              "    <tr>\n",
              "      <th>...</th>\n",
              "      <td>...</td>\n",
              "      <td>...</td>\n",
              "      <td>...</td>\n",
              "      <td>...</td>\n",
              "      <td>...</td>\n",
              "      <td>...</td>\n",
              "      <td>...</td>\n",
              "      <td>...</td>\n",
              "      <td>...</td>\n",
              "    </tr>\n",
              "    <tr>\n",
              "      <th>2</th>\n",
              "      <td>0.207554</td>\n",
              "      <td>0.286822</td>\n",
              "      <td>0.462846</td>\n",
              "      <td>0.779879</td>\n",
              "      <td>0.923887</td>\n",
              "      <td>201809</td>\n",
              "      <td>88</td>\n",
              "      <td>272</td>\n",
              "      <td>0.532198</td>\n",
              "    </tr>\n",
              "    <tr>\n",
              "      <th>3</th>\n",
              "      <td>0.346797</td>\n",
              "      <td>0.387597</td>\n",
              "      <td>0.571497</td>\n",
              "      <td>0.796875</td>\n",
              "      <td>0.971133</td>\n",
              "      <td>201810</td>\n",
              "      <td>88</td>\n",
              "      <td>272</td>\n",
              "      <td>0.614780</td>\n",
              "    </tr>\n",
              "    <tr>\n",
              "      <th>4</th>\n",
              "      <td>0.286706</td>\n",
              "      <td>0.310078</td>\n",
              "      <td>0.623883</td>\n",
              "      <td>0.813241</td>\n",
              "      <td>0.966999</td>\n",
              "      <td>201811</td>\n",
              "      <td>88</td>\n",
              "      <td>272</td>\n",
              "      <td>0.600181</td>\n",
              "    </tr>\n",
              "    <tr>\n",
              "      <th>5</th>\n",
              "      <td>0.347151</td>\n",
              "      <td>0.387597</td>\n",
              "      <td>0.376456</td>\n",
              "      <td>0.699748</td>\n",
              "      <td>0.962198</td>\n",
              "      <td>201812</td>\n",
              "      <td>88</td>\n",
              "      <td>272</td>\n",
              "      <td>0.554630</td>\n",
              "    </tr>\n",
              "    <tr>\n",
              "      <th>6</th>\n",
              "      <td>0.402353</td>\n",
              "      <td>0.449612</td>\n",
              "      <td>0.450378</td>\n",
              "      <td>0.739714</td>\n",
              "      <td>0.971335</td>\n",
              "      <td>201901</td>\n",
              "      <td>88</td>\n",
              "      <td>272</td>\n",
              "      <td>0.602678</td>\n",
              "    </tr>\n",
              "  </tbody>\n",
              "</table>\n",
              "<p>5397 rows × 9 columns</p>\n",
              "</div>"
            ],
            "text/plain": [
              "    TOT_SALES  nCustomers  nTxnPerCust  ...  Trial_Str  Ctrl_Str  magnitude\n",
              "0    0.935431    0.980769     0.958035  ...         77         1   0.899443\n",
              "1    0.942972    0.951923     0.993823  ...         77         1   0.915588\n",
              "2    0.961503    0.836538     0.992126  ...         77         1   0.844647\n",
              "3    0.988221    0.932692     0.989514  ...         77         1   0.888283\n",
              "4    0.962149    0.951923     0.874566  ...         77         1   0.870296\n",
              "..        ...         ...          ...  ...        ...       ...        ...\n",
              "2    0.207554    0.286822     0.462846  ...         88       272   0.532198\n",
              "3    0.346797    0.387597     0.571497  ...         88       272   0.614780\n",
              "4    0.286706    0.310078     0.623883  ...         88       272   0.600181\n",
              "5    0.347151    0.387597     0.376456  ...         88       272   0.554630\n",
              "6    0.402353    0.449612     0.450378  ...         88       272   0.602678\n",
              "\n",
              "[5397 rows x 9 columns]"
            ]
          },
          "metadata": {
            "tags": []
          },
          "execution_count": 14
        }
      ]
    },
    {
      "cell_type": "markdown",
      "metadata": {
        "id": "v3lZRuueCpFj"
      },
      "source": [
        "We'll select control stores based on how similar monthly total sales in dollar amounts and monthly number of customers are to the trial stores by using correlation and magnitude distance."
      ]
    },
    {
      "cell_type": "code",
      "metadata": {
        "id": "Vv6Evktt9g0f"
      },
      "source": [
        "def combine_corr_dist(metricCol, storeComparison, inputTable=pretrial_full_observ):\r\n",
        "    corrs = calcCorrTable(metricCol, storeComparison, inputTable)\r\n",
        "    dists = calculateMagnitudeDistance(metricCol, storeComparison, inputTable)\r\n",
        "    dists = dists.drop(metricCol, axis=1)\r\n",
        "    combine = pd.merge(corrs, dists, on=[\"YEARMONTH\", \"Trial_Str\", \"Ctrl_Str\"])\r\n",
        "    return combine"
      ],
      "execution_count": 15,
      "outputs": []
    },
    {
      "cell_type": "code",
      "metadata": {
        "id": "YmUHwFop9gs5"
      },
      "source": [
        "compare_metrics_table1 = pd.DataFrame()\r\n",
        "for trial_num in [77, 86, 88]:\r\n",
        "    compare_metrics_table1 = pd.concat([compare_metrics_table1, combine_corr_dist([\"TOT_SALES\"], trial_num)])"
      ],
      "execution_count": 16,
      "outputs": []
    },
    {
      "cell_type": "code",
      "metadata": {
        "id": "hEK2V9f4CkWp"
      },
      "source": [
        "corr_weight = 0.5\r\n",
        "dist_weight = 1 - corr_weight"
      ],
      "execution_count": 17,
      "outputs": []
    },
    {
      "cell_type": "markdown",
      "metadata": {
        "id": "Nxx4jY57C5H8"
      },
      "source": [
        "Determining the top five highest composite score for each trial based on Total sales"
      ]
    },
    {
      "cell_type": "code",
      "metadata": {
        "colab": {
          "base_uri": "https://localhost:8080/"
        },
        "id": "IPtYDk5_CkQb",
        "outputId": "7aae1088-8982-46c8-dacc-b0d6931a229f"
      },
      "source": [
        "grouped_comparison_table1 = compare_metrics_table1.groupby([\"Trial_Str\", \"Ctrl_Str\"]).mean().reset_index()\r\n",
        "grouped_comparison_table1[\"CompScore\"] = (corr_weight * grouped_comparison_table1[\"Corr_Score\"]) + (dist_weight * grouped_comparison_table1[\"magnitude\"])\r\n",
        "for trial_num in compare_metrics_table1[\"Trial_Str\"].unique():\r\n",
        "    print(grouped_comparison_table1[grouped_comparison_table1[\"Trial_Str\"] == trial_num].sort_values(ascending=False, by=\"CompScore\").head(), '\\n')"
      ],
      "execution_count": 18,
      "outputs": [
        {
          "output_type": "stream",
          "text": [
            "     Trial_Str  Ctrl_Str  Corr_Score  magnitude  CompScore\n",
            "218         77       233         1.0   0.986477   0.993238\n",
            "239         77       255         1.0   0.979479   0.989739\n",
            "177         77       188         1.0   0.977663   0.988831\n",
            "49          77        53         1.0   0.976678   0.988339\n",
            "120         77       131         1.0   0.976267   0.988134 \n",
            "\n",
            "     Trial_Str  Ctrl_Str  Corr_Score  magnitude  CompScore\n",
            "356         86       109         1.0   0.966783   0.983391\n",
            "401         86       155         1.0   0.965876   0.982938\n",
            "464         86       222         1.0   0.962280   0.981140\n",
            "467         86       225         1.0   0.960512   0.980256\n",
            "471         86       229         1.0   0.951704   0.975852 \n",
            "\n",
            "     Trial_Str  Ctrl_Str  Corr_Score  magnitude  CompScore\n",
            "551         88        40         1.0   0.941165   0.970582\n",
            "538         88        26         1.0   0.904377   0.952189\n",
            "582         88        72         1.0   0.903800   0.951900\n",
            "517         88         4         1.0   0.903466   0.951733\n",
            "568         88        58         1.0   0.891678   0.945839 \n",
            "\n"
          ],
          "name": "stdout"
        }
      ]
    },
    {
      "cell_type": "code",
      "metadata": {
        "id": "VNxeJb1LCkNj"
      },
      "source": [
        "compare_metrics_table2 = pd.DataFrame()\r\n",
        "for trial_num in [77, 86, 88]:\r\n",
        "    compare_metrics_table2 = pd.concat([compare_metrics_table2, combine_corr_dist([\"nCustomers\"], trial_num)])"
      ],
      "execution_count": 19,
      "outputs": []
    },
    {
      "cell_type": "markdown",
      "metadata": {
        "id": "ihvwvmX5DRtN"
      },
      "source": [
        "Determining the top five highest composite score for each trial based on no. of customers"
      ]
    },
    {
      "cell_type": "code",
      "metadata": {
        "colab": {
          "base_uri": "https://localhost:8080/"
        },
        "id": "OcpDDfx4CkKw",
        "outputId": "ea93df2a-914f-463f-8999-97a6bc266a86"
      },
      "source": [
        "grouped_comparison_table2 = compare_metrics_table2.groupby([\"Trial_Str\", \"Ctrl_Str\"]).mean().reset_index()\r\n",
        "grouped_comparison_table2[\"CompScore\"] = (corr_weight * grouped_comparison_table2[\"Corr_Score\"]) + (dist_weight * grouped_comparison_table2[\"magnitude\"])\r\n",
        "for trial_num in compare_metrics_table2[\"Trial_Str\"].unique():\r\n",
        "    print(grouped_comparison_table2[grouped_comparison_table2[\"Trial_Str\"] == trial_num].sort_values(ascending=False, by=\"CompScore\").head(), '\\n')"
      ],
      "execution_count": 20,
      "outputs": [
        {
          "output_type": "stream",
          "text": [
            "     Trial_Str  Ctrl_Str  Corr_Score  magnitude  CompScore\n",
            "218         77       233         1.0   0.993132   0.996566\n",
            "38          77        41         1.0   0.976648   0.988324\n",
            "101         77       111         1.0   0.968407   0.984203\n",
            "105         77       115         1.0   0.967033   0.983516\n",
            "15          77        17         1.0   0.965659   0.982830 \n",
            "\n",
            "     Trial_Str  Ctrl_Str  Corr_Score  magnitude  CompScore\n",
            "401         86       155         1.0   0.986772   0.993386\n",
            "467         86       225         1.0   0.969577   0.984788\n",
            "356         86       109         1.0   0.969577   0.984788\n",
            "471         86       229         1.0   0.964286   0.982143\n",
            "293         86        39         1.0   0.961640   0.980820 \n",
            "\n",
            "     Trial_Str  Ctrl_Str  Corr_Score  magnitude  CompScore\n",
            "736         88       237         1.0   0.987818   0.993909\n",
            "705         88       203         1.0   0.944629   0.972315\n",
            "551         88        40         1.0   0.942414   0.971207\n",
            "668         88       165         1.0   0.935770   0.967885\n",
            "701         88       199         1.0   0.932447   0.966224 \n",
            "\n"
          ],
          "name": "stdout"
        }
      ]
    },
    {
      "cell_type": "code",
      "metadata": {
        "colab": {
          "base_uri": "https://localhost:8080/"
        },
        "id": "1eVqkuZ9CkHz",
        "outputId": "e32f63f9-5198-41eb-cdea-1d97b4dbd293"
      },
      "source": [
        "for trial_num in compare_metrics_table2[\"Trial_Str\"].unique():\r\n",
        "    a = grouped_comparison_table1[grouped_comparison_table1[\"Trial_Str\"] == trial_num].sort_values(ascending=False, by=\"CompScore\").set_index([\"Trial_Str\", \"Ctrl_Str\"])[\"CompScore\"]\r\n",
        "    b = grouped_comparison_table2[grouped_comparison_table2[\"Trial_Str\"] == trial_num].sort_values(ascending=False, by=\"CompScore\").set_index([\"Trial_Str\", \"Ctrl_Str\"])[\"CompScore\"]\r\n",
        "    print((pd.concat([a,b], axis=1).sum(axis=1)/2).sort_values(ascending=False).head(3), '\\n')"
      ],
      "execution_count": 21,
      "outputs": [
        {
          "output_type": "stream",
          "text": [
            "Trial_Str  Ctrl_Str\n",
            "77         233         0.994902\n",
            "           41          0.986020\n",
            "           46          0.984762\n",
            "dtype: float64 \n",
            "\n",
            "Trial_Str  Ctrl_Str\n",
            "86         155         0.988162\n",
            "           109         0.984090\n",
            "           225         0.982522\n",
            "dtype: float64 \n",
            "\n",
            "Trial_Str  Ctrl_Str\n",
            "88         40          0.970895\n",
            "           26          0.958929\n",
            "           72          0.954079\n",
            "dtype: float64 \n",
            "\n"
          ],
          "name": "stdout"
        }
      ]
    },
    {
      "cell_type": "markdown",
      "metadata": {
        "id": "_2MhEdR-Dia-"
      },
      "source": [
        "Similarities based on total sales:\r\n",
        "1. Trial store 77: Store 233, 255, 188\r\n",
        "2. Trial store 86: Store 109, 155, 222\r\n",
        "3. Trial store 88: Store 40, 26, 72\r\n",
        "\r\n",
        "Similarities based on No. of Customers:\r\n",
        "1. Trial store 77: Store 233, 41, 111\r\n",
        "2. Trial store 86: Store 155, 225, 109\r\n",
        "3. Trial store 88: Store 237, 203, 40\r\n",
        "\r\n",
        "Final SImilarities based on Highest average of both features combined:\r\n",
        "1. Trial store 77: Store 233\r\n",
        "2. Trial store 86: Store 155\r\n",
        "3. Trial store 88: Store 40\r\n"
      ]
    },
    {
      "cell_type": "code",
      "metadata": {
        "colab": {
          "base_uri": "https://localhost:8080/",
          "height": 1000
        },
        "id": "ApgkSkh-CkFM",
        "outputId": "513894f3-7ccf-4c3f-8562-7cca8506c694"
      },
      "source": [
        "trial_control_dic = {77:233, 86:155, 88:40}\r\n",
        "for key, val in trial_control_dic.items():\r\n",
        "    pretrial_full_observ[pretrial_full_observ[\"STORE_NBR\"].isin([key, val])].groupby(\r\n",
        "        [\"YEARMONTH\", \"STORE_NBR\"]).sum()[\"TOT_SALES\"].unstack().plot.bar()\r\n",
        "    plt.legend(loc='center left', bbox_to_anchor=(1.0, 0.5))\r\n",
        "    plt.title(\"Trial Store \"+str(key)+\" and Control Store \"+str(val)+\" - TOT_SALES\")\r\n",
        "    plt.show()\r\n",
        "    pretrial_full_observ[pretrial_full_observ[\"STORE_NBR\"].isin([key, val])].groupby(\r\n",
        "    [\"YEARMONTH\", \"STORE_NBR\"]).sum()[\"nCustomers\"].unstack().plot.bar()\r\n",
        "    plt.legend(loc='center left', bbox_to_anchor=(1.0, 0.5))\r\n",
        "    plt.title(\"Trial Store \"+str(key)+\" and Control Store \"+str(val)+\" - nCustomer\")\r\n",
        "    plt.show()\r\n",
        "    print('\\n')"
      ],
      "execution_count": 22,
      "outputs": [
        {
          "output_type": "display_data",
          "data": {
            "image/png": "[encoded data removed]",
            "text/plain": [
              "<Figure size 432x288 with 1 Axes>"
            ]
          },
          "metadata": {
            "tags": [],
            "needs_background": "light"
          }
        },
        {
          "output_type": "display_data",
          "data": {
            "image/png": "[encoded data removed]",
            "text/plain": [
              "<Figure size 432x288 with 1 Axes>"
            ]
          },
          "metadata": {
            "tags": [],
            "needs_background": "light"
          }
        },
        {
          "output_type": "stream",
          "text": [
            "\n",
            "\n"
          ],
          "name": "stdout"
        },
        {
          "output_type": "display_data",
          "data": {
            "image/png": "[encoded data removed]",
            "text/plain": [
              "<Figure size 432x288 with 1 Axes>"
            ]
          },
          "metadata": {
            "tags": [],
            "needs_background": "light"
          }
        },
        {
          "output_type": "display_data",
          "data": {
            "image/png": "[encoded data removed]",
            "text/plain": [
              "<Figure size 432x288 with 1 Axes>"
            ]
          },
          "metadata": {
            "tags": [],
            "needs_background": "light"
          }
        },
        {
          "output_type": "stream",
          "text": [
            "\n",
            "\n"
          ],
          "name": "stdout"
        },
        {
          "output_type": "display_data",
          "data": {
            "image/png": "[encoded data removed]",
            "text/plain": [
              "<Figure size 432x288 with 1 Axes>"
            ]
          },
          "metadata": {
            "tags": [],
            "needs_background": "light"
          }
        },
        {
          "output_type": "display_data",
          "data": {
            "image/png": "[encoded data removed]",
            "text/plain": [
              "<Figure size 432x288 with 1 Axes>"
            ]
          },
          "metadata": {
            "tags": [],
            "needs_background": "light"
          }
        },
        {
          "output_type": "stream",
          "text": [
            "\n",
            "\n"
          ],
          "name": "stdout"
        }
      ]
    },
    {
      "cell_type": "markdown",
      "metadata": {
        "id": "5hTbfRGyEeeT"
      },
      "source": [
        "Next we'll compare the performance of Trial stores to Control stores during the trial period. To ensure their performance is comparable during Trial period, we need to scale (multiply to ratio of trial / control) all of Control stores' performance to Trial store's performance during pre-trial. Starting with TOT_SALES."
      ]
    },
    {
      "cell_type": "code",
      "metadata": {
        "id": "y3GrRtu6Ebkn"
      },
      "source": [
        "#Ratio of Store 77 and its Control store.\r\n",
        "sales_ratio_77 = pretrial_full_observ[pretrial_full_observ[\"STORE_NBR\"] == 77][\"TOT_SALES\"].sum() / pretrial_full_observ[pretrial_full_observ[\"STORE_NBR\"] == 233][\"TOT_SALES\"].sum()\r\n",
        "\r\n",
        "#Ratio of Store 86 and its Control store.\r\n",
        "sales_ratio_86 = pretrial_full_observ[pretrial_full_observ[\"STORE_NBR\"] == 86][\"TOT_SALES\"].sum() / pretrial_full_observ[pretrial_full_observ[\"STORE_NBR\"] == 155][\"TOT_SALES\"].sum()\r\n",
        "\r\n",
        "#Ratio of Store 77 and its Control store.\r\n",
        "sales_ratio_88 = pretrial_full_observ[pretrial_full_observ[\"STORE_NBR\"] == 88][\"TOT_SALES\"].sum() / pretrial_full_observ[pretrial_full_observ[\"STORE_NBR\"] == 40][\"TOT_SALES\"].sum()"
      ],
      "execution_count": 23,
      "outputs": []
    },
    {
      "cell_type": "code",
      "metadata": {
        "colab": {
          "base_uri": "https://localhost:8080/",
          "height": 935
        },
        "id": "ek6lRxkdEbY2",
        "outputId": "21f48f3f-9d47-4c3a-f667-365eb31a2823"
      },
      "source": [
        "trial_full_observ = full_observ[(full_observ[\"YEARMONTH\"] >= 201902) & (full_observ[\"YEARMONTH\"] <= 201904)]\r\n",
        "scaled_sales_control_stores = full_observ[full_observ[\"STORE_NBR\"].isin([233, 155, 40])][[\"STORE_NBR\", \"YEARMONTH\", \"TOT_SALES\"]]\r\n",
        "\r\n",
        "def scaler(row):\r\n",
        "    if row[\"STORE_NBR\"] == 233:\r\n",
        "        return row[\"TOT_SALES\"] * sales_ratio_77\r\n",
        "    elif row[\"STORE_NBR\"] == 155:\r\n",
        "        return row[\"TOT_SALES\"] * sales_ratio_86\r\n",
        "    elif row[\"STORE_NBR\"] == 40:\r\n",
        "        return row[\"TOT_SALES\"] * sales_ratio_88\r\n",
        "\r\n",
        "scaled_sales_control_stores[\"ScaledSales\"] = scaled_sales_control_stores.apply(lambda row: scaler(row), axis=1)\r\n",
        "\r\n",
        "trial_scaled_sales_control_stores = scaled_sales_control_stores[(scaled_sales_control_stores[\"YEARMONTH\"] >= 201902) & (scaled_sales_control_stores[\"YEARMONTH\"] <= 201904)]\r\n",
        "pretrial_scaled_sales_control_stores = scaled_sales_control_stores[scaled_sales_control_stores[\"YEARMONTH\"] < 201902]\r\n",
        "\r\n",
        "percentage_diff = {}\r\n",
        "\r\n",
        "for trial, control in trial_control_dic.items():\r\n",
        "    a = trial_scaled_sales_control_stores[trial_scaled_sales_control_stores[\"STORE_NBR\"] == control]\r\n",
        "    b = trial_full_observ[trial_full_observ[\"STORE_NBR\"] == trial][[\"STORE_NBR\", \"YEARMONTH\", \"TOT_SALES\"]]\r\n",
        "    percentage_diff[trial] = b[\"TOT_SALES\"].sum() / a[\"ScaledSales\"].sum()\r\n",
        "    b[[\"YEARMONTH\", \"TOT_SALES\"]].merge(a[[\"YEARMONTH\", \"ScaledSales\"]],on=\"YEARMONTH\").set_index(\"YEARMONTH\").rename(columns={\"ScaledSales\":\"Scaled_Control_Sales\", \"TOT_SALES\":\"Trial_Sales\"}).plot.bar()\r\n",
        "    plt.legend(loc='center left', bbox_to_anchor=(1.0, 0.5))\r\n",
        "    plt.title(\"Trial Store \"+str(trial)+\" and Control Store \"+str(control))"
      ],
      "execution_count": 25,
      "outputs": [
        {
          "output_type": "display_data",
          "data": {
            "image/png": "[encoded data removed]",
            "text/plain": [
              "<Figure size 432x288 with 1 Axes>"
            ]
          },
          "metadata": {
            "tags": [],
            "needs_background": "light"
          }
        },
        {
          "output_type": "display_data",
          "data": {
            "image/png": "[encoded data removed]",
            "text/plain": [
              "<Figure size 432x288 with 1 Axes>"
            ]
          },
          "metadata": {
            "tags": [],
            "needs_background": "light"
          }
        },
        {
          "output_type": "display_data",
          "data": {
            "image/png": "[encoded data removed]",
            "text/plain": [
              "<Figure size 432x288 with 1 Axes>"
            ]
          },
          "metadata": {
            "tags": [],
            "needs_background": "light"
          }
        }
      ]
    },
    {
      "cell_type": "code",
      "metadata": {
        "colab": {
          "base_uri": "https://localhost:8080/"
        },
        "id": "6Iimmo7qEbVi",
        "outputId": "56defdaa-eb61-4331-f628-37dfd8b6b064"
      },
      "source": [
        "percentage_diff"
      ],
      "execution_count": 26,
      "outputs": [
        {
          "output_type": "execute_result",
          "data": {
            "text/plain": [
              "{77: 1.2615468650086274, 86: 1.13150143573637, 88: 1.0434583458542188}"
            ]
          },
          "metadata": {
            "tags": []
          },
          "execution_count": 26
        }
      ]
    },
    {
      "cell_type": "code",
      "metadata": {
        "colab": {
          "base_uri": "https://localhost:8080/",
          "height": 316
        },
        "id": "VWWbBZ3QEbSP",
        "outputId": "698e0ba6-7ae5-4b02-cfa0-2953a46ee940"
      },
      "source": [
        "temp1 = scaled_sales_control_stores.sort_values(by=[\"STORE_NBR\", \"YEARMONTH\"], ascending=[False, True]).reset_index().drop([\"TOT_SALES\", \"index\"], axis=1)\r\n",
        "temp2 = full_observ[full_observ[\"STORE_NBR\"].isin([77,86,88])][[\"STORE_NBR\", \"YEARMONTH\", \"TOT_SALES\"]].reset_index().drop([\"index\", \"YEARMONTH\"], axis=1)\r\n",
        "scaledsales_vs_trial = pd.concat([temp1, temp2], axis=1)\r\n",
        "scaledsales_vs_trial.columns = [\"c_STORE_NBR\", \"YEARMONTH\", \"c_ScaledSales\", \"t_STORE_NBR\", \"t_TOT_SALES\"]\r\n",
        "scaledsales_vs_trial[\"Sales_Percentage_Diff\"] = (scaledsales_vs_trial[\"t_TOT_SALES\"] - scaledsales_vs_trial[\"c_ScaledSales\"]) / (((scaledsales_vs_trial[\"t_TOT_SALES\"] + scaledsales_vs_trial[\"c_ScaledSales\"])/2))\r\n",
        "def label_period(cell):\r\n",
        "    if cell < 201902:\r\n",
        "        return \"pre\"\r\n",
        "    elif cell > 201904:\r\n",
        "        return \"post\"\r\n",
        "    else:\r\n",
        "        return \"trial\"\r\n",
        "scaledsales_vs_trial[\"trial_period\"] = scaledsales_vs_trial[\"YEARMONTH\"].apply(lambda cell: label_period(cell))\r\n",
        "scaledsales_vs_trial[scaledsales_vs_trial[\"trial_period\"] == \"trial\"]"
      ],
      "execution_count": 27,
      "outputs": [
        {
          "output_type": "execute_result",
          "data": {
            "text/html": [
              "<div>\n",
              "<style scoped>\n",
              "    .dataframe tbody tr th:only-of-type {\n",
              "        vertical-align: middle;\n",
              "    }\n",
              "\n",
              "    .dataframe tbody tr th {\n",
              "        vertical-align: top;\n",
              "    }\n",
              "\n",
              "    .dataframe thead th {\n",
              "        text-align: right;\n",
              "    }\n",
              "</style>\n",
              "<table border=\"1\" class=\"dataframe\">\n",
              "  <thead>\n",
              "    <tr style=\"text-align: right;\">\n",
              "      <th></th>\n",
              "      <th>c_STORE_NBR</th>\n",
              "      <th>YEARMONTH</th>\n",
              "      <th>c_ScaledSales</th>\n",
              "      <th>t_STORE_NBR</th>\n",
              "      <th>t_TOT_SALES</th>\n",
              "      <th>Sales_Percentage_Diff</th>\n",
              "      <th>trial_period</th>\n",
              "    </tr>\n",
              "  </thead>\n",
              "  <tbody>\n",
              "    <tr>\n",
              "      <th>7</th>\n",
              "      <td>233</td>\n",
              "      <td>201902</td>\n",
              "      <td>249.762622</td>\n",
              "      <td>77</td>\n",
              "      <td>235.0</td>\n",
              "      <td>-0.060907</td>\n",
              "      <td>trial</td>\n",
              "    </tr>\n",
              "    <tr>\n",
              "      <th>8</th>\n",
              "      <td>233</td>\n",
              "      <td>201903</td>\n",
              "      <td>203.802205</td>\n",
              "      <td>77</td>\n",
              "      <td>278.5</td>\n",
              "      <td>0.309755</td>\n",
              "      <td>trial</td>\n",
              "    </tr>\n",
              "    <tr>\n",
              "      <th>9</th>\n",
              "      <td>233</td>\n",
              "      <td>201904</td>\n",
              "      <td>162.345704</td>\n",
              "      <td>77</td>\n",
              "      <td>263.5</td>\n",
              "      <td>0.475075</td>\n",
              "      <td>trial</td>\n",
              "    </tr>\n",
              "    <tr>\n",
              "      <th>19</th>\n",
              "      <td>155</td>\n",
              "      <td>201902</td>\n",
              "      <td>864.522060</td>\n",
              "      <td>86</td>\n",
              "      <td>913.2</td>\n",
              "      <td>0.054764</td>\n",
              "      <td>trial</td>\n",
              "    </tr>\n",
              "    <tr>\n",
              "      <th>20</th>\n",
              "      <td>155</td>\n",
              "      <td>201903</td>\n",
              "      <td>780.320405</td>\n",
              "      <td>86</td>\n",
              "      <td>1026.8</td>\n",
              "      <td>0.272787</td>\n",
              "      <td>trial</td>\n",
              "    </tr>\n",
              "    <tr>\n",
              "      <th>21</th>\n",
              "      <td>155</td>\n",
              "      <td>201904</td>\n",
              "      <td>819.317024</td>\n",
              "      <td>86</td>\n",
              "      <td>848.2</td>\n",
              "      <td>0.034642</td>\n",
              "      <td>trial</td>\n",
              "    </tr>\n",
              "    <tr>\n",
              "      <th>31</th>\n",
              "      <td>40</td>\n",
              "      <td>201902</td>\n",
              "      <td>1434.399269</td>\n",
              "      <td>88</td>\n",
              "      <td>1370.2</td>\n",
              "      <td>-0.045781</td>\n",
              "      <td>trial</td>\n",
              "    </tr>\n",
              "    <tr>\n",
              "      <th>32</th>\n",
              "      <td>40</td>\n",
              "      <td>201903</td>\n",
              "      <td>1352.064709</td>\n",
              "      <td>88</td>\n",
              "      <td>1477.2</td>\n",
              "      <td>0.088458</td>\n",
              "      <td>trial</td>\n",
              "    </tr>\n",
              "    <tr>\n",
              "      <th>33</th>\n",
              "      <td>40</td>\n",
              "      <td>201904</td>\n",
              "      <td>1321.797762</td>\n",
              "      <td>88</td>\n",
              "      <td>1439.4</td>\n",
              "      <td>0.085182</td>\n",
              "      <td>trial</td>\n",
              "    </tr>\n",
              "  </tbody>\n",
              "</table>\n",
              "</div>"
            ],
            "text/plain": [
              "    c_STORE_NBR  YEARMONTH  ...  Sales_Percentage_Diff  trial_period\n",
              "7           233     201902  ...              -0.060907         trial\n",
              "8           233     201903  ...               0.309755         trial\n",
              "9           233     201904  ...               0.475075         trial\n",
              "19          155     201902  ...               0.054764         trial\n",
              "20          155     201903  ...               0.272787         trial\n",
              "21          155     201904  ...               0.034642         trial\n",
              "31           40     201902  ...              -0.045781         trial\n",
              "32           40     201903  ...               0.088458         trial\n",
              "33           40     201904  ...               0.085182         trial\n",
              "\n",
              "[9 rows x 7 columns]"
            ]
          },
          "metadata": {
            "tags": []
          },
          "execution_count": 27
        }
      ]
    },
    {
      "cell_type": "markdown",
      "metadata": {
        "id": "LhuyCIMiFZCD"
      },
      "source": [
        "Check significance of Trial minus Control stores TOT_SALES Percentage Difference Pre-Trial vs Trial.\r\n",
        "\r\n",
        "Step 1: Check null hypothesis of 0 difference between control store's Pre-Trial and Trial period performance.\r\n",
        "\r\n",
        "Step 2: Proof control and trial stores are similar statistically\r\n",
        "\r\n",
        "Check p-value of control store's Pre-Trial vs Trial store's Pre-Trial.\r\n",
        "If <5%, it is significantly different. If >5%, it is not significantly different (similar).\r\n",
        "\r\n",
        "Step 3: After checking Null Hypothesis of first 2 step to be true, we can check Null Hypothesis of Percentage Difference between Trial and Control stores during pre-trial is the same as during trial.\r\n",
        "\r\n",
        "Check T-Value of Percentage Difference of each Trial month (Feb, March, April 2019).\r\n",
        "Mean is mean of Percentage Difference during pre-trial.\r\n",
        "Standard deviation is stdev of Percentage Difference during pre-trial.\r\n",
        "Formula is Trial month's Percentage Difference minus Mean, divided by Standard deviation.\r\n",
        "Compare each T-Value with 95% percentage significance critical t-value of 6 degrees of freedom (7 months of sample - 1)"
      ]
    },
    {
      "cell_type": "code",
      "metadata": {
        "colab": {
          "base_uri": "https://localhost:8080/"
        },
        "id": "-C4BolQEEbPA",
        "outputId": "2080adaf-b19e-4d08-c6c5-b9e2bd22c1e9"
      },
      "source": [
        "from scipy.stats import ttest_ind, t\r\n",
        "\r\n",
        "# Step 1\r\n",
        "for num in [40, 155, 233]:\r\n",
        "    print(\"Store\", num)\r\n",
        "    print(ttest_ind(pretrial_scaled_sales_control_stores[pretrial_scaled_sales_control_stores[\"STORE_NBR\"] == num][\"ScaledSales\"],\r\n",
        "                   trial_scaled_sales_control_stores[trial_scaled_sales_control_stores[\"STORE_NBR\"] == num][\"ScaledSales\"],\r\n",
        "                   equal_var=False), '\\n')\r\n",
        "    #print(len(pretrial_scaled_sales_control_stores[pretrial_scaled_sales_control_stores[\"STORE_NBR\"] == num][\"ScaledSales\"]), len(trial_scaled_sales_control_stores[trial_scaled_sales_control_stores[\"STORE_NBR\"] == num][\"ScaledSales\"]))\r\n",
        "    \r\n",
        "alpha = 0.05\r\n",
        "print(\"Critical t-value for 95% confidence interval:\")\r\n",
        "print(t.ppf((alpha/2, 1-alpha/2), df=min([len(pretrial_scaled_sales_control_stores[pretrial_scaled_sales_control_stores[\"STORE_NBR\"] == num]),\r\n",
        "                       len(trial_scaled_sales_control_stores[trial_scaled_sales_control_stores[\"STORE_NBR\"] == num])])-1))"
      ],
      "execution_count": 28,
      "outputs": [
        {
          "output_type": "stream",
          "text": [
            "Store 40\n",
            "Ttest_indResult(statistic=-0.5958372343168585, pvalue=0.5722861621434009) \n",
            "\n",
            "Store 155\n",
            "Ttest_indResult(statistic=1.429195687929098, pvalue=0.19727058651603258) \n",
            "\n",
            "Store 233\n",
            "Ttest_indResult(statistic=1.1911026010974504, pvalue=0.29445006064862156) \n",
            "\n",
            "Critical t-value for 95% confidence interval:\n",
            "[-4.30265273  4.30265273]\n"
          ],
          "name": "stdout"
        }
      ]
    },
    {
      "cell_type": "code",
      "metadata": {
        "id": "EF9azpK6EbLm"
      },
      "source": [
        "\r\n",
        "a = pretrial_scaled_sales_control_stores[pretrial_scaled_sales_control_stores[\"STORE_NBR\"] == 40][\"ScaledSales\"]\r\n",
        "b = trial_scaled_sales_control_stores[trial_scaled_sales_control_stores[\"STORE_NBR\"] == 40][\"ScaledSales\"]"
      ],
      "execution_count": 29,
      "outputs": []
    },
    {
      "cell_type": "markdown",
      "metadata": {
        "id": "p9r3iolZFlzG"
      },
      "source": [
        "\r\n",
        "Null hypothesis is true. There isn't any statistically significant difference between control store's scaled Pre-Trial and Trial period sales."
      ]
    },
    {
      "cell_type": "code",
      "metadata": {
        "colab": {
          "base_uri": "https://localhost:8080/"
        },
        "id": "xfJsTQ1bEa_2",
        "outputId": "cd8f69ad-9540-49dc-b69e-c38498f47fa9"
      },
      "source": [
        "# Step 2\r\n",
        "for trial, cont in trial_control_dic.items():\r\n",
        "    print(\"Trial store:\", trial, \", Control store:\", cont)\r\n",
        "    print(ttest_ind(pretrial_full_observ[pretrial_full_observ[\"STORE_NBR\"] == trial][\"TOT_SALES\"],\r\n",
        "                   pretrial_scaled_sales_control_stores[pretrial_scaled_sales_control_stores[\"STORE_NBR\"] == cont][\"ScaledSales\"],\r\n",
        "                   equal_var=True), '\\n')\r\n",
        "    #print(len(pretrial_full_observ[pretrial_full_observ[\"STORE_NBR\"] == trial][\"TOT_SALES\"]),len(pretrial_scaled_sales_control_stores[pretrial_scaled_sales_control_stores[\"STORE_NBR\"] == cont][\"ScaledSales\"]))\r\n",
        "\r\n",
        "alpha = 0.05\r\n",
        "print(\"Critical t-value for 95% confidence interval:\")\r\n",
        "print(t.ppf((alpha/2, 1-alpha/2), df=len(pretrial_full_observ[pretrial_full_observ[\"STORE_NBR\"] == trial])-1))"
      ],
      "execution_count": 30,
      "outputs": [
        {
          "output_type": "stream",
          "text": [
            "Trial store: 77 , Control store: 233\n",
            "Ttest_indResult(statistic=-1.2533353315065926e-15, pvalue=0.999999999999999) \n",
            "\n",
            "Trial store: 86 , Control store: 155\n",
            "Ttest_indResult(statistic=0.0, pvalue=1.0) \n",
            "\n",
            "Trial store: 88 , Control store: 40\n",
            "Ttest_indResult(statistic=0.0, pvalue=1.0) \n",
            "\n",
            "Critical t-value for 95% confidence interval:\n",
            "[-2.44691185  2.44691185]\n"
          ],
          "name": "stdout"
        }
      ]
    },
    {
      "cell_type": "markdown",
      "metadata": {
        "id": "2Zu137QPFsbC"
      },
      "source": [
        "Null hypothesis is true. There isn't any statistically significant difference between Trial store's sales and Control store's scaled-sales performance during pre-trial."
      ]
    },
    {
      "cell_type": "code",
      "metadata": {
        "colab": {
          "base_uri": "https://localhost:8080/"
        },
        "id": "kigmTotcFnX1",
        "outputId": "b7edbd6e-71eb-437e-ebc7-ee39dfd2e3b8"
      },
      "source": [
        "# Step 3\r\n",
        "for trial, cont in trial_control_dic.items():\r\n",
        "    print(\"Trial store:\", trial, \", Control store:\", cont)\r\n",
        "    temp_pre = scaledsales_vs_trial[(scaledsales_vs_trial[\"c_STORE_NBR\"] == cont) & (scaledsales_vs_trial[\"trial_period\"]==\"pre\")]\r\n",
        "    std = temp_pre[\"Sales_Percentage_Diff\"].std()\r\n",
        "    mean = temp_pre[\"Sales_Percentage_Diff\"].mean()\r\n",
        "    #print(std, mean)\r\n",
        "    for t_month in scaledsales_vs_trial[scaledsales_vs_trial[\"trial_period\"] == \"trial\"][\"YEARMONTH\"].unique():\r\n",
        "        pdif = scaledsales_vs_trial[(scaledsales_vs_trial[\"YEARMONTH\"] == t_month) & (scaledsales_vs_trial[\"t_STORE_NBR\"] == trial)][\"Sales_Percentage_Diff\"]\r\n",
        "        print(t_month,\":\",(float(pdif)-mean)/std)\r\n",
        "    print('\\n')\r\n",
        "    \r\n",
        "print(\"Critical t-value for 95% confidence interval:\")\r\n",
        "conf_intv_95 = t.ppf(0.95, df=len(temp_pre)-1)\r\n",
        "print(conf_intv_95)"
      ],
      "execution_count": 31,
      "outputs": [
        {
          "output_type": "stream",
          "text": [
            "Trial store: 77 , Control store: 233\n",
            "201902 : -0.7171038288055888\n",
            "201903 : 3.035317928855662\n",
            "201904 : 4.708944418758203\n",
            "\n",
            "\n",
            "Trial store: 86 , Control store: 155\n",
            "201902 : 1.4133618775921797\n",
            "201903 : 7.123063846042149\n",
            "201904 : 0.8863824572944162\n",
            "\n",
            "\n",
            "Trial store: 88 , Control store: 40\n",
            "201902 : -0.5481633746817604\n",
            "201903 : 1.0089992743637755\n",
            "201904 : 0.9710006270463645\n",
            "\n",
            "\n",
            "Critical t-value for 95% confidence interval:\n",
            "1.9431802803927816\n"
          ],
          "name": "stdout"
        }
      ]
    },
    {
      "cell_type": "markdown",
      "metadata": {
        "id": "ipBQBBA7F1bM"
      },
      "source": [
        "\r\n",
        "There are 3 months' increase in performance that are statistically significant (Above the 95% confidence interval t-score):\r\n",
        "\r\n",
        "March and April trial months for trial store 77\r\n",
        "\r\n",
        "March trial months for trial store 86"
      ]
    },
    {
      "cell_type": "code",
      "metadata": {
        "colab": {
          "base_uri": "https://localhost:8080/",
          "height": 935
        },
        "id": "w7CuojO8FnVU",
        "outputId": "93da568e-e31b-43e7-a9ad-a25922ea128a"
      },
      "source": [
        "for trial, control in trial_control_dic.items():\r\n",
        "    a = trial_scaled_sales_control_stores[trial_scaled_sales_control_stores[\"STORE_NBR\"] == control].rename(columns={\"TOT_SALES\": \"control_TOT_SALES\"})\r\n",
        "    b = trial_full_observ[trial_full_observ[\"STORE_NBR\"] == trial][[\"STORE_NBR\", \"YEARMONTH\", \"TOT_SALES\"]].rename(columns={\"TOT_SALES\": \"trial_TOT_SALES\"})\r\n",
        "    comb = b[[\"YEARMONTH\", \"trial_TOT_SALES\"]].merge(a[[\"YEARMONTH\", \"control_TOT_SALES\"]],on=\"YEARMONTH\").set_index(\"YEARMONTH\")\r\n",
        "    comb.plot.bar()\r\n",
        "    cont_sc_sales = trial_scaled_sales_control_stores[trial_scaled_sales_control_stores[\"STORE_NBR\"] == control][\"TOT_SALES\"]\r\n",
        "    std = scaledsales_vs_trial[(scaledsales_vs_trial[\"c_STORE_NBR\"] == control) & (scaledsales_vs_trial[\"trial_period\"]==\"pre\")][\"Sales_Percentage_Diff\"].std()\r\n",
        "    thresh95 = cont_sc_sales.mean() + (cont_sc_sales.mean() * std * 2)\r\n",
        "    thresh5 = cont_sc_sales.mean() - (cont_sc_sales.mean() * std * 2)\r\n",
        "    plt.axhline(y=thresh95,linewidth=1, color='b', label=\"95% threshold\")\r\n",
        "    plt.axhline(y=thresh5,linewidth=1, color='r', label=\"5% threshold\")\r\n",
        "    plt.legend(loc='center left', bbox_to_anchor=(1.0, 0.5))\r\n",
        "    plt.title(\"Trial Store \"+str(trial)+\" and Control Store \"+str(control)+\" - Total Sales\")\r\n",
        "    plt.savefig(\"TS {} and CS {} - TOT_SALES.png\".format(trial,control), bbox_inches=\"tight\")"
      ],
      "execution_count": 32,
      "outputs": [
        {
          "output_type": "display_data",
          "data": {
            "image/png": "[encoded data removed]",
            "text/plain": [
              "<Figure size 432x288 with 1 Axes>"
            ]
          },
          "metadata": {
            "tags": [],
            "needs_background": "light"
          }
        },
        {
          "output_type": "display_data",
          "data": {
            "image/png": "[encoded data removed]",
            "text/plain": [
              "<Figure size 432x288 with 1 Axes>"
            ]
          },
          "metadata": {
            "tags": [],
            "needs_background": "light"
          }
        },
        {
          "output_type": "display_data",
          "data": {
            "image/png": "[encoded data removed]",
            "text/plain": [
              "<Figure size 432x288 with 1 Axes>"
            ]
          },
          "metadata": {
            "tags": [],
            "needs_background": "light"
          }
        }
      ]
    },
    {
      "cell_type": "code",
      "metadata": {
        "id": "236RaKOSFnSz"
      },
      "source": [
        "#Ratio of Store 77 and its Control store.\r\n",
        "ncust_ratio_77 = pretrial_full_observ[pretrial_full_observ[\"STORE_NBR\"] == 77][\"nCustomers\"].sum() / pretrial_full_observ[pretrial_full_observ[\"STORE_NBR\"] == 233][\"nCustomers\"].sum()\r\n",
        "\r\n",
        "#Ratio of Store 86 and its Control store.\r\n",
        "ncust_ratio_86 = pretrial_full_observ[pretrial_full_observ[\"STORE_NBR\"] == 86][\"nCustomers\"].sum() / pretrial_full_observ[pretrial_full_observ[\"STORE_NBR\"] == 155][\"nCustomers\"].sum()\r\n",
        "\r\n",
        "#Ratio of Store 77 and its Control store.\r\n",
        "ncust_ratio_88 = pretrial_full_observ[pretrial_full_observ[\"STORE_NBR\"] == 88][\"nCustomers\"].sum() / pretrial_full_observ[pretrial_full_observ[\"STORE_NBR\"] == 40][\"nCustomers\"].sum()"
      ],
      "execution_count": 33,
      "outputs": []
    },
    {
      "cell_type": "code",
      "metadata": {
        "colab": {
          "base_uri": "https://localhost:8080/",
          "height": 935
        },
        "id": "wutX9m6SFnPW",
        "outputId": "febf692b-10f7-4c4f-ba8d-a4d2a0e68d50"
      },
      "source": [
        "#trial_full_observ = full_observ[(full_observ[\"YEARMONTH\"] >= 201902) & (full_observ[\"YEARMONTH\"] <= 201904)]\r\n",
        "scaled_ncust_control_stores = full_observ[full_observ[\"STORE_NBR\"].isin([233, 155, 40])][[\"STORE_NBR\", \"YEARMONTH\", \"nCustomers\"]]\r\n",
        "\r\n",
        "def scaler_c(row):\r\n",
        "    if row[\"STORE_NBR\"] == 233:\r\n",
        "        return row[\"nCustomers\"] * ncust_ratio_77\r\n",
        "    elif row[\"STORE_NBR\"] == 155:\r\n",
        "        return row[\"nCustomers\"] * ncust_ratio_86\r\n",
        "    elif row[\"STORE_NBR\"] == 40:\r\n",
        "        return row[\"nCustomers\"] * ncust_ratio_88\r\n",
        "\r\n",
        "scaled_ncust_control_stores[\"ScaledNcust\"] = scaled_ncust_control_stores.apply(lambda row: scaler_c(row), axis=1)\r\n",
        "\r\n",
        "trial_scaled_ncust_control_stores = scaled_ncust_control_stores[(scaled_ncust_control_stores[\"YEARMONTH\"] >= 201902) & (scaled_ncust_control_stores[\"YEARMONTH\"] <= 201904)]\r\n",
        "pretrial_scaled_ncust_control_stores = scaled_ncust_control_stores[scaled_ncust_control_stores[\"YEARMONTH\"] < 201902]\r\n",
        "\r\n",
        "ncust_percentage_diff = {}\r\n",
        "\r\n",
        "for trial, control in trial_control_dic.items():\r\n",
        "    a = trial_scaled_ncust_control_stores[trial_scaled_ncust_control_stores[\"STORE_NBR\"] == control]\r\n",
        "    b = trial_full_observ[trial_full_observ[\"STORE_NBR\"] == trial][[\"STORE_NBR\", \"YEARMONTH\", \"nCustomers\"]]\r\n",
        "    ncust_percentage_diff[trial] = b[\"nCustomers\"].sum() / a[\"ScaledNcust\"].sum()\r\n",
        "    b[[\"YEARMONTH\", \"nCustomers\"]].merge(a[[\"YEARMONTH\", \"ScaledNcust\"]],on=\"YEARMONTH\").set_index(\"YEARMONTH\").rename(columns={\"ScaledSales\":\"Scaled_Control_nCust\", \"TOT_SALES\":\"Trial_nCust\"}).plot.bar()\r\n",
        "    plt.legend(loc='center left', bbox_to_anchor=(1.0, 0.5))\r\n",
        "    plt.title(\"Trial Store \"+str(trial)+\" and Control Store \"+str(control))"
      ],
      "execution_count": 34,
      "outputs": [
        {
          "output_type": "display_data",
          "data": {
            "image/png": "[encoded data removed]",
            "text/plain": [
              "<Figure size 432x288 with 1 Axes>"
            ]
          },
          "metadata": {
            "tags": [],
            "needs_background": "light"
          }
        },
        {
          "output_type": "display_data",
          "data": {
            "image/png": "[encoded data removed]",
            "text/plain": [
              "<Figure size 432x288 with 1 Axes>"
            ]
          },
          "metadata": {
            "tags": [],
            "needs_background": "light"
          }
        },
        {
          "output_type": "display_data",
          "data": {
            "image/png": "[encoded data removed]",
            "text/plain": [
              "<Figure size 432x288 with 1 Axes>"
            ]
          },
          "metadata": {
            "tags": [],
            "needs_background": "light"
          }
        }
      ]
    },
    {
      "cell_type": "code",
      "metadata": {
        "colab": {
          "base_uri": "https://localhost:8080/"
        },
        "id": "lPJZq6xhFnNY",
        "outputId": "67ff149d-028e-4496-fad4-d474b97f64b9"
      },
      "source": [
        "ncust_percentage_diff"
      ],
      "execution_count": 35,
      "outputs": [
        {
          "output_type": "execute_result",
          "data": {
            "text/plain": [
              "{77: 1.2306529009742622, 86: 1.1354166666666667, 88: 1.0444876946258161}"
            ]
          },
          "metadata": {
            "tags": []
          },
          "execution_count": 35
        }
      ]
    },
    {
      "cell_type": "code",
      "metadata": {
        "colab": {
          "base_uri": "https://localhost:8080/",
          "height": 316
        },
        "id": "6MewaZpdFnJo",
        "outputId": "882dd611-4aa6-4a73-ee8b-cc2cb0c3a661"
      },
      "source": [
        "temp1 = scaled_ncust_control_stores.sort_values(by=[\"STORE_NBR\", \"YEARMONTH\"], ascending=[False, True]).reset_index().drop([\"nCustomers\", \"index\"], axis=1)\r\n",
        "temp2 = full_observ[full_observ[\"STORE_NBR\"].isin([77,86,88])][[\"STORE_NBR\", \"YEARMONTH\", \"nCustomers\"]].reset_index().drop([\"index\", \"YEARMONTH\"], axis=1)\r\n",
        "scaledncust_vs_trial = pd.concat([temp1, temp2], axis=1)\r\n",
        "scaledncust_vs_trial.columns = [\"c_STORE_NBR\", \"YEARMONTH\", \"c_ScaledNcust\", \"t_STORE_NBR\", \"t_nCustomers\"]\r\n",
        "scaledncust_vs_trial[\"nCust_Percentage_Diff\"] = (scaledncust_vs_trial[\"t_nCustomers\"] - scaledncust_vs_trial[\"c_ScaledNcust\"]) / (((scaledncust_vs_trial[\"t_nCustomers\"] + scaledncust_vs_trial[\"c_ScaledNcust\"])/2))\r\n",
        "\r\n",
        "scaledncust_vs_trial[\"trial_period\"] = scaledncust_vs_trial[\"YEARMONTH\"].apply(lambda cell: label_period(cell))\r\n",
        "scaledncust_vs_trial[scaledncust_vs_trial[\"trial_period\"] == \"trial\"]"
      ],
      "execution_count": 36,
      "outputs": [
        {
          "output_type": "execute_result",
          "data": {
            "text/html": [
              "<div>\n",
              "<style scoped>\n",
              "    .dataframe tbody tr th:only-of-type {\n",
              "        vertical-align: middle;\n",
              "    }\n",
              "\n",
              "    .dataframe tbody tr th {\n",
              "        vertical-align: top;\n",
              "    }\n",
              "\n",
              "    .dataframe thead th {\n",
              "        text-align: right;\n",
              "    }\n",
              "</style>\n",
              "<table border=\"1\" class=\"dataframe\">\n",
              "  <thead>\n",
              "    <tr style=\"text-align: right;\">\n",
              "      <th></th>\n",
              "      <th>c_STORE_NBR</th>\n",
              "      <th>YEARMONTH</th>\n",
              "      <th>c_ScaledNcust</th>\n",
              "      <th>t_STORE_NBR</th>\n",
              "      <th>t_nCustomers</th>\n",
              "      <th>nCust_Percentage_Diff</th>\n",
              "      <th>trial_period</th>\n",
              "    </tr>\n",
              "  </thead>\n",
              "  <tbody>\n",
              "    <tr>\n",
              "      <th>7</th>\n",
              "      <td>233</td>\n",
              "      <td>201902</td>\n",
              "      <td>45.151007</td>\n",
              "      <td>77</td>\n",
              "      <td>45</td>\n",
              "      <td>-0.003350</td>\n",
              "      <td>trial</td>\n",
              "    </tr>\n",
              "    <tr>\n",
              "      <th>8</th>\n",
              "      <td>233</td>\n",
              "      <td>201903</td>\n",
              "      <td>40.134228</td>\n",
              "      <td>77</td>\n",
              "      <td>50</td>\n",
              "      <td>0.218913</td>\n",
              "      <td>trial</td>\n",
              "    </tr>\n",
              "    <tr>\n",
              "      <th>9</th>\n",
              "      <td>233</td>\n",
              "      <td>201904</td>\n",
              "      <td>30.100671</td>\n",
              "      <td>77</td>\n",
              "      <td>47</td>\n",
              "      <td>0.438370</td>\n",
              "      <td>trial</td>\n",
              "    </tr>\n",
              "    <tr>\n",
              "      <th>19</th>\n",
              "      <td>155</td>\n",
              "      <td>201902</td>\n",
              "      <td>95.000000</td>\n",
              "      <td>86</td>\n",
              "      <td>107</td>\n",
              "      <td>0.118812</td>\n",
              "      <td>trial</td>\n",
              "    </tr>\n",
              "    <tr>\n",
              "      <th>20</th>\n",
              "      <td>155</td>\n",
              "      <td>201903</td>\n",
              "      <td>94.000000</td>\n",
              "      <td>86</td>\n",
              "      <td>115</td>\n",
              "      <td>0.200957</td>\n",
              "      <td>trial</td>\n",
              "    </tr>\n",
              "    <tr>\n",
              "      <th>21</th>\n",
              "      <td>155</td>\n",
              "      <td>201904</td>\n",
              "      <td>99.000000</td>\n",
              "      <td>86</td>\n",
              "      <td>105</td>\n",
              "      <td>0.058824</td>\n",
              "      <td>trial</td>\n",
              "    </tr>\n",
              "    <tr>\n",
              "      <th>31</th>\n",
              "      <td>40</td>\n",
              "      <td>201902</td>\n",
              "      <td>127.610209</td>\n",
              "      <td>88</td>\n",
              "      <td>124</td>\n",
              "      <td>-0.028697</td>\n",
              "      <td>trial</td>\n",
              "    </tr>\n",
              "    <tr>\n",
              "      <th>32</th>\n",
              "      <td>40</td>\n",
              "      <td>201903</td>\n",
              "      <td>120.464037</td>\n",
              "      <td>88</td>\n",
              "      <td>134</td>\n",
              "      <td>0.106388</td>\n",
              "      <td>trial</td>\n",
              "    </tr>\n",
              "    <tr>\n",
              "      <th>33</th>\n",
              "      <td>40</td>\n",
              "      <td>201904</td>\n",
              "      <td>121.484919</td>\n",
              "      <td>88</td>\n",
              "      <td>128</td>\n",
              "      <td>0.052228</td>\n",
              "      <td>trial</td>\n",
              "    </tr>\n",
              "  </tbody>\n",
              "</table>\n",
              "</div>"
            ],
            "text/plain": [
              "    c_STORE_NBR  YEARMONTH  ...  nCust_Percentage_Diff  trial_period\n",
              "7           233     201902  ...              -0.003350         trial\n",
              "8           233     201903  ...               0.218913         trial\n",
              "9           233     201904  ...               0.438370         trial\n",
              "19          155     201902  ...               0.118812         trial\n",
              "20          155     201903  ...               0.200957         trial\n",
              "21          155     201904  ...               0.058824         trial\n",
              "31           40     201902  ...              -0.028697         trial\n",
              "32           40     201903  ...               0.106388         trial\n",
              "33           40     201904  ...               0.052228         trial\n",
              "\n",
              "[9 rows x 7 columns]"
            ]
          },
          "metadata": {
            "tags": []
          },
          "execution_count": 36
        }
      ]
    },
    {
      "cell_type": "markdown",
      "metadata": {
        "id": "vtcHZRLFGQSk"
      },
      "source": [
        "Check significance of Trial minus Control stores nCustomers Percentage Difference Pre-Trial vs Trial.\r\n",
        "\r\n",
        "Step 1: Check null hypothesis of 0 difference between control store's Pre-Trial and Trial period performance.\r\n",
        "\r\n",
        "Step 2: Proof control and trial stores are similar statistically\r\n",
        "\r\n",
        "Step 3: After checking Null Hypothesis of first 2 step to be true, we can check Null Hypothesis of Percentage Difference between Trial and Control stores during pre-trial is the same as during trial."
      ]
    },
    {
      "cell_type": "code",
      "metadata": {
        "colab": {
          "base_uri": "https://localhost:8080/"
        },
        "id": "3HNHGLHwFnHA",
        "outputId": "18977f49-7d15-40a1-d55f-b3fedc5ba55c"
      },
      "source": [
        "# Step 1\r\n",
        "for num in [40, 155, 233]:\r\n",
        "    print(\"Store\", num)\r\n",
        "    print(ttest_ind(pretrial_scaled_ncust_control_stores[pretrial_scaled_ncust_control_stores[\"STORE_NBR\"] == num][\"ScaledNcust\"],\r\n",
        "                   trial_scaled_ncust_control_stores[trial_scaled_ncust_control_stores[\"STORE_NBR\"] == num][\"ScaledNcust\"],\r\n",
        "                   equal_var=False), '\\n')\r\n",
        "    \r\n",
        "alpha = 0.05\r\n",
        "print(\"Critical t-value for 95% confidence interval:\")\r\n",
        "print(t.ppf((alpha/2, 1-alpha/2), df=min([len(pretrial_scaled_ncust_control_stores[pretrial_scaled_ncust_control_stores[\"STORE_NBR\"] == num]),\r\n",
        "                       len(trial_scaled_ncust_control_stores[trial_scaled_ncust_control_stores[\"STORE_NBR\"] == num])])-1))"
      ],
      "execution_count": 37,
      "outputs": [
        {
          "output_type": "stream",
          "text": [
            "Store 40\n",
            "Ttest_indResult(statistic=0.644732693420032, pvalue=0.5376573016017127) \n",
            "\n",
            "Store 155\n",
            "Ttest_indResult(statistic=1.3888888888888882, pvalue=0.204345986327886) \n",
            "\n",
            "Store 233\n",
            "Ttest_indResult(statistic=0.8442563765225701, pvalue=0.4559280037660254) \n",
            "\n",
            "Critical t-value for 95% confidence interval:\n",
            "[-4.30265273  4.30265273]\n"
          ],
          "name": "stdout"
        }
      ]
    },
    {
      "cell_type": "code",
      "metadata": {
        "colab": {
          "base_uri": "https://localhost:8080/"
        },
        "id": "l4ZRTLLtGVQu",
        "outputId": "04edecb1-2f89-4465-8c90-0731a4d70f2c"
      },
      "source": [
        "# Step 2\r\n",
        "for trial, cont in trial_control_dic.items():\r\n",
        "    print(\"Trial store:\", trial, \", Control store:\", cont)\r\n",
        "    print(ttest_ind(pretrial_full_observ[pretrial_full_observ[\"STORE_NBR\"] == trial][\"nCustomers\"],\r\n",
        "                   pretrial_scaled_ncust_control_stores[pretrial_scaled_ncust_control_stores[\"STORE_NBR\"] == cont][\"ScaledNcust\"],\r\n",
        "                   equal_var=True), '\\n')\r\n",
        "\r\n",
        "alpha = 0.05\r\n",
        "print(\"Critical t-value for 95% confidence interval:\")\r\n",
        "print(t.ppf((alpha/2, 1-alpha/2), df=len(pretrial_full_observ[pretrial_full_observ[\"STORE_NBR\"] == trial])-1))"
      ],
      "execution_count": 38,
      "outputs": [
        {
          "output_type": "stream",
          "text": [
            "Trial store: 77 , Control store: 233\n",
            "Ttest_indResult(statistic=0.0, pvalue=1.0) \n",
            "\n",
            "Trial store: 86 , Control store: 155\n",
            "Ttest_indResult(statistic=0.0, pvalue=1.0) \n",
            "\n",
            "Trial store: 88 , Control store: 40\n",
            "Ttest_indResult(statistic=-7.648483953264653e-15, pvalue=0.999999999999994) \n",
            "\n",
            "Critical t-value for 95% confidence interval:\n",
            "[-2.44691185  2.44691185]\n"
          ],
          "name": "stdout"
        }
      ]
    },
    {
      "cell_type": "code",
      "metadata": {
        "colab": {
          "base_uri": "https://localhost:8080/"
        },
        "id": "o0VdPXArGVtm",
        "outputId": "78e60ef9-2aa2-40cd-99c6-b5231b3a5bb2"
      },
      "source": [
        "# Step 3\r\n",
        "for trial, cont in trial_control_dic.items():\r\n",
        "    print(\"Trial store:\", trial, \", Control store:\", cont)\r\n",
        "    temp_pre = scaledncust_vs_trial[(scaledncust_vs_trial[\"c_STORE_NBR\"] == cont) & (scaledncust_vs_trial[\"trial_period\"]==\"pre\")]\r\n",
        "    std = temp_pre[\"nCust_Percentage_Diff\"].std()\r\n",
        "    mean = temp_pre[\"nCust_Percentage_Diff\"].mean()\r\n",
        "    #print(std, mean)\r\n",
        "    for t_month in scaledncust_vs_trial[scaledncust_vs_trial[\"trial_period\"] == \"trial\"][\"YEARMONTH\"].unique():\r\n",
        "        pdif = scaledncust_vs_trial[(scaledncust_vs_trial[\"YEARMONTH\"] == t_month) & (scaledncust_vs_trial[\"t_STORE_NBR\"] == trial)][\"nCust_Percentage_Diff\"]\r\n",
        "        print(t_month,\":\",(float(pdif)-mean)/std)\r\n",
        "    print('\\n')\r\n",
        "    \r\n",
        "print(\"Critical t-value for 95% confidence interval:\")\r\n",
        "conf_intv_95 = t.ppf(0.95, df=len(temp_pre)-1)\r\n",
        "print(conf_intv_95)"
      ],
      "execution_count": 39,
      "outputs": [
        {
          "output_type": "stream",
          "text": [
            "Trial store: 77 , Control store: 233\n",
            "201902 : -0.19886295797440687\n",
            "201903 : 8.009609025380932\n",
            "201904 : 16.114474772873923\n",
            "\n",
            "\n",
            "Trial store: 86 , Control store: 155\n",
            "201902 : 6.220524882227514\n",
            "201903 : 10.52599074274189\n",
            "201904 : 3.0763575852842706\n",
            "\n",
            "\n",
            "Trial store: 88 , Control store: 40\n",
            "201902 : -0.3592881735131531\n",
            "201903 : 1.2575196020616801\n",
            "201904 : 0.6092905590514273\n",
            "\n",
            "\n",
            "Critical t-value for 95% confidence interval:\n",
            "1.9431802803927816\n"
          ],
          "name": "stdout"
        }
      ]
    },
    {
      "cell_type": "markdown",
      "metadata": {
        "id": "PizmI6PzGfmt"
      },
      "source": [
        "\r\n",
        "There are 5 months' increase in performance that are statistically significant (Above the 95% confidence interval t-score):\r\n",
        "\r\n",
        "March and April trial months for trial store 77\r\n",
        "\r\n",
        "Feb, March and April trial months for trial store 86"
      ]
    },
    {
      "cell_type": "code",
      "metadata": {
        "colab": {
          "base_uri": "https://localhost:8080/",
          "height": 935
        },
        "id": "pQwuBwljGhb8",
        "outputId": "c639f95a-fb54-4e58-a223-ccaa1b88d9d8"
      },
      "source": [
        "for trial, control in trial_control_dic.items():\r\n",
        "    a = trial_scaled_ncust_control_stores[trial_scaled_ncust_control_stores[\"STORE_NBR\"] == control].rename(columns={\"nCustomers\": \"control_nCustomers\"})\r\n",
        "    b = trial_full_observ[trial_full_observ[\"STORE_NBR\"] == trial][[\"STORE_NBR\", \"YEARMONTH\", \"nCustomers\"]].rename(columns={\"nCustomers\": \"trial_nCustomers\"})\r\n",
        "    comb = b[[\"YEARMONTH\", \"trial_nCustomers\"]].merge(a[[\"YEARMONTH\", \"control_nCustomers\"]],on=\"YEARMONTH\").set_index(\"YEARMONTH\")\r\n",
        "    comb.plot.bar()\r\n",
        "    cont_sc_ncust = trial_scaled_ncust_control_stores[trial_scaled_ncust_control_stores[\"STORE_NBR\"] == control][\"nCustomers\"]\r\n",
        "    std = scaledncust_vs_trial[(scaledncust_vs_trial[\"c_STORE_NBR\"] == control) & (scaledncust_vs_trial[\"trial_period\"]==\"pre\")][\"nCust_Percentage_Diff\"].std()\r\n",
        "    thresh95 = cont_sc_ncust.mean() + (cont_sc_ncust.mean() * std * 2)\r\n",
        "    thresh5 = cont_sc_ncust.mean() - (cont_sc_ncust.mean() * std * 2)\r\n",
        "    plt.axhline(y=thresh95,linewidth=1, color='b', label=\"95% threshold\")\r\n",
        "    plt.axhline(y=thresh5,linewidth=1, color='r', label=\"5% threshold\")\r\n",
        "    plt.legend(loc='center left', bbox_to_anchor=(1.0, 0.5))\r\n",
        "    plt.title(\"Trial Store \"+str(trial)+\" and Control Store \"+str(control)+\" - Number of Customers\")\r\n",
        "    plt.savefig(\"TS {} and CS {} - nCustomers.png\".format(trial,control), bbox_inches=\"tight\")"
      ],
      "execution_count": 40,
      "outputs": [
        {
          "output_type": "display_data",
          "data": {
            "image/png": "[encoded data removed]",
            "text/plain": [
              "<Figure size 432x288 with 1 Axes>"
            ]
          },
          "metadata": {
            "tags": [],
            "needs_background": "light"
          }
        },
        {
          "output_type": "display_data",
          "data": {
            "image/png": "[encoded data removed]",
            "text/plain": [
              "<Figure size 432x288 with 1 Axes>"
            ]
          },
          "metadata": {
            "tags": [],
            "needs_background": "light"
          }
        },
        {
          "output_type": "display_data",
          "data": {
            "image/png": "[encoded data removed]",
            "text/plain": [
              "<Figure size 432x288 with 1 Axes>"
            ]
          },
          "metadata": {
            "tags": [],
            "needs_background": "light"
          }
        }
      ]
    },
    {
      "cell_type": "markdown",
      "metadata": {
        "id": "QFKJDMtsGmUa"
      },
      "source": [
        "We can see that Trial store 77 sales for Feb, March, and April exceeds 95% threshold of control store. Same goes to store 86 sales for all 3 trial months.\r\n",
        "\r\n",
        "1. Trial store 77: Control store 233\r\n",
        "2. Trial store 86: Control store 155\r\n",
        "3. Trial store 88: Control store 40\r\n",
        "4. Both trial store 77 and 86 showed significant increase in Total Sales and Number of Customers during trial period. But not for trial store 88. Perhaps the client knows if there's anything about trial 88 that differs it from the other two trial.\r\n",
        "5. Overall the trial showed positive significant result."
      ]
    }
  ]
}